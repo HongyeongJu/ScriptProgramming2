{
 "cells": [
  {
   "cell_type": "markdown",
   "metadata": {},
   "source": [
    "<h1> 1번 문제 </h1>\n",
    "# 1번 문제\n",
    "- a=\"Hello Python\" 문자열을 Slicing과 연결 연산자 (+)를 사용하여 \"Python Hello\"로 변경하시오.\n",
    "  - [주의] a 변수 자체에 \"Python Hello\" 문자열이 저장되어야 함\n",
    "  - 11111\n",
    "  - 2222\n",
    "  - 41421\n",
    "- ㅇㅁㅁㅁㅁㅇㄴㅁㅁㅇㅁㅇㅁㅇㅁㅁ\n",
    "- ㄴㅁㅇㅁㅇㅁㅇㄴㅁㅁ\n",
    "    - ㅁㅇㄴㅁㅇㅁ\n",
    "    - ㄴㅁㅇㄴㅁㅇ\n",
    "    - ㅇㅁㅇㅁ\n",
    "    \n",
    "    - 워드프레스\n",
    "    \n",
    "    \n",
    "    nbviewer.jupyter.org 로 !! \n",
    "    "
   ]
  },
  {
   "cell_type": "markdown",
   "metadata": {},
   "source": [
    "![caption](img/Chrysanthemum.jpg)\n",
    "\n",
    "<img src = \"img/Chrysanthemum.jpg\" width =\"50%\" />"
   ]
  },
  {
   "cell_type": "code",
   "execution_count": 2,
   "metadata": {},
   "outputs": [
    {
     "name": "stdout",
     "output_type": "stream",
     "text": [
      "1\n",
      "2\n",
      "\n",
      "1\n",
      "2\n"
     ]
    }
   ],
   "source": [
    "print(1),\n",
    "print(2)\n",
    "# 1 2\n",
    "print()\n",
    "print(1)\n",
    "print(2)"
   ]
  },
  {
   "cell_type": "code",
   "execution_count": 6,
   "metadata": {},
   "outputs": [
    {
     "name": "stdout",
     "output_type": "stream",
     "text": [
      "1, 2\n",
      "\n",
      "1\n",
      "2\n",
      "3, 55\n"
     ]
    }
   ],
   "source": [
    "print(1, end=\", \")\n",
    "print(2)\n",
    "\n",
    "print()\n",
    "\n",
    "print(1, end = '\\n')\n",
    "print(2)\n",
    "print(3, end = ', ')\n",
    "print(55)"
   ]
  },
  {
   "cell_type": "code",
   "execution_count": 7,
   "metadata": {},
   "outputs": [
    {
     "ename": "TypeError",
     "evalue": "unsupported operand type(s) for +: 'int' and 'str'",
     "output_type": "error",
     "traceback": [
      "\u001b[1;31m---------------------------------------------------------------------------\u001b[0m",
      "\u001b[1;31mTypeError\u001b[0m                                 Traceback (most recent call last)",
      "\u001b[1;32m<ipython-input-7-5e105a439075>\u001b[0m in \u001b[0;36m<module>\u001b[1;34m()\u001b[0m\n\u001b[1;32m----> 1\u001b[1;33m \u001b[0mprint\u001b[0m\u001b[1;33m(\u001b[0m\u001b[1;36m12\u001b[0m \u001b[1;33m+\u001b[0m \u001b[1;34m'spam'\u001b[0m\u001b[1;33m)\u001b[0m\u001b[1;33m\u001b[0m\u001b[0m\n\u001b[0m",
      "\u001b[1;31mTypeError\u001b[0m: unsupported operand type(s) for +: 'int' and 'str'"
     ]
    }
   ],
   "source": [
    "print(12 + 'spam')"
   ]
  },
  {
   "cell_type": "code",
   "execution_count": 8,
   "metadata": {},
   "outputs": [
    {
     "name": "stdout",
     "output_type": "stream",
     "text": [
      "12spam\n"
     ]
    }
   ],
   "source": [
    "print('12' + 'spam')"
   ]
  },
  {
   "cell_type": "code",
   "execution_count": 9,
   "metadata": {},
   "outputs": [
    {
     "name": "stdout",
     "output_type": "stream",
     "text": [
      "<class 'int'> <class 'int'> <class 'int'>\n",
      "23 19 35\n"
     ]
    }
   ],
   "source": [
    "a = 23 # 10진 ㅈㅇ수\n",
    "b = 0o23 # 8진 ㅓㅈㅇ수\n",
    "c = 0x23 # 16진 ㅈㅇ수\n",
    "print(type(a), type(b), type(c))\n",
    "print(a, b, c)\n"
   ]
  },
  {
   "cell_type": "code",
   "execution_count": 10,
   "metadata": {},
   "outputs": [
    {
     "name": "stdout",
     "output_type": "stream",
     "text": [
      "9223372036854775807\n"
     ]
    }
   ],
   "source": [
    "import sys\n",
    "print(sys.maxsize)"
   ]
  },
  {
   "cell_type": "code",
   "execution_count": 11,
   "metadata": {},
   "outputs": [
    {
     "name": "stdout",
     "output_type": "stream",
     "text": [
      "<class 'float'> <class 'float'> <class 'float'>\n",
      "1.2 3500.0 -2e-05\n"
     ]
    }
   ],
   "source": [
    "a = 1.2   # 파이썬은 자동으로 type이 float로 설정이 된다.\n",
    "b = 3.5e3\n",
    "c = -0.2e-4\n",
    "print(type(a), type(b) , type(c))\n",
    "print(a, b, c)"
   ]
  },
  {
   "cell_type": "code",
   "execution_count": 15,
   "metadata": {},
   "outputs": [
    {
     "name": "stdout",
     "output_type": "stream",
     "text": [
      "ㅎㅇ0.15\n"
     ]
    }
   ],
   "source": [
    "print(\"ㅎㅇ{:0.2f}\".format(0.1454))"
   ]
  },
  {
   "cell_type": "code",
   "execution_count": 16,
   "metadata": {},
   "outputs": [
    {
     "name": "stdout",
     "output_type": "stream",
     "text": [
      "<class 'int'>\n",
      "1524157875323883675049537351290637160453892248158662379052100\n",
      "\n",
      "<class 'int'>\n",
      "152415787532388367504953515650053345677488187778997104100\n",
      "\n",
      "<class 'int'>\n",
      "\n",
      "123\n"
     ]
    }
   ],
   "source": [
    "h1 = 1234567890123456789012346567890\n",
    "print(type(h1))\n",
    "print(h1 * h1)\n",
    "print()\n",
    "\n",
    "h2 = 12345678901234567890123456790\n",
    "print(type(h2))\n",
    "print(h2 * h2)\n",
    "print()\n",
    "\n",
    "h3 = 123\n",
    "print(type(h3))\n",
    "print()\n",
    "\n",
    "h4 = 123\n",
    "print(h4)"
   ]
  },
  {
   "cell_type": "code",
   "execution_count": 17,
   "metadata": {},
   "outputs": [
    {
     "name": "stdout",
     "output_type": "stream",
     "text": [
      "<class 'complex'>\n"
     ]
    }
   ],
   "source": [
    "a = 10 + 20j\n",
    "print(type(a))"
   ]
  },
  {
   "cell_type": "code",
   "execution_count": 18,
   "metadata": {
    "collapsed": true
   },
   "outputs": [],
   "source": [
    "x = 1\n",
    "x = 2"
   ]
  },
  {
   "cell_type": "code",
   "execution_count": null,
   "metadata": {
    "collapsed": true
   },
   "outputs": [],
   "source": [
    "print(int(3.991592))\n",
    "print(int(-3.9915))"
   ]
  }
 ],
 "metadata": {
  "kernelspec": {
   "display_name": "Python 3",
   "language": "python",
   "name": "python3"
  },
  "language_info": {
   "codemirror_mode": {
    "name": "ipython",
    "version": 3
   },
   "file_extension": ".py",
   "mimetype": "text/x-python",
   "name": "python",
   "nbconvert_exporter": "python",
   "pygments_lexer": "ipython3",
   "version": "3.6.1"
  }
 },
 "nbformat": 4,
 "nbformat_minor": 2
}
