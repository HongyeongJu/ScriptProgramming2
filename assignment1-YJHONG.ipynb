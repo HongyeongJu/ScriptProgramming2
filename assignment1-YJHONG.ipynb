{
 "cells": [
  {
   "cell_type": "markdown",
   "metadata": {},
   "source": [
    "<h1> 1번 문제 </h1>\n",
    "# 1번 문제\n",
    "- a=\"Hello Python\" 문자열을 Slicing과 연결 연산자 (+)를 사용하여 \"Python Hello\"로 변경하시오.\n",
    "  - [주의] a 변수 자체에 \"Python Hello\" 문자열이 저장되어야 함\n",
    "  - 11111\n",
    "  - 2222\n",
    "  - 41421\n",
    "- ㅇㅁㅁㅁㅁㅇㄴㅁㅁㅇㅁㅇㅁㅇㅁㅁ\n",
    "- ㄴㅁㅇㅁㅇㅁㅇㄴㅁㅁ\n",
    "    - ㅁㅇㄴㅁㅇㅁ\n",
    "    - ㄴㅁㅇㄴㅁㅇ\n",
    "    - ㅇㅁㅇㅁ\n",
    "    \n",
    "    - 워드프레스\n",
    "    \n",
    "    \n",
    "    nbviewer.jupyter.org 로 !! \n",
    "    "
   ]
  },
  {
   "cell_type": "markdown",
   "metadata": {},
   "source": [
    "![caption](img/Chrysanthemum.jpg)\n",
    "\n",
    "<img src = \"img/Chrysanthemum.jpg\" width =\"50%\" />"
   ]
  },
  {
   "cell_type": "code",
   "execution_count": 2,
   "metadata": {},
   "outputs": [
    {
     "name": "stdout",
     "output_type": "stream",
     "text": [
      "1\n",
      "2\n",
      "\n",
      "1\n",
      "2\n"
     ]
    }
   ],
   "source": [
    "print(1),\n",
    "print(2)\n",
    "# 1 2\n",
    "print()\n",
    "print(1)\n",
    "print(2)"
   ]
  },
  {
   "cell_type": "code",
   "execution_count": 6,
   "metadata": {},
   "outputs": [
    {
     "name": "stdout",
     "output_type": "stream",
     "text": [
      "1, 2\n",
      "\n",
      "1\n",
      "2\n",
      "3, 55\n"
     ]
    }
   ],
   "source": [
    "print(1, end=\", \")\n",
    "print(2)\n",
    "\n",
    "print()\n",
    "\n",
    "print(1, end = '\\n')\n",
    "print(2)\n",
    "print(3, end = ', ')\n",
    "print(55)"
   ]
  },
  {
   "cell_type": "code",
   "execution_count": 7,
   "metadata": {},
   "outputs": [
    {
     "ename": "TypeError",
     "evalue": "unsupported operand type(s) for +: 'int' and 'str'",
     "output_type": "error",
     "traceback": [
      "\u001b[1;31m---------------------------------------------------------------------------\u001b[0m",
      "\u001b[1;31mTypeError\u001b[0m                                 Traceback (most recent call last)",
      "\u001b[1;32m<ipython-input-7-5e105a439075>\u001b[0m in \u001b[0;36m<module>\u001b[1;34m()\u001b[0m\n\u001b[1;32m----> 1\u001b[1;33m \u001b[0mprint\u001b[0m\u001b[1;33m(\u001b[0m\u001b[1;36m12\u001b[0m \u001b[1;33m+\u001b[0m \u001b[1;34m'spam'\u001b[0m\u001b[1;33m)\u001b[0m\u001b[1;33m\u001b[0m\u001b[0m\n\u001b[0m",
      "\u001b[1;31mTypeError\u001b[0m: unsupported operand type(s) for +: 'int' and 'str'"
     ]
    }
   ],
   "source": [
    "print(12 + 'spam')"
   ]
  },
  {
   "cell_type": "code",
   "execution_count": 8,
   "metadata": {},
   "outputs": [
    {
     "name": "stdout",
     "output_type": "stream",
     "text": [
      "12spam\n"
     ]
    }
   ],
   "source": [
    "print('12' + 'spam')"
   ]
  },
  {
   "cell_type": "code",
   "execution_count": 9,
   "metadata": {},
   "outputs": [
    {
     "name": "stdout",
     "output_type": "stream",
     "text": [
      "<class 'int'> <class 'int'> <class 'int'>\n",
      "23 19 35\n"
     ]
    }
   ],
   "source": [
    "a = 23 # 10진 ㅈㅇ수\n",
    "b = 0o23 # 8진 ㅓㅈㅇ수\n",
    "c = 0x23 # 16진 ㅈㅇ수\n",
    "print(type(a), type(b), type(c))\n",
    "print(a, b, c)\n"
   ]
  },
  {
   "cell_type": "code",
   "execution_count": 10,
   "metadata": {},
   "outputs": [
    {
     "name": "stdout",
     "output_type": "stream",
     "text": [
      "9223372036854775807\n"
     ]
    }
   ],
   "source": [
    "import sys\n",
    "print(sys.maxsize)"
   ]
  },
  {
   "cell_type": "code",
   "execution_count": 11,
   "metadata": {},
   "outputs": [
    {
     "name": "stdout",
     "output_type": "stream",
     "text": [
      "<class 'float'> <class 'float'> <class 'float'>\n",
      "1.2 3500.0 -2e-05\n"
     ]
    }
   ],
   "source": [
    "a = 1.2   # 파이썬은 자동으로 type이 float로 설정이 된다.\n",
    "b = 3.5e3\n",
    "c = -0.2e-4\n",
    "print(type(a), type(b) , type(c))\n",
    "print(a, b, c)"
   ]
  },
  {
   "cell_type": "code",
   "execution_count": 15,
   "metadata": {},
   "outputs": [
    {
     "name": "stdout",
     "output_type": "stream",
     "text": [
      "ㅎㅇ0.15\n"
     ]
    }
   ],
   "source": [
    "print(\"ㅎㅇ{:0.2f}\".format(0.1454))"
   ]
  },
  {
   "cell_type": "code",
   "execution_count": 16,
   "metadata": {},
   "outputs": [
    {
     "name": "stdout",
     "output_type": "stream",
     "text": [
      "<class 'int'>\n",
      "1524157875323883675049537351290637160453892248158662379052100\n",
      "\n",
      "<class 'int'>\n",
      "152415787532388367504953515650053345677488187778997104100\n",
      "\n",
      "<class 'int'>\n",
      "\n",
      "123\n"
     ]
    }
   ],
   "source": [
    "h1 = 1234567890123456789012346567890\n",
    "print(type(h1))\n",
    "print(h1 * h1)\n",
    "print()\n",
    "\n",
    "h2 = 12345678901234567890123456790\n",
    "print(type(h2))\n",
    "print(h2 * h2)\n",
    "print()\n",
    "\n",
    "h3 = 123\n",
    "print(type(h3))\n",
    "print()\n",
    "\n",
    "h4 = 123\n",
    "print(h4)"
   ]
  },
  {
   "cell_type": "code",
   "execution_count": 17,
   "metadata": {},
   "outputs": [
    {
     "name": "stdout",
     "output_type": "stream",
     "text": [
      "<class 'complex'>\n"
     ]
    }
   ],
   "source": [
    "a = 10 + 20j\n",
    "print(type(a))"
   ]
  },
  {
   "cell_type": "code",
   "execution_count": 18,
   "metadata": {
    "collapsed": true
   },
   "outputs": [],
   "source": [
    "x = 1\n",
    "x = 2"
   ]
  },
  {
   "cell_type": "code",
   "execution_count": 19,
   "metadata": {},
   "outputs": [
    {
     "name": "stdout",
     "output_type": "stream",
     "text": [
      "3\n",
      "-3\n"
     ]
    }
   ],
   "source": [
    "print(int(3.991592))\n",
    "print(int(-3.9915))"
   ]
  },
  {
   "cell_type": "code",
   "execution_count": 21,
   "metadata": {},
   "outputs": [
    {
     "name": "stdout",
     "output_type": "stream",
     "text": [
      "<class 'tuple'>\n",
      "(2, 1)\n",
      "\n",
      "8\n",
      "18.45216910555504\n"
     ]
    }
   ],
   "source": [
    "a = divmod(5, 2)\n",
    "print(type(a))\n",
    "print(a)\n",
    "print()\n",
    "print(pow(2, 3))\n",
    "print(pow(2.3, 3.5))"
   ]
  },
  {
   "cell_type": "code",
   "execution_count": 22,
   "metadata": {},
   "outputs": [
    {
     "name": "stdout",
     "output_type": "stream",
     "text": [
      "3.141592653589793\n",
      "2.718281828459045\n",
      "0.8414709848078965\n",
      "1.4142135623730951\n"
     ]
    }
   ],
   "source": [
    "import math\n",
    "\n",
    "print(math.pi)\n",
    "print(math.e)\n",
    "print(math.sin(1.0))\n",
    "print(math.sqrt(2))"
   ]
  },
  {
   "cell_type": "code",
   "execution_count": 23,
   "metadata": {},
   "outputs": [
    {
     "name": "stdout",
     "output_type": "stream",
     "text": [
      "0.8660254037844386 0.5000000000000001 1.7320508075688767\n"
     ]
    }
   ],
   "source": [
    "r = 5.0\n",
    "a = math.pi * r * r\n",
    "\n",
    "degree = 60.0\n",
    "rad = math.pi * degree / 180.0\n",
    "print(math.sin(rad), math.cos(rad), math.tan(rad))"
   ]
  },
  {
   "cell_type": "code",
   "execution_count": 24,
   "metadata": {},
   "outputs": [
    {
     "name": "stdout",
     "output_type": "stream",
     "text": [
      "Hello World!\n",
      "Hello World!\n"
     ]
    }
   ],
   "source": [
    "print('Hello World!')\n",
    "print(\"Hello World!\")"
   ]
  },
  {
   "cell_type": "code",
   "execution_count": 25,
   "metadata": {},
   "outputs": [
    {
     "name": "stdout",
     "output_type": "stream",
     "text": [
      "Hello \" \" \" World!\n"
     ]
    }
   ],
   "source": [
    "print('Hello \" \" \" World!')"
   ]
  },
  {
   "cell_type": "code",
   "execution_count": 27,
   "metadata": {},
   "outputs": [
    {
     "name": "stdout",
     "output_type": "stream",
     "text": [
      "\n",
      "To be, or not to be\n",
      "that is the question\n",
      "\n"
     ]
    }
   ],
   "source": [
    "multiline = '''\n",
    "To be, or not to be\n",
    "that is the question\n",
    "'''\n",
    "print(multiline)"
   ]
  },
  {
   "cell_type": "code",
   "execution_count": 28,
   "metadata": {},
   "outputs": [
    {
     "name": "stdout",
     "output_type": "stream",
     "text": [
      "H\n",
      "e\n",
      "!\n",
      "d\n"
     ]
    }
   ],
   "source": [
    "s = \"Hello world!\"\n",
    "print(s[0])\n",
    "print(s[1])\n",
    "print(s[-1])\n",
    "print(s[-2])"
   ]
  },
  {
   "cell_type": "code",
   "execution_count": 29,
   "metadata": {},
   "outputs": [
    {
     "name": "stdout",
     "output_type": "stream",
     "text": [
      "el\n",
      "Hello\n"
     ]
    }
   ],
   "source": [
    "s = \"Hello world!\"\n",
    "print(s[1:3])\n",
    "print(s[0:5])"
   ]
  },
  {
   "cell_type": "code",
   "execution_count": 30,
   "metadata": {},
   "outputs": [
    {
     "name": "stdout",
     "output_type": "stream",
     "text": [
      "ello\n",
      "Hel\n",
      "Hello\n"
     ]
    }
   ],
   "source": [
    "s = 'Hello'\n",
    "print(s[1:])\n",
    "print(s[:3])\n",
    "print(s[:])"
   ]
  },
  {
   "cell_type": "code",
   "execution_count": 32,
   "metadata": {},
   "outputs": [
    {
     "name": "stdout",
     "output_type": "stream",
     "text": [
      "aceg\n",
      "hgfedcba\n"
     ]
    }
   ],
   "source": [
    "s = 'abcdefgh'\n",
    "print(s[::2])\n",
    "print(s[::-1])"
   ]
  },
  {
   "cell_type": "code",
   "execution_count": 36,
   "metadata": {},
   "outputs": [
    {
     "name": "stdout",
     "output_type": "stream",
     "text": [
      "gfed\n"
     ]
    }
   ],
   "source": [
    "s = 'abcdefgh'\n",
    "print(s[-2:-6:-1])"
   ]
  },
  {
   "cell_type": "markdown",
   "metadata": {},
   "source": [
    "step이 음수이면 start 디폴트 인덱스가 -1"
   ]
  },
  {
   "cell_type": "code",
   "execution_count": 38,
   "metadata": {},
   "outputs": [
    {
     "ename": "TypeError",
     "evalue": "'str' object does not support item assignment",
     "output_type": "error",
     "traceback": [
      "\u001b[1;31m---------------------------------------------------------------------------\u001b[0m",
      "\u001b[1;31mTypeError\u001b[0m                                 Traceback (most recent call last)",
      "\u001b[1;32m<ipython-input-38-b0db8098db83>\u001b[0m in \u001b[0;36m<module>\u001b[1;34m()\u001b[0m\n\u001b[0;32m      1\u001b[0m \u001b[0ms\u001b[0m \u001b[1;33m=\u001b[0m \u001b[1;34m'Hello World'\u001b[0m\u001b[1;33m\u001b[0m\u001b[0m\n\u001b[1;32m----> 2\u001b[1;33m \u001b[0ms\u001b[0m\u001b[1;33m[\u001b[0m\u001b[1;36m0\u001b[0m\u001b[1;33m]\u001b[0m \u001b[1;33m=\u001b[0m \u001b[1;34m'h'\u001b[0m \u001b[1;31m# 문자열의 경우 요소를 바꿀 수 ㅄ다.\u001b[0m\u001b[1;33m\u001b[0m\u001b[0m\n\u001b[0m",
      "\u001b[1;31mTypeError\u001b[0m: 'str' object does not support item assignment"
     ]
    }
   ],
   "source": [
    "s = 'Hello World'\n",
    "s[0] = 'h' # 문자열의 경우 요소를 바꿀 수 ㅄ다."
   ]
  },
  {
   "cell_type": "code",
   "execution_count": 39,
   "metadata": {},
   "outputs": [
    {
     "data": {
      "text/plain": [
       "'hello World'"
      ]
     },
     "execution_count": 39,
     "metadata": {},
     "output_type": "execute_result"
    }
   ],
   "source": [
    "s = 'Hello World'\n",
    "s = 'h' + s[1:]\n",
    "s"
   ]
  },
  {
   "cell_type": "code",
   "execution_count": 40,
   "metadata": {},
   "outputs": [
    {
     "name": "stdout",
     "output_type": "stream",
     "text": [
      "HelloWorld\n"
     ]
    }
   ],
   "source": [
    "print('Hello' + '' + 'World')"
   ]
  },
  {
   "cell_type": "code",
   "execution_count": 41,
   "metadata": {},
   "outputs": [
    {
     "name": "stdout",
     "output_type": "stream",
     "text": [
      "HelloHelloHello\n",
      "------------------------------------------------------------\n"
     ]
    }
   ],
   "source": [
    "print('Hello' * 3)\n",
    "print('-' * 60)"
   ]
  },
  {
   "cell_type": "code",
   "execution_count": 42,
   "metadata": {},
   "outputs": [
    {
     "data": {
      "text/plain": [
       "11"
      ]
     },
     "execution_count": 42,
     "metadata": {},
     "output_type": "execute_result"
    }
   ],
   "source": [
    "s= 'Hello World'\n",
    "len(s)"
   ]
  },
  {
   "cell_type": "code",
   "execution_count": 43,
   "metadata": {},
   "outputs": [
    {
     "name": "stdout",
     "output_type": "stream",
     "text": [
      "True\n",
      "False\n"
     ]
    }
   ],
   "source": [
    "s= 'Hello World'\n",
    "print('World' in s)\n",
    "print('World' not in s)"
   ]
  },
  {
   "cell_type": "code",
   "execution_count": 44,
   "metadata": {},
   "outputs": [
    {
     "name": "stdout",
     "output_type": "stream",
     "text": [
      "<class 'list'>\n",
      "\n",
      "3\n",
      "\n",
      "2\n",
      "3\n",
      "[2, 3]\n",
      "\n"
     ]
    }
   ],
   "source": [
    "L = [1,2,3]\n",
    "print(type(L))\n",
    "print()\n",
    "print(len(L))\n",
    "print()\n",
    "print(L[1])\n",
    "print(L[-1])\n",
    "print(L[1:3])\n",
    "print()\n"
   ]
  },
  {
   "cell_type": "code",
   "execution_count": 45,
   "metadata": {},
   "outputs": [
    {
     "name": "stdout",
     "output_type": "stream",
     "text": [
      "[10, 5, 6]\n"
     ]
    }
   ],
   "source": [
    "l1 = [4,5,6]\n",
    "l1[0] = 10\n",
    "print(l1)"
   ]
  },
  {
   "cell_type": "code",
   "execution_count": 46,
   "metadata": {},
   "outputs": [
    {
     "name": "stdout",
     "output_type": "stream",
     "text": [
      "[4, 5, 6]\n"
     ]
    }
   ],
   "source": [
    "l1 = [1,2,3]\n",
    "l1 = [4,5,6]\n",
    "print(l1)"
   ]
  },
  {
   "cell_type": "code",
   "execution_count": null,
   "metadata": {
    "collapsed": true
   },
   "outputs": [],
   "source": []
  }
 ],
 "metadata": {
  "kernelspec": {
   "display_name": "Python 3",
   "language": "python",
   "name": "python3"
  },
  "language_info": {
   "codemirror_mode": {
    "name": "ipython",
    "version": 3
   },
   "file_extension": ".py",
   "mimetype": "text/x-python",
   "name": "python",
   "nbconvert_exporter": "python",
   "pygments_lexer": "ipython3",
   "version": "3.6.1"
  }
 },
 "nbformat": 4,
 "nbformat_minor": 2
}
