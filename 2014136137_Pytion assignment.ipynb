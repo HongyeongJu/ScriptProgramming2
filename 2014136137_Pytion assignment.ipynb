{
 "cells": [
  {
   "cell_type": "markdown",
   "metadata": {},
   "source": [
    "# 스크립트 프로그래밍 과제1 \n",
    "## 이름 : 홍영주\n",
    "## 학번 : 2014136137\n",
    "## 분반 : 1분반"
   ]
  },
  {
   "cell_type": "markdown",
   "metadata": {},
   "source": [
    "# 문제 1\n",
    "a=\"Hello Python\" 문자열을 Slicing과 연결 연산자 (+)를 사용하여 \"Python Hello\"로 변경하시오.\n",
    "[주의] a 변수 자체에 \"Python Hello\" 문자열이 저장되어야 함\n"
   ]
  },
  {
   "cell_type": "code",
   "execution_count": 4,
   "metadata": {},
   "outputs": [
    {
     "name": "stdout",
     "output_type": "stream",
     "text": [
      " Python Hello\n"
     ]
    }
   ],
   "source": [
    "a = \"Hello Python\"\n",
    "a = a[5:12] + \" \" + a[:5] \n",
    "print(a)"
   ]
  },
  {
   "cell_type": "markdown",
   "metadata": {},
   "source": [
    "### 코드 설명\n",
    "일단 이 코드에서 슬라이싱을 사용한다. 슬라이싱은\n",
    "a[처음 인덱스 번호: 마지막 인덱스(이 인덱스는 포함 하지 않는다.) : 단계] 로 처음 인덱스와 마지막 인덱스를 사용해서 원하는 부분을 구할 수가 있다. 문자열에서 인덱스가 0부터 시작하는 것과 마지막 인덱스는 포함이 안되는 것을 유의하면 위 와 같은 코드를 구현할 수가 있다."
   ]
  },
  {
   "cell_type": "markdown",
   "metadata": {},
   "source": [
    "# 문제 2\n",
    "b=\"Hello Python World\" 문자열을 Slicing과 연결 연산자 (+)를 사용하여 \"World Python Hello\"로 변경하시오.\n",
    "[주의] b 변수 자체에 \"Python Hello\" 문자열이 저장되어야 함"
   ]
  },
  {
   "cell_type": "code",
   "execution_count": 6,
   "metadata": {},
   "outputs": [
    {
     "name": "stdout",
     "output_type": "stream",
     "text": [
      "World Python Hello\n"
     ]
    }
   ],
   "source": [
    "b = \"Hello Python World\"\n",
    "b = b[13: 18] + \" \"+ b[6: 12] +\" \"+b[0: 5]\n",
    "print(b)"
   ]
  },
  {
   "cell_type": "markdown",
   "metadata": {},
   "source": [
    "### 코드 설명\n",
    "이 문제도 1번 문제와 마찬가지의 원리를 이용해서 구할 수가 있다. 여기서 문자열은 + 기호를 이용해서 이여 붙일 수 있는 원리를 이용하고 \" \"를 사용해 공백을 삽입할 수 있다.\n"
   ]
  },
  {
   "cell_type": "markdown",
   "metadata": {},
   "source": [
    "# 문제 3\n",
    "c=\"Hello\"를 \"olleH\"로 변경하시오\n",
    "[주의] c 변수 자체에 \"olleH\" 문자열이 저장되어야 함"
   ]
  },
  {
   "cell_type": "code",
   "execution_count": 7,
   "metadata": {},
   "outputs": [
    {
     "name": "stdout",
     "output_type": "stream",
     "text": [
      "olleH\n"
     ]
    }
   ],
   "source": [
    "c = \"Hello\"\n",
    "c = c[::-1]\n",
    "print(c)"
   ]
  },
  {
   "cell_type": "markdown",
   "metadata": {},
   "source": [
    "### 코드 설명\n",
    "이 코드는 참 간단하다. 슬라이싱을 이용하면 순식간에 코드를 구현할 수가 있기 때문이다. \n",
    "슬라이싱[처음 인덱스 : 끝 인덱스 : 단계] 에서 단계는 인덱스가 진행하는 방향을 뜻한다. 단계가 만약 2이면 2개씩 껑충 뛰고 만약 -음수가 들어가면 반대로 진행을 하게 된다.\n"
   ]
  },
  {
   "cell_type": "markdown",
   "metadata": {},
   "source": [
    "# 문제 4\n",
    "s=\"python\"에 대해 다음 문제를 풀어보시오.\n",
    "1. s[0], s[0][0], s[0][0][0]은 각각 어떤 값이 나오는지 확인하고 그 이유를 나름대로 설명해 보시오.\n",
    "2. s[-100], s[100]은 값이 나오는지 에러가 나오는지 확인하고 그 결과에 대한 이유를 나름대로 설명해 보시오.\n",
    "3. s[-100, 100]은 값이 나오는지 에러가 나오는지 확인하고 그 결과에 대한 이유를 나름대로 설명해 보시오.\n",
    "4. s[1:-1]의 결과를 확인하고 그 결과에 대한 이유를 정확하게 설명하시오.\n",
    "5. s[3:-3]의 결과를 확인하고 그 결과에 대한 이유를 정확하게 설명하시오."
   ]
  },
  {
   "cell_type": "markdown",
   "metadata": {},
   "source": [
    "## 문제 4-1"
   ]
  },
  {
   "cell_type": "code",
   "execution_count": 12,
   "metadata": {},
   "outputs": [
    {
     "name": "stdout",
     "output_type": "stream",
     "text": [
      "p p p\n"
     ]
    }
   ],
   "source": [
    "s = \"python\"\n",
    "print(s[0], s[0][0], s[0][0][0])"
   ]
  },
  {
   "cell_type": "markdown",
   "metadata": {},
   "source": [
    "### 코드 설명\n",
    "s[0]은 인덱싱이다. 하지만 s는 문자열이므로 1차원 배열과 같게 생각하면 된다. 따라서 컴퓨터는 메모리로 저장을 할 때 1차원 배열로 저장을 하게 되는데. 그래서 아무리 1차원 2차원 3차원으로 인덱싱을 한다고 해도 왼쪽괄호의 인덱스의 숫자가 출력이 된다.\n"
   ]
  },
  {
   "cell_type": "markdown",
   "metadata": {},
   "source": [
    "## 문제 4-2\n",
    "s[-100], s[100]은 값이 나오는지 에러가 나오는지 확인하고 그 결과에 대한 이유를 나름대로 설명해 보시오."
   ]
  },
  {
   "cell_type": "code",
   "execution_count": 13,
   "metadata": {},
   "outputs": [
    {
     "ename": "IndexError",
     "evalue": "string index out of range",
     "output_type": "error",
     "traceback": [
      "\u001b[1;31m---------------------------------------------------------------------------\u001b[0m",
      "\u001b[1;31mIndexError\u001b[0m                                Traceback (most recent call last)",
      "\u001b[1;32m<ipython-input-13-712d8881cdfa>\u001b[0m in \u001b[0;36m<module>\u001b[1;34m()\u001b[0m\n\u001b[0;32m      1\u001b[0m \u001b[0ms\u001b[0m \u001b[1;33m=\u001b[0m \u001b[1;34m\"python\"\u001b[0m\u001b[1;33m\u001b[0m\u001b[0m\n\u001b[1;32m----> 2\u001b[1;33m \u001b[0mprint\u001b[0m\u001b[1;33m(\u001b[0m\u001b[0ms\u001b[0m\u001b[1;33m[\u001b[0m\u001b[1;33m-\u001b[0m\u001b[1;36m100\u001b[0m\u001b[1;33m]\u001b[0m\u001b[1;33m,\u001b[0m \u001b[0ms\u001b[0m\u001b[1;33m[\u001b[0m\u001b[1;36m100\u001b[0m\u001b[1;33m]\u001b[0m\u001b[1;33m)\u001b[0m\u001b[1;33m\u001b[0m\u001b[0m\n\u001b[0m",
      "\u001b[1;31mIndexError\u001b[0m: string index out of range"
     ]
    }
   ],
   "source": [
    "s = \"python\"\n",
    "print(s[-100], s[100])"
   ]
  },
  {
   "cell_type": "markdown",
   "metadata": {},
   "source": [
    "### 코드 설명\n",
    "오류가 발생한다. 왜냐하면 문자열도 배열이기 때문에 인덱스의 범위를 초과하는 값을 입력하면 접근을 할 수가 없기 때문에 오류가 발생한다."
   ]
  },
  {
   "cell_type": "markdown",
   "metadata": {},
   "source": [
    "## 문제 4-3\n",
    "s[-100, 100]은 값이 나오는지 에러가 나오는지 확인하고 그 결과에 대한 이유를 나름대로 설명해 보시오."
   ]
  },
  {
   "cell_type": "code",
   "execution_count": 14,
   "metadata": {},
   "outputs": [
    {
     "ename": "TypeError",
     "evalue": "string indices must be integers",
     "output_type": "error",
     "traceback": [
      "\u001b[1;31m---------------------------------------------------------------------------\u001b[0m",
      "\u001b[1;31mTypeError\u001b[0m                                 Traceback (most recent call last)",
      "\u001b[1;32m<ipython-input-14-7fed5efefd64>\u001b[0m in \u001b[0;36m<module>\u001b[1;34m()\u001b[0m\n\u001b[0;32m      1\u001b[0m \u001b[0ms\u001b[0m \u001b[1;33m=\u001b[0m \u001b[1;34m\"python\"\u001b[0m\u001b[1;33m\u001b[0m\u001b[0m\n\u001b[1;32m----> 2\u001b[1;33m \u001b[0mprint\u001b[0m\u001b[1;33m(\u001b[0m\u001b[0ms\u001b[0m\u001b[1;33m[\u001b[0m\u001b[1;33m-\u001b[0m\u001b[1;36m100\u001b[0m\u001b[1;33m,\u001b[0m \u001b[1;36m100\u001b[0m\u001b[1;33m]\u001b[0m\u001b[1;33m)\u001b[0m\u001b[1;33m\u001b[0m\u001b[0m\n\u001b[0m",
      "\u001b[1;31mTypeError\u001b[0m: string indices must be integers"
     ]
    }
   ],
   "source": [
    "s = \"python\"\n",
    "print(s[-100, 100])\n"
   ]
  },
  {
   "cell_type": "markdown",
   "metadata": {},
   "source": [
    "### 코드 설명\n",
    "오류가 발생한다 왜냐하면 인덱싱을 하려면 인덱스는 무조건 정수이여만 한다. 하지만 이 코드의 인덱스는 리스트형으로 되어있다."
   ]
  },
  {
   "cell_type": "markdown",
   "metadata": {},
   "source": [
    "## 문제 4-4\n",
    "s[1:-1]의 결과를 확인하고 그 결과에 대한 이유를 정확하게 설명하시오."
   ]
  },
  {
   "cell_type": "code",
   "execution_count": 16,
   "metadata": {},
   "outputs": [
    {
     "name": "stdout",
     "output_type": "stream",
     "text": [
      "ytho\n"
     ]
    }
   ],
   "source": [
    "s = \"python\"\n",
    "print(s[1:-1])"
   ]
  },
  {
   "cell_type": "markdown",
   "metadata": {},
   "source": [
    "### 코드 설명\n",
    "먼저 문자열(배열)의 인덱스 배치를 살펴보자.\n",
    "\n",
    "python은 아래와 같은 배치가 이루어진다\n",
    "\n",
    "p(0)y(1)t(2)h(3)o(4)n(5)\n",
    "하지만 또 다르게 생각을 해볼 수도 있다 음의 방향, 즉 왼쪽 부터 샌다고 생각 해볼 때\n",
    "\n",
    "p(-6)y(-5)t(-4)h(-3)o(-2)n(-1)\n",
    "\n",
    "이렇게 생각해볼 수가 있다. 따라서 위와 같은 코드로 슬라이싱을 해본다면 ytho가 출력이 된다"
   ]
  },
  {
   "cell_type": "markdown",
   "metadata": {},
   "source": [
    "## 문제 4-5\n",
    "s[3:-3]의 결과를 확인하고 그 결과에 대한 이유를 정확하게 설명하시오.\n"
   ]
  },
  {
   "cell_type": "code",
   "execution_count": 19,
   "metadata": {},
   "outputs": [
    {
     "name": "stdout",
     "output_type": "stream",
     "text": [
      "\n"
     ]
    }
   ],
   "source": [
    "s = \"python\"\n",
    "print(s[3:-3])"
   ]
  },
  {
   "cell_type": "markdown",
   "metadata": {},
   "source": [
    "## 코드 설명\n",
    "위 코드에서 배열의 인덱스를 생각해볼 때 \n",
    "h = 3이고 또한 -3이다 따라서 아무것도 출력이 되지 않는다."
   ]
  },
  {
   "cell_type": "markdown",
   "metadata": {},
   "source": [
    "# 문제 5\n",
    "for문을 활용하여 1부터 100사이의 홀수를 출력하시오."
   ]
  },
  {
   "cell_type": "code",
   "execution_count": 20,
   "metadata": {},
   "outputs": [
    {
     "name": "stdout",
     "output_type": "stream",
     "text": [
      "1\n",
      "3\n",
      "5\n",
      "7\n",
      "9\n",
      "11\n",
      "13\n",
      "15\n",
      "17\n",
      "19\n",
      "21\n",
      "23\n",
      "25\n",
      "27\n",
      "29\n",
      "31\n",
      "33\n",
      "35\n",
      "37\n",
      "39\n",
      "41\n",
      "43\n",
      "45\n",
      "47\n",
      "49\n",
      "51\n",
      "53\n",
      "55\n",
      "57\n",
      "59\n",
      "61\n",
      "63\n",
      "65\n",
      "67\n",
      "69\n",
      "71\n",
      "73\n",
      "75\n",
      "77\n",
      "79\n",
      "81\n",
      "83\n",
      "85\n",
      "87\n",
      "89\n",
      "91\n",
      "93\n",
      "95\n",
      "97\n",
      "99\n"
     ]
    }
   ],
   "source": [
    "for x in range(101):\n",
    "    if (x % 2) == 1 :\n",
    "        print(x)\n"
   ]
  },
  {
   "cell_type": "markdown",
   "metadata": {},
   "source": [
    "### 코드 설명\n",
    "for 문은 \n",
    "\n",
    "for (객체) in (컨테이너형) 으로 이루어져있다.\n",
    "\n",
    "이때 100까지 리스트로 출력하는 내장함수는 range함수이다. range 함수를 이용해서 100까지 출력하고 if 문으로 2로 나눈 나머지를 이용해서 홀수만 출력하도록 하였다."
   ]
  },
  {
   "cell_type": "markdown",
   "metadata": {},
   "source": [
    "# 문제 6\n",
    "while문을 활용하여 1부터 100사이의 짝수의 합을 계산하여 출력하시오."
   ]
  },
  {
   "cell_type": "code",
   "execution_count": 23,
   "metadata": {},
   "outputs": [
    {
     "name": "stdout",
     "output_type": "stream",
     "text": [
      "2550\n"
     ]
    }
   ],
   "source": [
    "x = 0\n",
    "sum = 0\n",
    "while x < 101:\n",
    "    x = x + 1\n",
    "    if (x % 2) == 0:\n",
    "        sum = sum + x\n",
    "    \n",
    "print(sum)"
   ]
  },
  {
   "cell_type": "markdown",
   "metadata": {},
   "source": [
    "### 코드 설명\n",
    "이 코드는 while 문의 문형을 알면 된다 \n",
    "while 문은\n",
    "\n",
    "while (조건) : \n",
    "   \n",
    "-   내용 \n",
    "    \n",
    "-   내용\n",
    "\n",
    "\n",
    "이런 형식으로 이루어져있고 모든 조건문과 제어문의 블록은 들여쓰기로 구분되기 때문에 들여쓰기를 생각하면서 사용해야한다."
   ]
  },
  {
   "cell_type": "markdown",
   "metadata": {},
   "source": [
    "# 문제 7\n",
    "사용자로 부터 임의의 정수를 입력받고, 해당 숫자를 역순으로 출력하는 프로그램을 작성하시오.\n",
    "[실행 예]\n",
    "\n",
    "  정수를 입력하세요: 3125\n",
    "  숫자 역순은 5213 입니다."
   ]
  },
  {
   "cell_type": "code",
   "execution_count": 25,
   "metadata": {},
   "outputs": [
    {
     "name": "stdout",
     "output_type": "stream",
     "text": [
      "정수를 입력하세요: 3125\n",
      "숫자 역순은  5213 입니다\n"
     ]
    }
   ],
   "source": [
    "k = input(\"정수를 입력하세요: \") #input으로 입력받을 때 k에 문자열이 들어가게 된다.\n",
    "print(\"숫자 역순은 \",k[::-1], \"입니다\")\n"
   ]
  },
  {
   "cell_type": "markdown",
   "metadata": {},
   "source": [
    "### 코드 설명\n",
    "사용자로부터 문자나 숫자를 입력받고 싶을 때 input 함수를 사용한다. input함수의 사용법은\n",
    "\n",
    "(객체) = input(\"출력하고 싶은 문자열\") \n",
    "\n",
    "이렇게 사용하며 출력하고 싶은 문자열은 자신이 입력받기전 출력하기 원하는 문자열을 입력하면 된다. 또한 입력을 받으면 자료형이 문자열이기 때문에 곧바로 슬라이싱으로 반대로 출력해주면된다."
   ]
  },
  {
   "cell_type": "markdown",
   "metadata": {},
   "source": [
    "# 문제 8\n",
    "사용자로 부터 정수를 입력받아서 1부터 그 사이에 존재하는 소수 (Prime number)를 출력하는 파이썬 프로그램을 작성하시오."
   ]
  },
  {
   "cell_type": "code",
   "execution_count": 32,
   "metadata": {},
   "outputs": [
    {
     "name": "stdout",
     "output_type": "stream",
     "text": [
      "정수를 입력해주세요: 800\n",
      "1\n",
      "2\n",
      "3\n",
      "5\n",
      "7\n",
      "11\n",
      "13\n",
      "17\n",
      "19\n",
      "23\n",
      "29\n",
      "31\n",
      "37\n",
      "41\n",
      "43\n",
      "47\n",
      "53\n",
      "59\n",
      "61\n",
      "67\n",
      "71\n",
      "73\n",
      "79\n",
      "83\n",
      "89\n",
      "97\n",
      "101\n",
      "103\n",
      "107\n",
      "109\n",
      "113\n",
      "127\n",
      "131\n",
      "137\n",
      "139\n",
      "149\n",
      "151\n",
      "157\n",
      "163\n",
      "167\n",
      "173\n",
      "179\n",
      "181\n",
      "191\n",
      "193\n",
      "197\n",
      "199\n",
      "211\n",
      "223\n",
      "227\n",
      "229\n",
      "233\n",
      "239\n",
      "241\n",
      "251\n",
      "257\n",
      "263\n",
      "269\n",
      "271\n",
      "277\n",
      "281\n",
      "283\n",
      "293\n",
      "307\n",
      "311\n",
      "313\n",
      "317\n",
      "331\n",
      "337\n",
      "347\n",
      "349\n",
      "353\n",
      "359\n",
      "367\n",
      "373\n",
      "379\n",
      "383\n",
      "389\n",
      "397\n",
      "401\n",
      "409\n",
      "419\n",
      "421\n",
      "431\n",
      "433\n",
      "439\n",
      "443\n",
      "449\n",
      "457\n",
      "461\n",
      "463\n",
      "467\n",
      "479\n",
      "487\n",
      "491\n",
      "499\n",
      "503\n",
      "509\n",
      "521\n",
      "523\n",
      "541\n",
      "547\n",
      "557\n",
      "563\n",
      "569\n",
      "571\n",
      "577\n",
      "587\n",
      "593\n",
      "599\n",
      "601\n",
      "607\n",
      "613\n",
      "617\n",
      "619\n",
      "631\n",
      "641\n",
      "643\n",
      "647\n",
      "653\n",
      "659\n",
      "661\n",
      "673\n",
      "677\n",
      "683\n",
      "691\n",
      "701\n",
      "709\n",
      "719\n",
      "727\n",
      "733\n",
      "739\n",
      "743\n",
      "751\n",
      "757\n",
      "761\n",
      "769\n",
      "773\n",
      "787\n",
      "797\n"
     ]
    }
   ],
   "source": [
    "k = input(\"정수를 입력해주세요: \") # 입력 받음\n",
    "k = int(k)\n",
    "x = 1\n",
    "cnt = 0;\n",
    "while x <= k :\n",
    "    for y in range(1,x):\n",
    "        if(x % y) == 0:  # 0으로 나누어 떨어질 때 카운트를 한다.\n",
    "            cnt += 1\n",
    "    if cnt < 2: # 1을 포함해서 생각하므로 cnt가 2이상이면 소수가 아니다.\n",
    "        print(x)\n",
    "    cnt = 0\n",
    "    x += 1"
   ]
  },
  {
   "cell_type": "markdown",
   "metadata": {},
   "source": [
    "## 코드 설명\n",
    "이 코드를 구현할 때 range 함수를 다시 공부했었다. range(stop)만 알고 언제부터 시작을 구현을 하는 방법이 기억이 안났기 때문이다.\n",
    "range함수는 \n",
    "\n",
    "range(start, stop, step) 으로 구현이 되므로\n",
    "\n",
    "for 문에서 range(1 : x)로 표현해줄 수가 있다. 왜 이렇게 구현을 해야하냐면 어떤 수든 0으로 나눌 수가 없기 때문이다. \n",
    "\n",
    "이 코드는 소수의 정의에 의해서 구현하였다. 소수의 정의는 1을 제외하고 자신보다 작은 숫자들로 나누었을 때 나누어 떨어지지 않는 수를 말한다. "
   ]
  },
  {
   "cell_type": "markdown",
   "metadata": {},
   "source": [
    "# 문제 9 별찍기\n",
    "첫째 줄에는 별 1개, 둘째 줄에는 별 2개, N번째 줄에는 별 N개를 찍는 문제\n",
    "\n",
    "하지만, 오른쪽을 기준으로 정렬한 별 (예제 참고)을 출력하시오."
   ]
  },
  {
   "cell_type": "code",
   "execution_count": 47,
   "metadata": {
    "scrolled": true
   },
   "outputs": [
    {
     "name": "stdout",
     "output_type": "stream",
     "text": [
      "5\n",
      "    *\n",
      "   **\n",
      "  ***\n",
      " ****\n",
      "*****\n"
     ]
    }
   ],
   "source": [
    "k = input()\n",
    "k = int(k)\n",
    "for x in range(k):\n",
    "    for y in range(k - (x + 1)):      # 공백 출력 코드\n",
    "        print(\" \", end = \"\")\n",
    "    for z in range(x + 1):            # 별 출력 코드\n",
    "        print(\"*\", end = \"\")\n",
    "    print()"
   ]
  },
  {
   "cell_type": "markdown",
   "metadata": {},
   "source": [
    "## 실행 결과\n",
    "![N|Solid](과제1\\1.png)"
   ]
  },
  {
   "cell_type": "markdown",
   "metadata": {},
   "source": [
    "### 코드 설명\n",
    "위와 같이 별을 찍으려면 공백의 갯수를 생각해야만 한다. 만약 총 5개줄을 찍는다면 1번째 줄은 5-1인 4개의 공백이 들어가고 별이 1개 들어가며 5번째줄은 5-5인 0개의 공백 별이 5개 들어가야 할 것이다. 이러한 논리로 위와 같이 for문을 이용해서 공백을 출력하는 for문과 별만 찍는 for문을 나누어서 출력하게 만들었다. 또한 range의 인수는 무조건 정수가 되어야 하므로 input으로 받은 것을 정수로 바꿔줘야 될 것이고 print의 자동 개행을 막기위해 print(\" \" , end = \"\") 같이 end = \"\"을 사용해서 자동개행을 막는다. (end = \"\")는 print가 끝나면 \"\"을 출력한다는 의미이다"
   ]
  },
  {
   "cell_type": "markdown",
   "metadata": {},
   "source": [
    "# 문제 10 2017년\n",
    "오늘은 2007년 1월 1일 월요일이다. 그렇다면 2007년 x월 y일은 무슨 요일일까? 이를 알아내는 프로그램을 작성하시오."
   ]
  },
  {
   "cell_type": "code",
   "execution_count": 63,
   "metadata": {},
   "outputs": [
    {
     "name": "stdout",
     "output_type": "stream",
     "text": [
      "1 1\n",
      "MON\n"
     ]
    }
   ],
   "source": [
    "m = {'1' : '31', '2' : '28' ,'3' : '31', '4' : '30', '5' : '31' , '6' : '30' , '7' : '31 ', '8' :'31' , '9' :'30' ,'10' :'31' , '11' :'30', '12' :'31'}\n",
    "# 맵핑해서 각 달의 마지막날을 정리한다.\n",
    "#month = input()\n",
    "#month = int(month)\n",
    "#day = input()\n",
    "#day = int(day)\n",
    "month , day = input().split()  # \n",
    "month = int(month)\n",
    "day = int(day)\n",
    "sum = 0\n",
    "for x in range(1,month):\n",
    "    sum = sum + int(m[str(x)])\n",
    "sum = sum + day\n",
    "if (sum % 7) == 1:\n",
    "    print(\"MON\")\n",
    "elif (sum % 7) == 2:\n",
    "    print(\"TUE\")\n",
    "elif (sum % 7) == 3:\n",
    "    print(\"WED\")\n",
    "elif (sum % 7) == 4:\n",
    "    print(\"THU\")\n",
    "elif (sum % 7) == 5:\n",
    "    print(\"FRI\")\n",
    "elif (sum % 7) == 6:\n",
    "    print(\"SAT\")\n",
    "else:\n",
    "    print(\"SUN\")"
   ]
  },
  {
   "cell_type": "markdown",
   "metadata": {},
   "source": [
    "## 실행 결과\n",
    "![N|Solid](2.png)"
   ]
  },
  {
   "cell_type": "markdown",
   "metadata": {},
   "source": [
    "### 코드설명\n",
    "문제를 코드로 구현하기 위해서 먼저 각 월의 마지막 날을 각 월끼리 맵핑을 시켜서 데이터베이스화를 시킨다. 그리고 1월 1일을 기준으로 몇일이 차이나고 그 차이난 날짜를 7로 나눠서 1로 떨어지면 월요일 2면 화요일 ... 0이면 일요일 이렇게 세팅을 한다. 이 코드의 원리는 받은 날짜와 1월 1일의 차이를 7로 나눠서 날짜를 알아내는 방법이다.\n",
    "여기서 input의 새로운 함수 split을 사용했는데 이 함수는 입력된 인자를 구별하기 위해서 개행이 필요한 input과 달리 인자를 공백으로 구별하는 함수이다. 따라서 이 문제를 해결하기 위해 input().split() 함수를 사용하였다."
   ]
  },
  {
   "cell_type": "markdown",
   "metadata": {},
   "source": [
    "# 문제 11 숫자의 합\n",
    "N개의 숫자가 공백 없이 쓰여있다. 이 숫자를 모두 합해서 출력하는 프로그램을 작성하시오."
   ]
  },
  {
   "cell_type": "code",
   "execution_count": 67,
   "metadata": {},
   "outputs": [
    {
     "name": "stdout",
     "output_type": "stream",
     "text": [
      "5\n",
      "54321\n",
      "15\n"
     ]
    }
   ],
   "source": [
    "number = input()\n",
    "number = int(number)\n",
    "num = input()\n",
    "sum = 0\n",
    "for x in range(number):\n",
    "    sum = sum + int(num[x:x+1])  # 각 자리를 더한다.\n",
    "print(sum)"
   ]
  },
  {
   "cell_type": "markdown",
   "metadata": {},
   "source": [
    "## 실행 결과\n",
    "<img src=\"과제1\\3.png\">"
   ]
  },
  {
   "cell_type": "markdown",
   "metadata": {},
   "source": [
    "### 코드설명\n",
    "이 문제는 C언어로 해결한다면 쉽게 해결하기 힘들텐데 python의 리스트의 슬라이싱 개념이 있어서 해결하기가 편하였다.\n",
    "먼저 숫자를 입력받고 그 숫자 만큼 for문을 사용해 반복하고 슬라이싱을 사용해서 각 자리들을 각각 합쳐 sum에 대입한다."
   ]
  }
 ],
 "metadata": {
  "kernelspec": {
   "display_name": "Python 3",
   "language": "python",
   "name": "python3"
  },
  "language_info": {
   "codemirror_mode": {
    "name": "ipython",
    "version": 3
   },
   "file_extension": ".py",
   "mimetype": "text/x-python",
   "name": "python",
   "nbconvert_exporter": "python",
   "pygments_lexer": "ipython3",
   "version": "3.6.1"
  }
 },
 "nbformat": 4,
 "nbformat_minor": 2
}
