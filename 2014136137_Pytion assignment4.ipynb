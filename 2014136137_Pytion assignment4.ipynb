{
 "cells": [
  {
   "cell_type": "markdown",
   "metadata": {},
   "source": [
    "# 스크립트 프로그래밍 과제4\n",
    "## 이름 : 홍영주\n",
    "## 학번 : 2014136137\n",
    "## 분반 : 1분반"
   ]
  },
  {
   "cell_type": "markdown",
   "metadata": {},
   "source": [
    "# [1번 문제]\n",
    "파일 s.txt 내의 다음 내용과 함께 아래 문제의 코드를 제시하시오.\n",
    "\n",
    "- pig ham\n",
    "- cat dog\n",
    "- ham bird\n",
    "- dog pig\n",
    "\n",
    " 1)파일 s.txt을 읽어서 각 라인에 있는 첫 번째 단어(문자열) 자체들을 기준으로 라인별 정렬후 파일 s1.txt에 그 결과를 기록하는 코드를 작성하시오. 즉, 프로그램 수행 후 s1.txt에 있는 파일 내용은 다음과 같다.\n",
    "\n",
    "- cat dog\n",
    "- dog pig\n",
    "- ham bird\n",
    "- pig ham\n",
    "\n",
    "2) 파일 s.txt을 읽어서 각 라인에 있는 두 번째 단어(문자열) 자체들을 기준으로 라인별 정렬후 파일 s2.txt에 그 결과를 기록하는 코드를 작성하시오. 즉, 프로그램 수행 후 s2.txt에 있는 파일 내용은 다음과 같다.\n",
    "\n",
    "-    ham bird\n",
    "-    cat dog\n",
    "-    pig ham \n",
    "-   dog pig\n",
    "\n",
    "3) 파일 s.txt을 읽어서 각 라인들에 있는 모든 단어들을 순차적으로 다시 나열하되 각 라인에 세 개의 단어들이 오도록 하여 s3.txt에 기록하는 코드를 작성하시오. 즉, 프로그램 수행 후 s3.txt에 있는 파일 내용은 다음과 같다.\n",
    "\n",
    "-    pig ham cat\n",
    "-    dog ham bird\n",
    "-    dog pig"
   ]
  },
  {
   "cell_type": "code",
   "execution_count": 1,
   "metadata": {},
   "outputs": [
    {
     "name": "stdout",
     "output_type": "stream",
     "text": [
      "['pig ham', 'cat dog', 'ham bird', 'dog pig']\n"
     ]
    }
   ],
   "source": [
    "list1 = []\n",
    "with open(\"s.txt\", \"r\") as f:\n",
    "    for i in f :\n",
    "        list1.append(i.strip())\n",
    "\n",
    "        \n",
    "def cmp_by_each_element(a):\n",
    "    str1 = a\n",
    "    return a[str1.find(\" \") + 1]\n",
    "print(list1)        \n",
    "list1.sort()\n",
    "#print(list1)\n",
    "with open(\"s1.txt\", \"w\") as f:\n",
    "    for i in list1:\n",
    "        f.write(i)\n",
    "        f.write(\"\\n\")"
   ]
  },
  {
   "cell_type": "code",
   "execution_count": 2,
   "metadata": {},
   "outputs": [
    {
     "name": "stdout",
     "output_type": "stream",
     "text": [
      "['pig ham', 'cat dog', 'ham bird', 'dog pig']\n",
      "['ham bird', 'cat dog', 'pig ham', 'dog pig']\n"
     ]
    }
   ],
   "source": [
    "list1 = []\n",
    "with open(\"s.txt\", \"r\") as f:\n",
    "    for i in f :\n",
    "        list1.append(i.strip())\n",
    "\n",
    "        \n",
    "def cmp_by_each_element(a):\n",
    "    str1 = a\n",
    "    return a[str1.find(\" \") + 1]\n",
    "print(list1)        \n",
    "list1.sort(key = cmp_by_each_element)\n",
    "print(list1)\n",
    "\n",
    "with open(\"s2.txt\", \"w\") as f:\n",
    "    for i in list1:\n",
    "        f.write(i)\n",
    "        f.write(\"\\n\")"
   ]
  },
  {
   "cell_type": "markdown",
   "metadata": {},
   "source": [
    "## 코드 설명\n",
    "이 문제는 간단하다. 먼저 메모장을 읽어들인 후 리스트로 받고 그 리스트를 정렬한뒤 다시 메모장에 쓰기만 하면된다. 이때 2번째 단어로 비교할 때는 cmp함수를 만들어서 정렬을 해주면된다."
   ]
  },
  {
   "cell_type": "code",
   "execution_count": 5,
   "metadata": {},
   "outputs": [],
   "source": [
    "list1 = []\n",
    "cnt  = 1\n",
    "with open(\"s.txt\", \"r\") as f:\n",
    "    for i in f:\n",
    "        list1.append(i.strip())\n",
    "\n",
    "#print(list1)\n",
    "str1 = \"\"\n",
    "for i in list1:\n",
    "    str1 += i +\" \"\n",
    "#print(str1)\n",
    "i = 0\n",
    "fore = 0\n",
    "list2 = []\n",
    "for st in str1:\n",
    "    if st == ' ':\n",
    "        cnt = cnt + 1\n",
    "    if cnt == 4 :\n",
    "        list2.append(str1[fore:i].strip())\n",
    "        cnt = 1\n",
    "        fore = i\n",
    "    i = i + 1\n",
    "\n",
    "list2.append(str1[fore:len(str1)].strip())\n",
    "\n",
    "with open('s3.txt', 'w') as f:\n",
    "    for i in list1:\n",
    "        f.write(i)\n",
    "        f.write(\"\\n\")"
   ]
  },
  {
   "cell_type": "markdown",
   "metadata": {},
   "source": [
    "## 코드 설명\n",
    "이 코드는 메모장을 읽은 뒤 읽은 데이터를 리스트로 받고 그 리스트를 문자열로 더해서 만든다. 그리고 그 문자열을 가지고 문자 3개씩 또 다른 리스트에 추가하는 형식으로 문자 3개씩 대입해서 새로운 리스트를 만든 뒤 메모장에 출력하는 형식으로 코드를 만든다."
   ]
  },
  {
   "cell_type": "markdown",
   "metadata": {},
   "source": [
    "# [2번 문제]\n",
    "다음과 같은 조건들을 참고하여 회원 가입 및 로그인 프로그램을 작성하시오.\n",
    "\n",
    "1) 프로그램 시작 후 다음과 같은 메시지가 출력되어 1, 2, 3 중 하나의 값을 입력 받도록 한다.\n",
    "    Welcome to Our Service\n",
    "\n",
    "    Sign Up\n",
    "    Sign In\n",
    "    Quit\n",
    "2) 1을 선택하면 ID, Password, Name, School의 4가지 정보를 입력받아 파일에 저장하는 프로그램을 작성한다.\n",
    "    2-1) 입력된 내용은 access.txt 라는 이름의 텍스트 파일 내에 저장된다.\n",
    "    2-2) access.txt 파일의 각 라인에는 가입된 회원 각각의 정보가 \"[id]: [password], [name], [school]\" 형태로 저장된다.\n",
    "2-3) 즉, 가입 회원이 10명이면 access.txt 파일 내에 라인 수도 정확히 10개이다.\n",
    "2-4) 암호화 방식은 sha 모듈을 활용한다. sha 모듈 활용 방법은 본 문제의 마지막에 제시된 sha 활용 예를 참고한다.\n",
    "즉, access.txt 파일 내에 password 정보는 암호화 되어 저장되어야 한다.\n",
    "2-5) 회원 정보를 입력 받을 때 id를 입력 받은 직후 access.txt를 확인하여 이미 존재하는 id가 입력되었다면 다음 메시지를 출력하고 id 정보를 다시 입력받는다.\n",
    "Sorry, the entered ID is already used.\n",
    "3) 2를 선택하면 ID, Password의 2가지 정보를 입력받는 프로그램을 작성한다.\n",
    "3-1) 입력된 ID 정보가 access.txt에 존재하지 않으면 다음과 같은 메시지를 출력하고 다시 입력받는다.\n",
    "Sorry, you are not a registered member.\n",
    "3-2) 입력된 ID가 올바르게 존재하지만 Password 정보가 access.txt 파일에 있는 정보와 불일치하면 다음과 같은 메시지를 출력하고 Password를 다시 입력받는다.\n",
    "Sorry, the entered password is not correct.\n",
    "이 때에도 사용자가 입력한 Password 정보와 함께 sha 모듈이 활용되어야 한다.\n",
    "3-3) 입력된 ID와 Password가 모두 올바르면 다음과 같은 메시지를 출력한다.\n",
    "Hello [name]!\n",
    "위 [name]에는 access.txt에 기록되어 있는 name 정보를 출력한다.\n",
    "4) 3을 선택하면 프로그램이 끝난다.\n",
    "[참고] sha 모듈 활용 예"
   ]
  },
  {
   "cell_type": "code",
   "execution_count": 4,
   "metadata": {},
   "outputs": [
    {
     "ename": "TypeError",
     "evalue": "Unicode-objects must be encoded before hashing",
     "output_type": "error",
     "traceback": [
      "\u001b[1;31m---------------------------------------------------------------------------\u001b[0m",
      "\u001b[1;31mTypeError\u001b[0m                                 Traceback (most recent call last)",
      "\u001b[1;32m<ipython-input-4-839bb5ff2fea>\u001b[0m in \u001b[0;36m<module>\u001b[1;34m()\u001b[0m\n\u001b[0;32m      1\u001b[0m \u001b[1;32mimport\u001b[0m \u001b[0mhashlib\u001b[0m\u001b[1;33m\u001b[0m\u001b[0m\n\u001b[1;32m----> 2\u001b[1;33m \u001b[0mhashlib\u001b[0m\u001b[1;33m.\u001b[0m\u001b[0msha256\u001b[0m\u001b[1;33m(\u001b[0m\u001b[1;34m\"dd\"\u001b[0m\u001b[1;33m)\u001b[0m\u001b[1;33m.\u001b[0m\u001b[0mhexdigest\u001b[0m\u001b[1;33m(\u001b[0m\u001b[1;33m)\u001b[0m\u001b[1;33m\u001b[0m\u001b[0m\n\u001b[0m",
      "\u001b[1;31mTypeError\u001b[0m: Unicode-objects must be encoded before hashing"
     ]
    }
   ],
   "source": [
    "import hashlib\n",
    "hashlib.sha256(\"dd\").hexdigest()"
   ]
  },
  {
   "cell_type": "code",
   "execution_count": 6,
   "metadata": {
    "collapsed": true
   },
   "outputs": [],
   "source": [
    "import hashlib\n",
    "\n",
    "def myhash(str1) :\n",
    "    password_plain = \"ripemd160\"\n",
    "    password_encrypted = hashlib.new(password_plain)\n",
    "    password_encrypted.update(bytes(str1,'ascii'))\n",
    "    return password_encrypted.hexdigest()"
   ]
  },
  {
   "cell_type": "code",
   "execution_count": 7,
   "metadata": {},
   "outputs": [
    {
     "name": "stdout",
     "output_type": "stream",
     "text": [
      "Welcome to Our Service\n",
      "  1. Sign Up\n",
      "  2. Sign In\n",
      "  3. Quit\n",
      "1\n",
      "dwdw\n",
      "dwdwd\n",
      "wdwwwddw\n",
      "wddw\n"
     ]
    }
   ],
   "source": [
    "def signIn():\n",
    "    Id = input()\n",
    "    password = input()\n",
    "    Id_error = False      # 아이디 에러가 났는지 안났는지 확인\n",
    "    Pw_error = False      # 비번 에러가 나는지 안나는지 확인\n",
    "    \n",
    "    da = myhash(password)\n",
    "    with open(\"access.txt\", \"r\") as f:     # 파일을 읽기모드로 읽어드린다.\n",
    "        for st in f :\n",
    "            #print(st[1:st.find(\"]\")])\n",
    "            #print(st[st.find(':') + 2:st.find(']', st.find(':'))])  \n",
    "            #print(password)\n",
    "            if st[1:st.find(\"]\")] != Id :    # id 부분이 다른지 확인\n",
    "                Id_error = True\n",
    "            elif st[st.find(':') + 2:st.find(']', st.find(':'))] != str(da) :   #passward 부분이 다른지 확인\n",
    "                print(str(da))\n",
    "                Pw_error = True\n",
    "            else :    # id passward 부분이 모두 같다면 이름을 출력한다.\n",
    "                print(st[st.find(',') + 2 :st.find(']', st.find(',')) ])\n",
    "                return 0\n",
    "            \n",
    "        if Pw_error == True :\n",
    "                return 2\n",
    "        elif Id_error == True:\n",
    "                return 1\n",
    "            \n",
    "def signUp():\n",
    "    Id = input()\n",
    "    password = input()\n",
    "    name = input()\n",
    "    school = input()\n",
    "    \n",
    "    with open(\"access.txt\", \"r\") as f:\n",
    "        for st in f :    # 만약 id가 있다면 지금 현재 사용중이라고 표시를한다.\n",
    "            if st[1:st.find(\"]\")] == Id :\n",
    "                return 1\n",
    "    da = myhash(password)\n",
    "    # 해쉬 구현해야되고 그 해쉬를 비번 칸에 넣는다.\n",
    "    with open(\"access.txt\", \"a\") as f:\n",
    "        f.write(\"\\n\" + \"[\" + Id +\"]\"+ \":\" +\"[\" + str(da) +\"]\"+\",\" +\"[\" +name +\"]\" + \",\" + \"[\" + school + \"]\")\n",
    "    return 0        \n",
    "\n",
    "def sel(a):    # sel 함수에는 return 값으로 프린트를 할 수 있게 판단을 내려주는 조건문을 만든다.\n",
    "    if a == 1:\n",
    "        if signUp() == 1:\n",
    "            print(\"Sorry, the entered ID is already used.\")\n",
    "    elif a == 2:\n",
    "        resu = signIn()\n",
    "        if resu == 1:\n",
    "            print(\"Sorry, you are not a registered member.\")\n",
    "        elif resu == 2:\n",
    "            print('Sorry, the entered password is not correct.')\n",
    "        else :\n",
    "            print(\"Hello\")\n",
    "    # Sign In\n",
    "    elif  a == 3:\n",
    "        return 0\n",
    "    \n",
    "\n",
    "\n",
    "print(\"Welcome to Our Service\")\n",
    "print(\"  1. Sign Up\")\n",
    "print(\"  2. Sign In\")\n",
    "print(\"  3. Quit\")\n",
    "n = 0\n",
    "num = input()\n",
    "n = int(num)\n",
    "\n",
    "sel(n)\n"
   ]
  },
  {
   "cell_type": "markdown",
   "metadata": {},
   "source": [
    "## 코드 설명\n",
    "먼저 main 에서는 sel함수 출력하도록한다. sel 함수는 숫자를 입력받아서 sign up, sign in, quit 중에 선택할 수 있도록 한다. \n",
    "sign up 함수는 회원가입 하는 함수이므로. 아이디가 겹치면 안된다. 따라서 파일에 겹치는 아이디가 있는지 for문을 통해서 확인 한 후 없을 시 아이디를 생성토록한다. signin 함수는 로그인 하는 함수이다. 이때 아이디가 있어야되고 비밀번호가 같아야 하므로 이를 유의해서 코딩을 해야된다. signup 과 signin의 비밀번호는 hashlib를 사용해서 해쉬 코드를 만드는데 암호 코드 문을 먼저 입력하고 거기에 update문을 사용해서 이진수 형태로 된 문장을 입력받고 암호화 시키는 구문이다. 이를 암호화해서 파일을 저장 및 출력을 하도록한다."
   ]
  },
  {
   "cell_type": "markdown",
   "metadata": {},
   "source": [
    "# [3번 문제]\n",
    "- range() 함수와 유사한 frange() 함수를 다음 조건을 참고하여 만드시오.\n",
    "\n",
    "- 1) frange()의 인자 구성은 다음과 같이 range와 동일하지만 각 인수들은 음수를 받지 않는다고 가정한다.\n",
    "- range(stop)\n",
    "- range(start, stop[, step])\n",
    "- 2) frange() 함수의 인자에 대한 기본 시작(start) 값은 0.0이고, 기본 단계(step) 값은 0.1이다.\n",
    "- 3) frange 사용 예\n",
    "- 3-1) frange(0.5)\n",
    "- [0.0, 0.1, 0.2, 0.3, 0.4]\n",
    "- 3-2) frange(1.0, 2.0)\n",
    "- [1.0, 1.1, 1.2, 1.3, 1.4, 1.5, 1.6, 1.7, 1.8, 1.9]\n",
    "- 3-3) frange(2.2, 4.0, 0.5)\n",
    "- [2.2, 2.7, 3.2, 3.7]"
   ]
  },
  {
   "cell_type": "code",
   "execution_count": 8,
   "metadata": {},
   "outputs": [
    {
     "name": "stdout",
     "output_type": "stream",
     "text": [
      "0.5\n",
      "[0.0, 0.1, 0.2, 0.30000000000000004, 0.4]\n",
      "[1.0, 1.1, 1.2000000000000002, 1.3000000000000003, 1.4000000000000004, 1.5000000000000004, 1.6000000000000005, 1.7000000000000006, 1.8000000000000007, 1.9000000000000008]\n",
      "[2.2, 2.7, 3.2, 3.7]\n"
     ]
    }
   ],
   "source": [
    "def frange(start = 0.0 , stop = -1 , step = 0.1) :\n",
    "    if stop == -1 :\n",
    "        print(start)\n",
    "        return frange(0.0, start, 0.1)\n",
    "    else :\n",
    "        num = start\n",
    "        lis = []\n",
    "        while num < stop :\n",
    "            lis.append(num)\n",
    "            num = num + step\n",
    "        return lis\n",
    "    \n",
    "print(frange(0.5))\n",
    "print(frange(1.0,2.0))\n",
    "print(frange(2.2,4.0,0.5))\n"
   ]
  },
  {
   "cell_type": "markdown",
   "metadata": {},
   "source": [
    "## 코드 설명\n",
    "함수를 만든다. 먼저 start, stop , step를 매개변수로 다 받는 함수를 만드는데 그 속에서 stop이 만약 초기화가 안되었다면 . ( 즉 매개변수를 한개만 입력을 받았다면. ) 스톱만으로 제어를 하고싶다는 뜻이므로 조건문을 통해서 frange를 재귀 호출을 시켜준다. 이때 start를 stop으로 대입시켜 매개변수 1개를 받는 것처럼 구현한다. 만일 2가지 이상 입력을 받는다면 정상적으로 step을 더해가면서 출력을 하면된다."
   ]
  },
  {
   "cell_type": "markdown",
   "metadata": {},
   "source": [
    "# [4번 문제]\n",
    "- 가변인수를 받는 함수 sum()을 다음과 같은 조건을 참고하여 구현하시오\n",
    "\n",
    "- sum() 사용 예\n",
    "- sum()\n",
    "- 0\n",
    "- sum(1, 2)\n",
    "- 3\n",
    "- sum(1, 2, 3, 4, 5)\n",
    "- 15\n",
    "- sum(1, 5, 7, 2, -10)\n",
    "- 5"
   ]
  },
  {
   "cell_type": "code",
   "execution_count": 9,
   "metadata": {},
   "outputs": [
    {
     "name": "stdout",
     "output_type": "stream",
     "text": [
      "3\n",
      "21\n"
     ]
    }
   ],
   "source": [
    "def sum(a, *avg) :\n",
    "    for i in avg :\n",
    "        a += i\n",
    "    return a\n",
    "\n",
    "print(sum(1,2))\n",
    "print(sum(1,2,3,4,5,6))"
   ]
  },
  {
   "cell_type": "markdown",
   "metadata": {},
   "source": [
    "## 코드 설명\n",
    "가변인자를 받는 함수를 만들기 위해서는 함수를 정의할 때 먼저 정상적인 매개변수를 최소한 1개라도 받아야된다. 그리고 가변인자는 하나의 튜플로 고려되지므로 반복문을 사용해서 각 튜플의 원소들끼리 더하고 출력하도록 한다."
   ]
  },
  {
   "cell_type": "markdown",
   "metadata": {},
   "source": [
    "# [5번 문제]\n",
    "여러 단어로 이루어진 문자열을 입력받아 각 단어의 첫글자로 이루어진 단어를 대문자로 출력하는 myinitial() 함수를 다음 조건을 참고하여 작성하시오.\n",
    "\n",
    "1) 다음에 제시되는 함수들을 모두 이용해야 한다.\n",
    "split\n",
    "map\n",
    "join\n",
    "\n",
    "2) myinitial() 함수 사용 예\n",
    "myinitial(\"as soon as possible\")\n",
    "ASAP"
   ]
  },
  {
   "cell_type": "code",
   "execution_count": 10,
   "metadata": {},
   "outputs": [
    {
     "name": "stdout",
     "output_type": "stream",
     "text": [
      "ASAP\n"
     ]
    }
   ],
   "source": [
    "def Ini(x):   # 받은 문자열의 첫번째 글짜를 대문자로 바꿔주는 함수\n",
    "    a = x[0]\n",
    "    return a.upper()\n",
    "\n",
    "def myinitial(str) :  # 이니셜을 출력하는 함수\n",
    "    li = str.split()  # 문자열의 공백을 무시하고 리스트를 출력하는 함수\n",
    "    y = list(map(Ini, li))  # 함수를 반복해서 만드는 함수\n",
    "    return \"\".join(y)  # 리스트들의 값을 공백 없이 붙인다.\n",
    "    \n",
    "print(myinitial(\"as soon as possible\"))"
   ]
  },
  {
   "cell_type": "markdown",
   "metadata": {},
   "source": [
    "## 코드 설명\n",
    "map(f, iternate) 함수는 함수와 반복가능한 자료형을 묶는다. 그래서 함수 f에 반복가능한 자료형을 대입해서 처리하도록 한다. 즉.\n",
    "위 코드에서 str을 입력받고 리스트를 만든 뒤 그 리스트를 가지고 함수 Ini에 대입을 하는데 이것을 리스트를 가지고 반복을 할 수가 있어진다. 그리고 그것을 또 리스트를 만든 뒤 공백 없이 join으로 묶어준다."
   ]
  },
  {
   "cell_type": "markdown",
   "metadata": {},
   "source": [
    "# [6번 문제]\n",
    "음이 아닌 정수 n를 입력받으면 n! (factorial)을 계산하는 myfact() 함수를 재귀적 함수로 구현하시오.\n",
    "\n",
    "[옵션] 참을 수 있는 정도 만큼의 수행시간을 직접 기다려보면서 n을 늘려보도록 합시다."
   ]
  },
  {
   "cell_type": "code",
   "execution_count": 11,
   "metadata": {},
   "outputs": [
    {
     "name": "stdout",
     "output_type": "stream",
     "text": [
      "93326215443944152681699238856266700490715968264381621468592963895217599993229915608941463976156518286253697920827223758251185210916864000000000000000000000000\n"
     ]
    }
   ],
   "source": [
    "def myfact(n) :\n",
    "    if n == 1 :\n",
    "        return 1\n",
    "    elif n  < 0 :\n",
    "        print(\"Error\")\n",
    "    else : return n * myfact(n-1)\n",
    "    \n",
    "print(myfact(100))"
   ]
  },
  {
   "cell_type": "markdown",
   "metadata": {},
   "source": [
    "## 코드 설명\n",
    "이 함수는 순환 호출을 사용해서 만들 수가 있다. myfact에 1이 들어가면 1을 반환해주고 음수가 들어올 시 오류를 발생되었다고 출력하고 그 위 양의 정수를 받을 시 n을 곱하고 자기 자신의 함수를 n-1값으로 호출하여 반복이 이뤄지도록 한다."
   ]
  },
  {
   "cell_type": "markdown",
   "metadata": {},
   "source": [
    "# [7번 문제]\n",
    "(서술형) import string 과 from string import * 의 차이점을 설명하시오."
   ]
  },
  {
   "cell_type": "markdown",
   "metadata": {},
   "source": [
    "import string은 string 객체를 사용해서 string 모듈에서 제공하는 메소드를 사용할 수 있도록 해준다. string 모듈에서는 기본적인 문자열 연산을 다뤄준다.\n",
    "\n",
    "마찬가지로 from string import *도 해석하기 똑같게 string 모듈에서 제공하는 모든 메소드를 사용하겠다라는 의미인데 import string과 from string import *와 무엇이 다른 것인가?\n",
    "\n",
    "먼저 from 의 구문의 뜻을 살펴보면 from 모듈이름 import 모듈함수 \n",
    "인데 여기서 모듈이름에서 모듈함수를 사용하겠다는 의미이다 즉.\n",
    "from string import upper 라고 쓴다면 string 모듈에서 upper만 사용한다는 의미이다. 하지만 예시에서 *으로 되어있으므로 *은 모두 사용하겠다라는 의미이다.\n",
    "\n",
    "즉 from 구문과 import string 은 어떤 모듈중에서 어떤 부분만 사용하고 싶다면 from 다 사용하고 싶다면 string을 사용하는 것이 차이점이다."
   ]
  },
  {
   "cell_type": "code",
   "execution_count": 12,
   "metadata": {},
   "outputs": [
    {
     "name": "stdout",
     "output_type": "stream",
     "text": [
      "{'0': 8, 'e2': 2, 'ab': 2, 'column': 6, 'container': 2, 'maxHeight': 2, '2000': 2, 'window': 6, 'location': 4, 'search': 4, 'indexOf': 4, 'portal': 2, 'variant': 2, 'watchingNoScroll': 2, '1': 6, 'opts': 8, 'variation': 2, 'simple': 2, 'poll': 2, 'false': 2, 'limit': 2, '20': 2, 'var': 2, 'watching': 4, 'Portal': 2, 'create': 2, 'nytint': 2, 'hp': 2, 'nythpNeediestCasesPromo': 8, 'color': 2, '999': 2, 'font': 8, 'family': 4, 'nyt': 8, 'franklin': 2, 'helvetica': 2, 'arial': 2, 'sans': 2, 'serif': 4, 'size': 4, '13px': 4, 'line': 2, 'height': 2, '16px': 2, 'margin': 2, 'top': 2, '10px': 2, 'story': 6, 'theme': 2, 'feature': 2, 'promo': 2, 'summary': 2, 'georgia': 2, 'times': 4, 'roman': 2, 'text': 4, 'decoration': 4, 'underline': 2, 'hover': 2, 'none': 2, 'Neediest': 4, 'Homelessness': 2, 'Longs': 2, '‘Space': 2, 'Call': 4, 'Own’': 2, 'stretch': 2, 'homelessness': 2, 'Keith': 2, 'Ford': 2, 'graduated': 2, 'school': 2, 'found': 2, 'energy': 2, 'field': 2, 'met': 2, 'fiancée': 2, 'goal': 2, 'finding': 2, 'home': 2, '106th': 2, 'York': 20, 'Times': 14, 'Fund': 2, 'provided': 2, 'direct': 2, 'assistance': 2, 'struggling': 2, 'beyond': 2, 'Donate': 2, '»': 2, 'Advertisers': 4, 'Loading': 4, 'timesvideo': 2, 'explore': 2, 'videos': 2, 'raquo': 58, 'Video': 8, 'Player': 2, 'Inside': 4, 'Nytimes': 2, 'com': 6, 'previous': 2, 'Art': 6, 'Design': 6, 'Tolerance': 2, 'Christian': 2, 'Artifacts': 2, 'Middle': 2, 'East': 2, 'Opinion': 10, 'Thanksgiving': 6, 'Nutrition': 2, 'Tips': 2, 'Eat': 4, 'Whatever': 2, 'you’re': 4, 'hungry': 2, 'don’t': 2, 'eat': 2, 'Business': 10, 'Day': 8, 'Retailers': 2, 'Test': 2, 'Boost': 2, 'Career': 2, 'Social': 4, 'Media': 2, 'Sunday': 8, 'Review': 16, 'Letters': 4, 'Elect': 2, 'President': 2, 'Science': 6, 'Snapdragons': 2, 'Draw': 2, 'Bees': 2, 'Colors': 2, 'Magazine': 10, 'Dangerous': 2, 'Fetus': 2, 'Pushes': 2, 'Fake': 2, 'Jews': 2, '“Bernie': 2, 'Bernstein”': 2, 'makes': 2, 'robocall': 2, 'deep': 2, 'red': 2, 'Alabama': 2, 'Money': 2, 'I’m': 2, 'Rich': 2, 'Makes': 2, 'Anxious': 2, 'Movies': 6, '‘A': 2, 'Fantastic': 2, 'Woman’': 2, 'Lives': 4, 'Title': 2, 'Nuclear': 2, 'War': 4, 'Doesn’t': 2, 'Funny': 2, 'Style': 6, '13': 2, 'Word': 4, 'Love': 4, 'Stories': 2, 'Sections': 2, 'World': 4, 'Mugabe’s': 2, 'Rapid': 2, 'Fall': 2, 'Firing': 2, 'Feud': 2, 'Lady': 2, '‘Revolt’': 2, 'France': 2, 'Sexual': 2, 'Harassment': 2, 'Hits': 2, 'Cultural': 2, 'Resistance': 2, 'Sale': 10, 'Migrants': 2, 'Slaves': 2, 'Libya': 2, 'Causes': 2, 'Outrage': 2, 'Africa': 2, 'Paris': 4, 'Chinese': 2, 'Phone': 2, 'Maker': 2, 'Bets': 2, 'Premium': 2, 'Price': 2, 'Advertising': 2, 'Pizza': 4, 'Partisan': 2, 'Adjusting': 2, 'Owners': 2, 'Chrysler’s': 2, 'Minivan': 2, 'Engines': 2, 'Suddenly': 2, 'Shut': 2, 'Editorial': 2, 'Empty': 2, 'Stores': 2, 'Op': 8, 'Ed': 8, 'Contributor': 4, 'Muslim': 2, 'Women': 4, 'Speak': 2, 'Ourselves': 2, 'Indian': 2, 'Children': 2, 'Missing': 2, 'Manson': 6, 'Mythology': 2, 'Pop': 2, 'Culture': 2, 'Family': 6, 'Race': 2, 'Roy': 4, 'Moore': 4, 'Democratic': 2, 'Candidate': 2, 'Own': 4, 'Technology': 2, 'Tesla': 4, 'Unveils': 4, 'Electric': 4, 'Rival': 4, 'Semi': 4, 'Trucks': 4, 'Apple': 2, 'Postpones': 2, 'Release': 2, 'HomePod': 2, 'Speaker': 2, 'Door': 2, 'Consolidation': 2, 'TV': 2, 'Arts': 8, 'Critic’s': 2, 'Notebook': 2, 'Void': 2, 'Heart': 2, '‘Gurlitt': 2, 'Status': 2, 'Report’': 2, 'Nico': 2, 'Muhly’s': 2, '‘Marnie’': 2, 'Brings': 2, 'Hitchcock': 2, '21st': 2, 'Century': 2, 'Pixar': 4, '‘Coco’': 4, 'Culturally': 4, 'Conscious': 4, 'Politics': 6, 'Sidebar': 2, 'Serving': 2, 'Extra': 2, 'Prison': 2, 'Courthouse': 2, 'Doors': 2, 'Closed': 2, 'Ohio': 2, 'Lawmaker': 2, 'Values': 2, 'Resigns': 2, '‘Inappropriate': 2, 'Behavior’': 2, 'Celebrating': 2, '25': 2, 'Clinton': 4, 'Win': 6, 'Stung': 2, 'Recent': 2, 'Defeat': 2, 'Fashion': 4, 'Anne': 2, 'Wojcicki': 2, 'Doyenne': 2, 'DNA': 2, 'Chillax': 2, 'Ex': 4, 'Look': 2, 'Can’t': 2, 'Destroy': 2, 'Pleasure': 2, 'Products': 2, 'Toys': 2, '‘Justice': 2, 'League’': 2, 'Disappointing': 2, '‘Wonder’': 2, 'Surprises': 2, '‘Call': 2, 'Name’': 2, 'Story': 2, 'Fueled': 2, 'Strangers’': 2, 'Chemistry': 2, 'System': 2, 'Failure': 2, 'Bad': 2, 'Decisions': 2, 'Starved': 2, 'York’s': 4, 'Subways': 2, 'Splitsville': 2, 'Hasidic': 2, 'Enclave': 2, 'Town': 2, 'Cuomo': 2, 'Hires': 2, 'Senior': 2, 'Official': 2, 'Accused': 2, 'Assault': 2, 'Sports': 6, 'Patriots': 6, '33': 2, 'Raiders': 4, '8': 4, 'Hearty': 2, 'Welcome': 2, 'Mexico': 2, 'Trump': 2, 'Blasts': 2, 'LaVar': 2, 'Ball': 2, '‘I': 2, 'Left': 2, 'Jail': 2, '’': 8, 'Happened': 2, 'Week': 2, '11': 2, 'Eagles': 2, 'Saints': 2, 'Theater': 4, 'Brantley': 2, 'Britain': 2, 'Agatha': 2, 'Christie’s': 2, 'Murder': 2, 'Orderly': 2, 'Comfiest': 2, 'Seats': 2, 'London': 4, '‘Lion': 2, 'King’': 2, 'Effect': 2, 'Broadway': 2, 'Smash': 2, 'Changed': 2, 'South': 2, 'African': 4, '‘School': 2, 'Girls’': 2, 'Gleeful': 2, 'Makeover': 2, 'American': 4, 'Genre': 2, 'Six': 4, 'Fukushima': 2, 'Robots': 2, 'Finally': 2, 'Reactors’': 2, 'Melted': 2, 'Uranium': 2, 'Fuel': 2, 'Close': 2, 'Mysteries': 2, 'Stone': 2, 'Saudi': 2, 'Arabia’s': 2, 'Desert': 2, 'Trilobites': 2, 'Population': 2, 'Billions': 2, 'Contributed': 2, 'Bird’s': 2, 'Extinction': 2, 'Obituaries': 4, 'Charles': 2, 'Dies': 6, '83': 2, 'Wild': 2, 'Eyed': 2, 'Leader': 2, 'Murderous': 2, 'Crew': 2, 'Mel': 2, 'Tillis': 2, 'Country': 2, 'Star': 2, 'Songs': 2, 'Stutter': 2, '85': 2, 'Earle': 2, 'Hyman': 2, 'Bill': 4, 'Cosby’s': 2, 'Father': 2, '‘The': 4, 'Cosby': 2, '91': 2, 'Television': 4, '‘Saturday': 2, 'Night': 2, 'Live’': 2, 'Takes': 2, 'Aim': 2, 'Al': 2, 'Franken': 2, '‘S': 2, 'Alumnus': 2, '‘She’s': 2, 'Gotta': 2, 'It’': 2, 'Spike': 2, 'Lee’s': 2, 'Feminist': 2, 'Breakthrough': 2, 'Alia': 2, 'Shawkat': 2, 'Growing': 2, 'Gaining': 2, 'Control': 2, 'Health': 12, 'Cutting': 2, 'Mandate': 4, 'Pay': 2, 'Tax': 4, 'Cuts': 2, 'Necessarily': 2, 'Speeds': 2, 'Gene': 2, 'Therapies': 2, 'Vowing': 2, 'Target': 2, 'Rogue': 2, 'Clinics': 2, 'Global': 2, 'Bird': 2, 'Flu': 2, 'Spreading': 2, 'Asia': 2, 'Experts': 2, 'Quietly': 2, 'Warn': 2, 'Travel': 4, 'Personal': 2, 'Journeys': 4, 'Mourning': 4, 'City': 4, 'Literal': 2, 'Battlefield': 2, 'Frugal': 2, 'Traveler': 2, 'Trip': 2, 'Stunning': 2, 'Rock': 2, 'Hewed': 2, 'Churches': 2, 'Ethiopia': 2, 'Books': 4, 'Nonfiction': 4, '‘Raising': 2, 'Trump’': 2, 'Kardashians': 2, 'Portraits': 2, 'Modern': 2, 'Matriarchy': 2, 'Wall': 2, 'Street': 2, 'Collapsed': 2, 'Book': 4, 'Andy': 2, 'Weir': 2, 'Education': 8, 'Myths': 4, 'Choosing': 2, 'College': 4, 'Major': 2, '10': 4, 'Getting': 2, 'Dream': 2, 'Paradise': 2, 'Papers': 2, 'Endowments': 2, 'Boom': 2, 'Colleges': 2, 'Bury': 2, 'Earnings': 2, 'Overseas': 2, 'Food': 4, 'Dinner': 2, 'Hours': 2, 'Appetite': 2, 'Breakfast': 2, 'Uncounted': 2, 'Feature': 4, '‘Resistance’': 2, 'Helped': 2, 'Democrats': 2, 'Dominate': 2, 'Virginia': 2, 'Spurned': 2, 'ESPN': 2, 'Barstool': 2, 'Staying': 2, 'Offense': 2, 'Real': 6, 'Estate': 6, 'Garden': 4, 'Time': 2, 'Bed': 2, 'Peek': 2, 'Glamorous': 2, 'Apartments': 2, 'Market': 4, 'Homes': 6, 'Upshot': 2, 'Power': 2, 'Identity': 2, 'Public': 2, 'Increase': 2, 'Individual': 2, 'Goes': 2, 'Percent': 2, 'People': 2, 'Top': 2, 'Insider': 4, 'News': 4, 'Photography': 4, 'Steps': 2, 'Grief': 2, 'Crime': 2, 'Scenes': 2, 'Kid': 2, 'Columnist': 2, '52': 2, 'Job': 2, '9': 2, '000': 2, 'Applicants': 2, 'Avalanche': 2, 'Unicorns': 2, 'Automobiles': 4, 'Wheels': 2, 'Near': 2, 'Future': 2, 'Driving': 2, 'Eyes': 2, 'Forward': 2, 'Hands': 2, '2': 2, 'China': 2, 'Export': 2, 'Trumpchi': 2, 'Cars': 2, 'Maybe': 2, 'Name': 2, 'Penthouse': 2, 'Shades': 2, 'Gray': 2, 'Alaïa': 2, 'Designer’s': 2, 'Friends': 2, 'Collaborators': 2, 'React': 2, 'Archives': 2, 'Azzedine': 2, 'Alaïa’s': 2, 'Perfection': 2, 'Connecticut': 2, 'Reported': 2, 'MARCELLE': 2, 'SUSSMAN': 2, 'FISCHLER': 2, 'LISA': 2, 'PREVOST': 2, 'week’s': 2, 'properties': 2, 'include': 2, 'bedroom': 4, 'Redding': 2, 'Conn': 2, 'five': 2, 'Neck': 2, 'nbsp': 2, 'Comments': 2, 'Search': 2, 'Rent': 2, 'Mortgage': 2, 'Calculator': 2, 'EmailedMost': 2, 'ViewedTrendingRecommended': 2, 'Home': 4, 'Page': 2, 'Site': 12, 'Index': 4, 'magnum': 2, 'writeLogo': 2, 'https': 4, 'a1': 4, 'assets': 2, 'homepage': 4, '20171106': 2, '114620': 2, 'images': 2, 'foundation': 6, 'logos': 2, 'standard': 2, 'site': 2, 'index': 2, 'branding': 2, 'link': 2, 'Navigation': 6, 'Tech': 2, 'Paper': 2, 'Corrections': 2, 'Columnists': 2, 'Editorials': 2, 'Contributors': 2, 'Dance': 2, 'Music': 2, 'Events': 6, 'Guide': 6, 'Living': 2, 'Crossword': 4, 'Jobs': 2, 'Weddings': 2, 'Celebrations': 2, 'Listings': 2, 'Reader': 2, 'Center': 2, 'Classifieds': 2, 'Tools': 2, 'Services': 2, 'Multimedia': 2, 'NYT': 2, 'Store': 2, 'Subscribe': 6, 'Manage': 2, 'Account': 2, 'NYTCo': 2, 'Delivery': 2, 'Digital': 2, 'Subscriptions': 8, 'Email': 2, 'Newsletters': 2, 'Alerts': 2, 'Gift': 2, 'Rate': 2, 'Mobile': 4, 'Applications': 2, 'Replica': 2, 'Edition': 2, 'Information': 4, 'copy': 2, '2017': 2, 'Company': 2, 'Contact': 2, 'Advertise': 2, 'Ad': 2, 'Choices': 2, 'Privacy': 2, 'Terms': 4, 'Service': 2, 'Map': 2, 'Help': 2, 'Feedback': 2, 'View': 2, 'Version': 2, 'require': 8, 'main': 4, 'function': 8, 'jquery': 2, 'views': 2, 'page': 2, 'manager': 2, 'pageManager': 4, 'disable': 2, 'tagx': 2, 'return': 2, 'document': 2, 'ready': 2, 'analytics': 2, 'json': 2, 'kidd': 2, 'min': 2, 'js': 2, 'trackingFireEventQueue': 2}\n"
     ]
    }
   ],
   "source": [
    "import pickle\n",
    "from urllib import request\n",
    "import string\n",
    "url = 'http://www.nytimes.com'\n",
    "f = request.urlopen(url)\n",
    "source_bytes = f.read()\n",
    "source = source_bytes.decode('utf-8')\n",
    "#print(source)\n",
    "\n",
    "with open(url[7:] + \".html.txt\", \"w\", encoding = 'UTF8') as ff:\n",
    "    ff.write(source)\n",
    "\n",
    "# print(len(source))\n",
    "flag = False\n",
    "cnt = 0\n",
    "str1 = ' '\n",
    "for x in source :\n",
    "    if (x == '<') or (flag == True) : \n",
    "        flag = True\n",
    "        if x == '<' :\n",
    "            cnt = cnt + 1\n",
    "        if x == '>'  :\n",
    "            cnt = cnt - 1\n",
    "            #flag = False\n",
    "        if cnt == 0 :\n",
    "            flag = False\n",
    "        continue\n",
    "    elif flag == False :\n",
    "        str1 = str1 + x\n",
    "\n",
    "while True : \n",
    "    str1 = str1[:str1.find('-->')] + str1[str1.find('-->') + 3:]\n",
    "    if str1.find('-->') == -1 :\n",
    "        break;\n",
    "#print(string.punctuation)\n",
    "str2 =''\n",
    "for x in str1 :\n",
    "    if(x not in list(string.punctuation)) :\n",
    "        str2 = str2 + x\n",
    "    else :\n",
    "        str2 = str2 + \" \"\n",
    "        \n",
    "# 사전 정의\n",
    "d = {}\n",
    "for x in str2.split() :\n",
    "    d[x] = str2.split().count(x)\n",
    "    \n",
    "##print(d)\n",
    "#print(str2.split())\n",
    "#print(len(str1.split()))\n",
    "\n",
    "\n",
    "li = []   #불용어 리스트 추려내기\n",
    "\n",
    "with open(\"nouse.txt\", \"r\") as f:\n",
    "    for i in f :\n",
    "        if i !='' :\n",
    "            li.append(i.strip())\n",
    "\n",
    "for i in range(li.count(\"\")) :\n",
    "    li.remove(\"\")\n",
    "\n",
    "#print(li)\n",
    "\n",
    "# 사전 객체에 불용어 리스트를 삭제하기\n",
    "li1 = li.copy()\n",
    "\n",
    "for i in li :\n",
    "    li1.append(i.upper())\n",
    "    li1.append(i.capitalize())\n",
    "\n",
    "#print(li1)\n",
    "for i in li1:\n",
    "    if i in d:\n",
    "        del d[i]\n",
    "\n",
    "## 사전 객체를 피클을 통해서 파일 만들기\n",
    "f = open(url[7:]+\".word.frequency\", \"bw\")\n",
    "\n",
    "pickle.dump(d, f)\n",
    "f.close()\n",
    "\n",
    "f = open(url[7:] +\".word.frequency\", \"br\")\n",
    "\n",
    "dd = pickle.load(f)\n",
    "print(dd)\n"
   ]
  },
  {
   "cell_type": "code",
   "execution_count": 13,
   "metadata": {},
   "outputs": [
    {
     "name": "stdout",
     "output_type": "stream",
     "text": [
      "{'Wikipedia': 38, 'free': 6, 'encyclopedia': 6, 'document': 4, 'documentElement': 4, 'className': 4, 'replace': 2, 'client': 2, 'nojs': 2, '1client': 2, 'js': 4, '2': 2, 'window': 12, 'RLQ': 12, 'push': 6, 'function': 8, 'mw': 14, 'config': 6, 'set': 8, 'wgCanonicalNamespace': 2, 'wgCanonicalSpecialPageName': 2, 'false': 30, 'wgNamespaceNumber': 2, '0': 16, 'wgPageName': 2, 'Main': 18, 'Page': 14, 'wgTitle': 2, 'wgCurRevisionId': 2, '807996266': 6, 'wgRevisionId': 2, 'wgArticleId': 2, '15580374': 4, 'wgIsArticle': 2, 'true': 28, 'wgIsRedirect': 2, 'wgAction': 2, 'view': 4, 'wgUserName': 2, 'null': 6, 'wgUserGroups': 2, 'wgCategories': 2, 'wgBreakFrames': 2, 'wgPageContentLanguage': 2, 'en': 10, 'wgPageContentModel': 2, 'wikitext': 2, 'wgSeparatorTransformTable': 2, 'wgDigitTransformTable': 2, 'wgDefaultDateFormat': 2, 'dmy': 2, 'wgMonthNames': 2, 'January': 2, 'February': 2, 'March': 2, 'April': 6, 'June': 2, 'July': 2, 'August': 2, 'September': 4, 'October': 4, 'November': 14, 'December': 2, 'wgMonthNamesShort': 2, 'Jan': 2, 'Feb': 2, 'Mar': 2, 'Apr': 2, 'Jun': 2, 'Jul': 2, 'Aug': 2, 'Sep': 2, 'Oct': 2, 'Nov': 2, 'Dec': 2, 'wgRelevantPageName': 2, 'wgRelevantArticleId': 2, 'wgRequestId': 2, 'WhK1fwpAAEAAAIgrukgAAACM': 2, 'wgIsProbablyEditable': 2, 'wgRelevantPageIsProbablyEditable': 2, 'wgRestrictionEdit': 2, 'sysop': 4, 'wgRestrictionMove': 2, 'wgIsMainPage': 2, 'wgFlaggedRevsParams': 2, 'tags': 2, 'wgStableRevisionId': 2, 'wgWikiEditorEnabledModules': 2, 'toolbar': 4, 'preview': 2, 'publish': 2, 'wgBetaFeaturesFeatures': 2, 'wgMediaViewerOnClick': 2, 'wgMediaViewerEnabledByDefault': 2, 'wgPopupsShouldSendModuleToUser': 2, 'wgPopupsConflictsWithNavPopupGadget': 2, 'wgVisualEditor': 2, 'pageLanguageCode': 2, 'pageLanguageDir': 2, 'ltr': 2, 'pageVariantFallbacks': 2, 'usePageImages': 2, 'usePageDescriptions': 2, 'wgPreferredVariant': 2, 'wgMFExpandAllSectionsUserOption': 2, 'wgMFDisplayWikibaseDescriptions': 2, 'search': 4, 'nearby': 2, 'watchlist': 4, 'tagline': 2, 'wgRelatedArticles': 2, 'wgRelatedArticlesUseCirrusSearch': 2, 'wgRelatedArticlesOnlyUseCirrusSearch': 2, 'wgULSCurrentAutonym': 2, 'English': 10, 'wgNoticeProject': 2, 'wikipedia': 4, 'wgCentralNoticeCookiesToDelete': 2, 'wgCentralNoticeCategoriesUsingLegacy': 2, 'Fundraising': 2, 'fundraising': 2, 'wgCategoryTreePageCategoryOptions': 2, 'mode': 2, 'hideprefix': 2, '20': 6, 'showcount': 2, 'namespaces': 2, 'wgWikibaseItemId': 2, 'Q5296': 2, 'wgCentralAuthMobileDomain': 2, 'wgCodeMirrorEnabled': 2, 'wgVisualEditorToolbarScrollOffset': 2, 'wgVisualEditorUnsupportedEditParams': 2, 'undo': 2, 'undoafter': 2, 'veswitched': 2, 'wgEditSubmitButtonLabelPublish': 2, 'loader': 6, 'ext': 56, 'gadget': 18, 'charinsert': 4, 'styles': 12, 'ready': 38, 'globalCssJs': 8, 'user': 18, 'site': 12, 'noscript': 4, 'options': 2, 'tokens': 6, 'loading': 2, 'visualEditor': 6, 'desktopArticleTarget': 4, 'uls': 8, 'interlanguage': 2, 'wikimediaBadges': 2, 'mediawiki': 18, 'legacy': 4, 'shared': 2, 'commonPrint': 2, 'sectionAnchor': 2, 'skinning': 2, 'interface': 4, 'skins': 4, 'vector': 4, 'implement': 2, '1dqfd7l': 2, 'jQuery': 2, 'require': 2, 'module': 2, 'editToken': 2, 'patrolToken': 2, 'watchToken': 2, 'csrfToken': 2, 'nomin': 2, 'load': 2, 'page': 12, 'startup': 2, 'hidpi': 2, 'searchSuggest': 2, 'teahouse': 2, 'ReferenceTooltips': 2, 'notice': 2, 'DRN': 2, 'wizard': 2, 'refToolbar': 2, 'extra': 2, 'buttons': 2, 'switcher': 2, 'centralauth': 2, 'centralautologin': 2, 'mmv': 4, 'head': 2, 'bootstrap': 2, 'autostart': 2, 'popups': 2, 'init': 4, 'targetLoader': 2, 'eventLogging': 2, 'subscriber': 2, 'wikimediaEvents': 2, 'navigationTiming': 2, 'eventlogger': 2, 'centralNotice': 4, 'geoIP': 2, 'startUp': 2, 'Jump': 2, 'navigation': 2, 'Welcome': 2, 'edit': 2, '5': 4, '515': 4, '130': 4, 'articles': 14, 'Arts': 2, 'Biography': 2, 'Geography': 2, 'History': 2, 'Mathematics': 2, 'Science': 2, 'Society': 2, 'Technology': 2, 'portals': 2, 'featured': 20, 'article': 12, 'Beograd': 4, 'class': 2, 'consisted': 2, 'destroyers': 2, 'built': 4, 'Royal': 4, 'Yugoslav': 2, 'Navy': 6, 'late': 2, '1930s': 2, 'French': 6, 'design': 2, 'constructed': 2, 'France': 4, 'Zagreb': 8, 'Ljubljana': 2, 'Kingdom': 2, 'Yugoslavia': 6, 'German': 4, 'led': 6, 'Axis': 2, 'invasion': 4, '1941': 2, 'scuttled': 4, 'prevent': 2, 'capture': 2, 'seized': 4, 'Italians': 2, 'Italian': 4, 'operated': 6, 'captured': 2, 'ships': 2, 'convoy': 2, 'escorts': 2, 'Italy': 2, 'Aegean': 2, 'Sea': 2, 'North': 2, 'Africa': 2, 'lost': 4, 'Gulf': 2, 'Tunis': 2, '1943': 4, 'Germans': 2, 'surrender': 2, 'conflicting': 2, 'reports': 2, 'fate': 2, 'ship': 2, 'final': 2, 'weeks': 2, 'war': 2, '1967': 2, 'film': 2, 'scuttling': 2, '1973': 2, 'President': 6, 'wartime': 2, 'Partisan': 2, 'leader': 2, 'Josip': 2, 'Broz': 2, 'Tito': 2, 'awarded': 2, 'People': 2, 'Hero': 2, 'posthumously': 2, 'officers': 2, '160': 16, 'Recently': 6, 'Freak': 2, 'Presque': 2, 'Isle': 2, 'Park': 8, 'Ben': 2, 'Affleck': 2, 'Archive': 8, 'email': 4, 'Campo': 4, 'troupial': 4, 'individual': 2, 'pictured': 6, 'found': 2, 'larvae': 2, '126': 2, 'flies': 2, 'stomach': 2, 'Games': 2, 'Culture': 4, 'criticised': 2, 'Sheva': 2, 'Alomar': 2, 'video': 2, 'game': 2, 'equivalent': 2, 'Pocahontas': 2, 'commission': 4, 'John': 2, 'Rutter': 2, 'composed': 2, 'Gloria': 2, 'concert': 2, 'piece': 2, 'choir': 2, 'brass': 2, 'percussion': 2, 'organ': 2, 'Philip': 2, 'Caves': 2, 'influence': 2, 'attitudes': 2, 'Glasgow': 2, 'Children': 2, 'Hospital': 2, '1970s': 2, 'described': 2, 'whirlwind': 2, 'newborns': 2, 'previously': 2, 'considered': 2, 'unfit': 2, 'surgery': 2, 'Norwegian': 2, 'mountaineer': 2, 'Arne': 2, 'Næss': 2, 'Jr': 2, 'died': 2, 'climbing': 2, 'accident': 2, 'months': 2, 'accept': 2, 'Laureus': 2, 'Lifetime': 2, 'Achievement': 2, 'Award': 4, 'biologist': 2, 'Inez': 2, 'Whipple': 2, 'Wilder': 2, 'contributions': 2, 'study': 4, 'fingerprints': 2, 'salamanders': 2, 'Marshall': 2, 'Islands': 2, 'Nuclear': 2, 'Claims': 2, 'Tribunal': 2, 'ran': 2, 'funds': 2, '2009': 2, 'Amy': 2, 'Herring': 2, 'data': 2, 'American': 4, 'women': 4, 'reportedly': 2, 'virgins': 2, 'birth': 2, 'child': 2, 'Recent': 4, 'additions': 2, 'Start': 2, 'Nominate': 4, 'news': 6, 'Salvator': 2, 'Mundi': 4, '\\u200bSalvator': 2, 'attributed': 2, 'Leonardo': 4, 'da': 2, 'Vinci': 2, 'sells': 2, 'auction': 2, '450': 2, '3': 2, 'million': 4, 'record': 2, 'artwork': 2, 'Zimbabwe': 2, 'National': 6, 'Army': 4, 'troops': 2, 'seize': 2, 'control': 2, 'Harare': 2, 'Robert': 2, 'Mugabe': 2, 'house': 2, 'arrest': 2, 'Borut': 2, 'Pahor': 2, 're': 2, 'elected': 2, 'Slovenia': 2, 'earthquake': 2, 'strikes': 2, 'border': 2, 'Iraq': 2, 'Iran': 2, 'killing': 2, '540': 2, 'people': 2, 'injuring': 2, '8': 8, '000': 12, 'Paradise': 2, 'Papers—more': 2, '13': 4, 'financial': 2, 'documents': 2, 'relating': 2, 'offshore': 2, 'investment—are': 2, 'leaked': 2, 'deaths': 2, 'Charles': 2, 'Manson': 2, 'Pancho': 2, 'Segura': 2, 'Rikard': 2, 'Wolff': 2, 'Lil': 2, 'Peep': 2, 'recent': 2, 'events': 2, 'day': 2, 'Reciting': 2, 'sermon': 2, 'night': 2, 'martyrdom': 2, 'Imam': 2, 'Reza': 2, 'Islam': 2, '2017': 8, 'Transgender': 2, 'Day': 4, 'Remembrance': 2, 'Sovereignty': 2, 'Argentina': 2, 'Diocletian': 4, 'Roman': 4, 'coin': 4, '284': 2, '–': 22, 'emperor': 2, 'eventually': 2, 'establishing': 2, 'reforms': 2, 'Crisis': 2, 'Third': 2, 'Century': 2, '1776': 2, 'Revolutionary': 2, 'War': 6, 'Battle': 4, 'Fort': 2, 'Lee': 2, 'marked': 2, 'Jersey': 2, 'British': 4, 'Hessian': 2, 'forces': 4, 'subsequent': 2, 'retreat': 2, 'Continental': 2, '1917': 2, 'World': 4, 'Cambrai': 2, 'initial': 2, 'success': 2, 'Germany': 2, 'Hindenburg': 2, 'Line': 2, '1952': 4, 'Slánský': 4, 'trial': 4, 'Czech': 2, 'Secretary': 2, 'Rudolf': 2, 'Communist': 2, 'Party': 4, 'Czechoslovakia': 2, 'held': 2, '1990': 2, 'Andrei': 2, 'Chikatilo': 2, 'Soviet': 2, 'Union': 2, 'prolific': 2, 'serial': 2, 'killers': 2, '56': 2, 'convicted': 2, 'murders': 2, 'arrested': 2, 'Novocherkassk': 2, 'Giovanni': 2, 'Battista': 2, 'Agucchi': 2, '1570': 2, '·': 4, 'Gervase': 2, 'Helwys': 2, '1615': 2, 'Cri': 2, 'Zelda': 2, 'Brits': 2, '1983': 2, 'anniversaries': 6, '19': 2, '21': 8, 'List': 2, 'historical': 2, 'list': 6, 'Frank': 2, 'Otis': 2, 'House': 2, 'Fairview': 2, 'Riverside': 2, 'Louisiana': 14, '22': 2, 'parks': 10, 'governed': 2, 'Office': 2, 'Lieutenant': 2, 'Governor': 2, 'division': 2, 'Department': 2, 'Recreation': 2, 'Tourism': 2, 'park': 4, 'system': 4, '1934': 4, 'passed': 2, 'legislation': 4, 'created': 2, 'Parks': 4, 'Commission': 4, 'broadened': 2, 'role': 2, 'include': 2, 'development': 4, 'outdoor': 2, 'recreation': 2, 'programs': 2, 'resources': 4, 'formed': 2, '7': 10, 'sites': 2, 'acquired': 2, 'II': 2, 'rate': 2, 'acquisition': 2, 'declined': 2, 'addition': 2, 'Sam': 2, 'Houston': 2, 'Jones': 2, '1944': 2, '1966': 2, 'Service': 2, 'reviewed': 2, 'recommendations': 2, 'specific': 2, 'guidelines': 2, 'requirements': 2, 'selected': 2, 'criteria': 2, 'natural': 2, 'unique': 2, 'exceptional': 2, 'scenic': 2, 'value': 20, 'Latin': 2, 'Grammy': 2, 'Album': 2, 'Deaths': 2, 'drug': 2, 'overdose': 2, 'intoxication': 2, 'Awards': 2, 'nominations': 2, 'received': 2, 'DiCaprio': 2, 'lists': 2, 'picture': 2, 'Luncheon': 2, 'Boating': 2, 'painting': 4, 'completed': 2, 'impressionist': 2, 'Pierre': 4, 'Auguste': 4, 'Renoir': 4, '1880': 2, '1881': 2, 'depicts': 2, 'friends': 2, 'relaxing': 2, 'balcony': 2, 'Maison': 2, 'Fournaise': 2, 'restaurant': 2, 'beside': 2, 'Seine': 2, 'River': 2, 'Chatou': 2, 'Included': 2, 'Seventh': 2, 'Impressionist': 2, 'Exhibition': 2, '1882': 2, 'purchased': 2, 'artist': 2, 'Paul': 2, 'Durand': 2, 'Ruel': 2, 'bought': 2, 'decade': 2, 'pursuit': 2, '1923': 2, 'industrialist': 2, 'Duncan': 2, 'Phillips': 4, 'Collection': 4, 'Washington': 2, 'richness': 2, 'form': 4, 'fluidity': 2, 'brush': 2, 'stroke': 2, 'flickering': 2, 'light': 2, 'Painting': 2, 'Dusky': 2, 'lory': 2, 'Summer': 2, 'Evening': 2, 'Skagen': 2, 'Southern': 2, 'Beach': 2, 'Nakhi': 2, 'pictures': 2, 'Community': 2, 'portal': 2, 'Bulletin': 2, 'board': 2, 'projects': 8, 'activities': 4, 'covering': 2, 'wide': 4, 'range': 6, 'Help': 2, 'desk': 4, 'questions': 4, 'using': 4, 'Local': 2, 'embassy': 2, 'related': 2, 'communication': 2, 'languages': 4, 'Reference': 2, 'Serving': 2, 'virtual': 2, 'librarians': 2, 'volunteers': 2, 'tackle': 2, 'subjects': 2, 'Site': 2, 'Announcements': 2, 'updates': 2, 'press': 2, 'releases': 2, 'Wikimedia': 10, 'Foundation': 6, 'Village': 2, 'pump': 2, 'discussions': 2, 'including': 2, 'technical': 2, 'issues': 2, 'policies': 2, 'sister': 2, 'hosted': 2, 'profit': 4, 'organization': 4, 'hosts': 2, 'Commons': 4, 'Free': 14, 'media': 2, 'repository': 2, 'MediaWiki': 2, 'Wiki': 4, 'software': 2, 'Meta': 2, 'project': 2, 'coordination': 2, 'Wikibooks': 2, 'textbooks': 2, 'manuals': 2, 'Wikidata': 2, 'knowledge': 2, 'base': 2, 'Wikinews': 2, 'content': 4, 'Wikiquote': 2, 'quotations': 2, 'Wikisource': 2, 'library': 2, 'Wikispecies': 2, 'Directory': 2, 'species': 2, 'Wikiversity': 2, 'learning': 2, 'materials': 2, 'Wikivoyage': 2, 'travel': 2, 'guide': 2, 'Wiktionary': 2, 'Dictionary': 2, 'thesaurus': 2, 'written': 2, 'Started': 2, '2001': 4, 'currently': 2, 'contains': 2, 'Wikipedias': 4, 'available': 4, 'largest': 2, 'listed': 2, 'below': 2, '1': 18, 'Deutsch': 2, 'Español': 2, 'Français': 2, 'Italiano': 2, 'Nederlands': 2, '日本語': 2, 'Polski': 2, 'Русский': 2, 'Svenska': 2, 'Tiếng': 2, 'Việt': 2, '250': 2, 'العربية': 2, 'Bahasa': 4, 'Indonesia': 2, 'Melayu': 2, 'Català': 2, 'Čeština': 2, 'Euskara': 2, 'فارسی': 2, '한국어': 2, 'Magyar': 2, 'Norsk': 4, 'Português': 2, 'Română': 2, 'Srpski': 2, 'Srpskohrvatski': 2, 'Suomi': 2, 'Türkçe': 2, 'Українська': 2, '中文': 2, '50': 2, 'Bosanski': 2, 'Български': 2, 'Dansk': 2, 'Eesti': 2, 'Ελληνικά': 2, 'simple': 2, 'Esperanto': 2, 'Galego': 2, 'עברית': 2, 'Hrvatski': 2, 'Latviešu': 2, 'Lietuvių': 2, 'nynorsk': 2, 'Slovenčina': 2, 'Slovenščina': 2, 'ไทย': 2, 'Complete': 2, 'Retrieved': 2, 'https': 2, 'org': 2, 'index': 2, 'php': 2, 'title': 2, 'amp': 2, 'oldid': 2, 'Navigation': 4, 'menu': 2, 'Personal': 2, 'tools': 2, 'logged': 2, 'inTalkContributionsCreate': 2, 'accountLog': 2, 'Namespaces': 2, 'Talk': 2, 'Variants': 2, 'Views': 2, 'Read': 2, 'View': 4, 'source': 2, 'history': 2, 'Search': 2, 'pageContentsFeatured': 2, 'contentCurrent': 2, 'eventsRandom': 2, 'articleDonate': 2, 'WikipediaWikipedia': 2, 'store': 2, 'Interaction': 2, 'HelpAbout': 2, 'WikipediaCommunity': 2, 'portalRecent': 2, 'changesContact': 2, 'Tools': 2, 'links': 2, 'hereRelated': 2, 'changesUpload': 2, 'fileSpecial': 2, 'pagesPermanent': 2, 'linkPage': 2, 'informationWikidata': 2, 'itemCite': 2, 'Print': 2, 'export': 2, 'Create': 2, 'bookDownload': 2, 'PDFPrintable': 2, 'version': 2, 'CommonsMediaWikiMeta': 2, 'WikiWikispeciesWikibooksWikidataWikinewsWikiquoteWikisourceWikiversityWikivoyageWiktionary': 2, 'Languages': 2, 'العربيةБългарскиBosanskiCatalàČeštinaDanskDeutschEestiΕλληνικάEspañolEsperantoEuskaraفارسیFrançaisGalego한국어HrvatskiBahasa': 2, 'IndonesiaItalianoעבריתქართულიLatviešuLietuviųMagyarBahasa': 2, 'MelayuNederlands日本語NorskNorsk': 2, 'nynorskPolskiPortuguêsRomânăРусскийSimple': 2, 'EnglishSlovenčinaSlovenščinaСрпски': 2, 'srpskiSrpskohrvatski': 2, 'српскохрватскиSuomiSvenskaไทยTürkçeУкраїнськаTiếng': 2, 'Việt中文': 2, 'edited': 2, '31': 2, '07': 2, '33': 2, 'Text': 2, 'Creative': 2, 'Attribution': 2, 'ShareAlike': 2, 'License': 2, 'additional': 2, 'terms': 2, 'apply': 2, 'agree': 2, 'Terms': 2, 'Privacy': 4, 'Policy': 2, 'Wikipedia®': 2, 'registered': 2, 'trademark': 2, 'Inc': 2, 'policy': 2, 'Disclaimers': 2, 'Contact': 2, 'Developers': 2, 'Cookie': 2, 'statement': 2, 'Mobile': 2, 'wgPageParseReport': 2, 'limitreport': 6, 'cputime': 2, '656': 2, 'walltime': 2, '804': 2, 'ppvisitednodes': 2, '3318': 2, 'limit': 18, '1000000': 2, 'ppgeneratednodes': 2, '1500000': 2, 'postexpandincludesize': 2, '110649': 2, '2097152': 4, 'templateargumentsize': 2, '6913': 2, 'expansiondepth': 2, '14': 2, '40': 2, 'expensivefunctioncount': 2, '6': 4, '500': 2, 'entityaccesscount': 2, '400': 2, 'timingprofile': 2, '100': 2, '00': 4, '605': 2, '242': 2, 'total': 2, '73': 2, '30': 2, '443': 2, '637': 2, 'Tomorrow': 2, '37': 2, '02': 2, '224': 4, '068': 2, 'Template': 12, 'Queue': 4, '12': 2, '23': 2, '74': 4, '026': 2, 'image': 4, '79': 2, '53': 2, '52': 2, '925': 2, 'POTD': 2, 'protected': 2, '11': 2, '49': 2, '51': 2, '363': 2, 'Wide': 2, '68': 2, '46': 2, '465': 2, 'Selected': 2, '10': 4, '42': 4, '966': 2, '9': 2, 'Remove': 2, 'file': 2, 'prefix': 2, '343': 2, 'scribunto': 2, 'timeusage': 2, '090': 2, 'memusage': 2, '3202159': 2, '52428800': 2, 'cachereport': 2, 'origin': 2, 'mw1296': 2, 'timestamp': 2, '20171120105858': 2, 'ttl': 2, '3600': 2, 'transientcontent': 2, 'wgBackendResponseTime': 2, '91': 2, 'wgHostname': 2, 'mw1269': 2}\n"
     ]
    }
   ],
   "source": [
    "from urllib import request\n",
    "import string\n",
    "url = 'https://en.wikipedia.org'\n",
    "f = request.urlopen(url)\n",
    "source_bytes = f.read()\n",
    "source = source_bytes.decode('utf-8')\n",
    "#print(source)\n",
    "\n",
    "with open(url[8:] + \".html.txt\", \"w\", encoding = 'UTF8') as ff:\n",
    "    ff.write(source)\n",
    "\n",
    "# print(len(source))\n",
    "flag = False\n",
    "cnt = 0\n",
    "str1 = ' '\n",
    "for x in source :\n",
    "    if (x == '<') or (flag == True) : \n",
    "        flag = True\n",
    "        if x == '<' :\n",
    "            cnt = cnt + 1\n",
    "        if x == '>'  :\n",
    "            cnt = cnt - 1\n",
    "            #flag = False\n",
    "        if cnt == 0 :\n",
    "            flag = False\n",
    "        continue\n",
    "    elif flag == False :\n",
    "        str1 = str1 + x\n",
    "\n",
    "while True : \n",
    "    str1 = str1[:str1.find('-->')] + str1[str1.find('-->') + 3:]\n",
    "    if str1.find('-->') == -1 :\n",
    "        break;\n",
    "#print(string.punctuation)\n",
    "str2 =''\n",
    "for x in str1 :\n",
    "    if(x not in list(string.punctuation)) :\n",
    "        str2 = str2 + x\n",
    "    else :\n",
    "        str2 = str2 + \" \"\n",
    "        \n",
    "# 사전 정의\n",
    "d = {}\n",
    "for x in str2.split() :\n",
    "    d[x] = str2.split().count(x)\n",
    "    \n",
    "##print(d)\n",
    "#print(str2.split())\n",
    "#print(len(str1.split()))\n",
    "\n",
    "\n",
    "li = []   #불용어 리스트 추려내기\n",
    "\n",
    "with open(\"nouse.txt\", \"r\") as f:\n",
    "    for i in f :\n",
    "        if i !='' :\n",
    "            li.append(i.strip())\n",
    "\n",
    "for i in range(li.count(\"\")) :\n",
    "    li.remove(\"\")\n",
    "\n",
    "#print(li)\n",
    "\n",
    "# 사전 객체에 불용어 리스트를 삭제하기\n",
    "li1 = li.copy()\n",
    "\n",
    "for i in li :\n",
    "    li1.append(i.upper())\n",
    "    li1.append(i.capitalize())\n",
    "\n",
    "#print(li1)\n",
    "for i in li1:\n",
    "    if i in d:\n",
    "        del d[i]\n",
    "\n",
    "## 사전 객체를 피클을 통해서 파일 만들기\n",
    "f = open(url[8:]+\".word.frequency\", \"bw\")\n",
    "\n",
    "pickle.dump(d, f)\n",
    "f.close()\n",
    "\n",
    "f = open(url[8:] +\".word.frequency\", \"br\")\n",
    "\n",
    "dd = pickle.load(f)\n",
    "print(dd)\n"
   ]
  },
  {
   "cell_type": "code",
   "execution_count": 24,
   "metadata": {},
   "outputs": [
    {
     "ename": "KeyboardInterrupt",
     "evalue": "",
     "output_type": "error",
     "traceback": [
      "\u001b[1;31m---------------------------------------------------------------------------\u001b[0m",
      "\u001b[1;31mKeyboardInterrupt\u001b[0m                         Traceback (most recent call last)",
      "\u001b[1;32m<ipython-input-24-a964dc7d29ae>\u001b[0m in \u001b[0;36m<module>\u001b[1;34m()\u001b[0m\n\u001b[0;32m     41\u001b[0m \u001b[0md\u001b[0m \u001b[1;33m=\u001b[0m \u001b[1;33m{\u001b[0m\u001b[1;33m}\u001b[0m\u001b[1;33m\u001b[0m\u001b[0m\n\u001b[0;32m     42\u001b[0m \u001b[1;32mfor\u001b[0m \u001b[0mx\u001b[0m \u001b[1;32min\u001b[0m \u001b[0mstr2\u001b[0m\u001b[1;33m.\u001b[0m\u001b[0msplit\u001b[0m\u001b[1;33m(\u001b[0m\u001b[1;33m)\u001b[0m \u001b[1;33m:\u001b[0m\u001b[1;33m\u001b[0m\u001b[0m\n\u001b[1;32m---> 43\u001b[1;33m     \u001b[0md\u001b[0m\u001b[1;33m[\u001b[0m\u001b[0mx\u001b[0m\u001b[1;33m]\u001b[0m \u001b[1;33m=\u001b[0m \u001b[0mstr2\u001b[0m\u001b[1;33m.\u001b[0m\u001b[0msplit\u001b[0m\u001b[1;33m(\u001b[0m\u001b[1;33m)\u001b[0m\u001b[1;33m.\u001b[0m\u001b[0mcount\u001b[0m\u001b[1;33m(\u001b[0m\u001b[0mx\u001b[0m\u001b[1;33m)\u001b[0m\u001b[1;33m\u001b[0m\u001b[0m\n\u001b[0m\u001b[0;32m     44\u001b[0m \u001b[1;33m\u001b[0m\u001b[0m\n\u001b[0;32m     45\u001b[0m \u001b[0mli\u001b[0m \u001b[1;33m=\u001b[0m \u001b[1;33m[\u001b[0m\u001b[1;33m]\u001b[0m   \u001b[1;31m#불용어 리스트 추려내기\u001b[0m\u001b[1;33m\u001b[0m\u001b[0m\n",
      "\u001b[1;31mKeyboardInterrupt\u001b[0m: "
     ]
    }
   ],
   "source": [
    "from urllib import request\n",
    "import string\n",
    "url = 'https://www.yahoo.com'\n",
    "f = request.urlopen(url)\n",
    "source_bytes = f.read()\n",
    "source = source_bytes.decode('utf-8')\n",
    "\n",
    "\n",
    "with open(url[8:] + \".html.txt\", \"w\", encoding = 'UTF8') as ff:\n",
    "    ff.write(source)\n",
    "\n",
    "flag = False\n",
    "cnt = 0\n",
    "str1 = ' '\n",
    "for x in source :\n",
    "    if (x == '<') or (flag == True) : \n",
    "        flag = True\n",
    "        if x == '<' :\n",
    "            cnt = cnt + 1\n",
    "        if x == '>'  :\n",
    "            cnt = cnt - 1\n",
    "            #flag = False\n",
    "        if cnt == 0 :\n",
    "            flag = False\n",
    "        continue\n",
    "    elif flag == False :\n",
    "        str1 = str1 + x\n",
    "\n",
    "while True : \n",
    "    str1 = str1[:str1.find('-->')] + str1[str1.find('-->') + 3:]\n",
    "    if str1.find('-->') == -1 :\n",
    "        break;\n",
    "str2 =''\n",
    "for x in str1 :\n",
    "    if(x not in list(string.punctuation)) :\n",
    "        str2 = str2 + x\n",
    "    else :\n",
    "        str2 = str2 + \" \"\n",
    "        \n",
    "# 사전 정의\n",
    "d = {}\n",
    "for x in str2.split() :\n",
    "    d[x] = str2.split().count(x)\n",
    "    \n",
    "li = []   #불용어 리스트 추려내기\n",
    "\n",
    "with open(\"nouse.txt\", \"r\") as f:\n",
    "    for i in f :\n",
    "        if i !='' :\n",
    "            li.append(i.strip())\n",
    "\n",
    "for i in range(li.count(\"\")) :\n",
    "    li.remove(\"\")\n",
    "\n",
    "# 사전 객체에 불용어 리스트를 삭제하기\n",
    "li1 = li.copy()\n",
    "\n",
    "for i in li :\n",
    "    li1.append(i.upper())\n",
    "    li1.append(i.capitalize())\n",
    "\n",
    "for i in li1:\n",
    "    if i in d:\n",
    "        del d[i]\n",
    "\n",
    "## 사전 객체를 피클을 통해서 파일 만들기\n",
    "f = open(url[8:]+\".word.frequency\", \"bw\")\n",
    "\n",
    "pickle.dump(d, f)\n",
    "f.close()\n",
    "\n",
    "f = open(url[8:] +\".word.frequency\", \"br\")\n",
    "\n",
    "dd = pickle.load(f)\n",
    "print(dd)"
   ]
  },
  {
   "cell_type": "code",
   "execution_count": 16,
   "metadata": {},
   "outputs": [
    {
     "name": "stdout",
     "output_type": "stream",
     "text": [
      "{'Korea': 38, 'Herald': 20, 'nVarMediaType': 2, '2': 8, 'function': 14, 'var': 50, 'fbq': 18, 'window': 18, 'loaded': 4, 'fbds': 10, 'document': 16, 'createElement': 4, 'script': 6, 'async': 4, 'true': 8, 'src': 4, 'connect': 2, 'facebook': 2, 'net': 2, 'en': 2, 'js': 4, 'getElementsByTagName': 4, '0': 8, 'parentNode': 4, 'insertBefore': 4, 'push': 8, 'addPixelId': 2, '1440573646257323': 2, 'track': 2, 'PixelInitialized': 2, 'Business': 8, 'Investor': 4, 'Superich': 2, 'Real': 2, 'Foods': 2, 'POP': 8, 'Pop': 2, 'Junior': 2, 'HOOC': 4, 'SIGN': 2, 'MOBILE': 2, 'Home': 2, 'National': 12, 'Life': 4, 'Style': 4, 'Entertainment': 6, 'Sports': 6, 'World': 12, 'Opinion': 4, 'Weekender': 2, 'English': 4, 'Cafe': 4, 'Subscribe': 2, 'Politics': 8, 'Social': 22, 'Affairs': 6, 'Foreign': 2, 'Defense': 4, 'North': 22, 'Science': 2, 'Diplomatic': 2, 'Circuit': 4, 'Education': 2, 'Economy': 6, 'Finance': 8, 'Industry': 12, 'Technology': 12, 'Automode': 2, 'Culture': 4, 'Travel': 2, 'Fashion': 2, 'Food': 4, 'Beverage': 2, 'Books': 2, 'People': 6, 'Expat': 2, 'Living': 2, 'Arts': 2, 'Design': 4, 'Health': 2, 'Film': 4, 'Television': 4, 'Music': 10, 'Theater': 4, 'Soccer': 4, 'Baseball': 2, 'Golf': 2, 'News': 6, 'Asia': 4, 'Network': 2, 'Editorial': 6, 'Viewpoints': 2, 'Podcast': 2, 'Powernote': 2, 'Korean': 30, 'Mobile': 6, 'App': 2, 'PDF': 2, 'SMS': 2, 'LMS': 2, 'Twitter': 2, 'Facebook': 2, 'Youtube': 2, 'RSS': 2, 'Version': 2, 'launch': 4, 'ballistic': 4, 'missile': 4, 'spy': 4, 'agency': 6, 'Jo': 2, 'rim': 2, 'highly': 10, 'types': 2, 'missiles': 4, 'underline': 2, 'nuclear': 2, 'threats': 2, 'South': 16, 'Korea’s': 10, 'Monday': 36, 'Active': 2, 'movements': 2, 'continuously': 4, 'spotted': 2, 'development': 2, 'institutes': 2, 'conducted': 2, 'engine': 2, 'tests': 2, 'Intelligence': 6, 'Service': 8, 'told': 10, 'lawmakers': 2, 'closed': 6, 'door': 2, 'parliamentary': 4, 'meeting': 6, 'Hwang': 2, 'Pyong': 2, 'left': 10, 'Kim': 12, 'Won': 4, 'hong': 2, 'Yonhap': 28, '“While': 2, 'affairs': 24, 'Ex': 2, 'presidential': 4, 'aide': 2, 'denies': 2, 'wrongdoing': 2, 'Jun': 6, 'Byung': 2, 'hun': 2, 'former': 2, 'secretary': 2, 'political': 8, 'denied': 2, 'bribery': 2, 'allegations': 2, 'arrived': 2, 'prosecutors’': 2, 'office': 8, 'questioning': 2, 'suspected': 4, 'receiving': 2, '330': 2, 'million': 14, 'won': 16, '300': 4, '000': 6, 'kickbacks': 2, 'cable': 2, 'channel': 2, 'Lotte': 8, 'Homeshopping': 2, '2015': 6, 'exchange': 2, 'wielding': 2, 'influence': 2, 'channel’s': 2, 'broadcasting': 2, 'license': 8, 'renewed': 2, 'resigned': 2, 'scandal': 2, 'Thursday': 2, '“Once': 2, 'illegal': 2, 'Kosdaq': 10, 'roars': 2, '10': 10, 'biotech': 2, 'boom': 6, 'Son': 2, 'Ji': 2, 'hyoung': 2, 'Korea‘s': 6, 'tier': 4, 'market': 18, 'hit': 12, 'closing': 4, 'mark': 4, 'riding': 2, 'biopharma': 2, '785': 2, '32': 10, '1': 18, '22': 2, 'percent': 22, 'previous': 2, 'session': 2, 'Friday': 6, 'index': 2, 'jumped': 2, '16': 2, '7': 6, 'month': 4, 'decade': 2, 'designed': 2, 'birth': 2, 'benchmark': 2, 'US’': 2, 'tech': 2, 'heavy': 2, 'Nasdaq': 2, '794': 2, '08': 2, 'Nov': 16, '2007': 2, 'combined': 2, 'cap': 2, 'time': 14, '275': 2, '5': 10, 'trillion': 2, '250': 2, '6': 8, 'billion': 10, 'Kore': 2, 'NK': 4, 'envoy': 6, 'peace': 2, 'ready': 4, 'war': 8, 'ANN': 2, 'Ambassador': 2, 'Thailand': 2, 'Mun': 2, 'Song': 12, 'mo': 2, 'country': 6, '“definitely': 2, 'win”': 2, 'United': 4, 'Washington': 2, 'drop': 2, '“plan': 2, 'destroy': 2, '”': 10, 'Calling': 2, 'President': 4, 'Donald': 2, 'Trump': 4, '“mad': 2, 'man”': 2, 'Pyongyang': 2, 'Nation': 2, 'exclusive': 4, 'interview': 4, '“We': 2, 'hydrogen': 2, 'bomb': 2, 'breaks': 2, 'fight': 2, 'surely': 2, 'win': 4, '”In': 2, 'rare': 2, 'stressed': 2, '“W': 2, 'solider': 4, 'suffering': 4, 'pneumonia': 4, 'blood': 4, 'poisoning': 4, 'doctor': 2, 'Yeo': 2, 'suk': 4, 'soldier': 2, 'dashed': 2, 'border': 2, 'defect': 2, 'life': 2, 'threatening': 2, 'lung': 2, 'liver': 2, 'infections': 2, 'complicating': 2, 'recovery': 2, 'multiple': 2, 'gunshot': 4, 'wounds': 4, 'local': 6, 'newspaper': 4, 'According': 6, 'report': 14, 'Donga': 2, 'Ilbo': 2, 'remains': 4, 'critical': 4, 'condition': 2, 'Hepatitis': 2, 'addition': 2, 'injuries': 2, 'undergone': 2, 'surgeries': 2, 'shot': 2, 'five': 2, 'times': 2, 'soldiers': 2, 'Ci': 2, 'FTA': 2, 'beef': 10, 'claims': 6, 'half': 4, 'import': 4, 'Julie': 4, 'Jackson': 4, '14': 2, 'imports': 4, 'accounts': 2, 'imported': 2, 'countries’': 2, 'free': 6, 'trade': 4, 'agreement': 4, 'according': 14, 'data': 10, 'International': 2, 'Trade': 2, 'Association': 2, 'January': 2, 'October': 2, '989': 2, '50': 10, 'country’s': 2, 'marking': 2, 'exceeded': 2, 'hitting': 2, 'record': 4, '75': 2, '9': 6, '2003': 2, '200': 2, 'NEWSMAKER': 2, 'Ruling': 2, 'party': 4, 'seeks': 2, 'tighter': 2, 'control': 6, 'NIS': 4, 'revisions': 2, 'Choi': 2, 'move': 2, 'revise': 2, 'related': 4, 'laws': 2, 'tighten': 2, 'reins': 2, 'gaining': 2, 'traction': 2, 'ruling': 4, 'Democratic': 2, 'Party': 2, 'set': 6, 'propose': 2, 'revision': 4, 'week': 8, 'provide': 2, 'legal': 2, 'grounds': 2, 'suggestions': 2, 'NIS’': 2, 'own': 2, 'reform': 2, 'committee': 6, 'calls': 6, 'tougher': 2, 'agency’s': 2, 'budget': 2, 'actions': 2, 'president': 6, 'chief': 8, 'YonhapIf': 2, 'approved': 4, 'bill': 2, 'mandatory': 2, 'POPULAR': 2, '01China': 2, 'poaching': 2, 'battery': 4, 'experts02South': 2, 'refuses': 2, 'share': 2, 'military': 2, 'intelligence': 4, 'Japan': 6, 'report03Thai': 2, 'woman': 2, 'kills': 2, 'born': 2, 'married': 2, 'her04Seoul': 2, '7th': 2, 'visited': 2, 'city': 14, 'data05Gordon': 2, 'Ramsay': 12, 'Cass': 6, '‘beer': 4, 'people’06Two': 2, '3': 12, 'magnitude': 14, 'aftershocks': 8, 'southeast07': 2, 'Video': 2, 'Seoul’s': 6, 'public': 6, 'bike': 8, 'rental': 6, 'system': 10, 'takes': 4, 'off08Suspected': 2, 'bird': 6, 'flu': 6, 'confirmed': 8, 'pathogenic09Government': 2, 'speeds': 2, 'earthquake': 8, 'preparedness': 2, 'Pohang10BTS': 2, 'fires': 4, 'crowd': 4, 'AMAs': 4, 'performance': 4, 'SPOTLIGHT': 2, 'BTS': 4, 'history': 2, 'AMA': 2, 'Yoon': 6, 'Min': 4, 'sik': 4, 'performing': 2, 'American': 2, 'Awards': 4, 'dream': 4, 'Sunday': 12, 'night': 6, 'Los': 4, 'Angeles': 4, 'pop': 4, 'sensation': 2, 'stage': 4, 'alongside': 2, 'likes': 2, 'Pink': 2, 'Kelly': 2, 'Clarkson': 2, 'Lady': 2, 'Gaga': 2, 'Nick': 2, 'Jonas': 2, 'legendary': 2, 'Diana': 2, 'Ross': 2, 'Standing': 2, 'biggest': 2, 'stages': 2, 'music': 2, 'seven': 2, 'proved': 2, 'truly': 2, 'dope': 2, 'boy': 6, 'band': 2, 'perform': 2, 'walking': 2, 'red': 2, 'carpe': 2, 'Samsung': 14, 'aims': 4, 'firm': 4, 'Su': 2, 'hyun': 2, 'Tech': 2, 'giant': 4, 'provider': 2, 'solutions': 2, '5G': 2, 'network': 2, 'equipment': 2, 'Netizen': 2, 'sexually': 6, 'assaulted': 4, 'Australian': 6, 'child': 2, 'Lim': 4, 'Jeong': 4, 'yeo': 4, 'anonymous': 2, 'netizen': 6, 'drugged': 2, 'unspecified': 2, 'location': 2, 'account': 4, 'appeared': 2, 'extremist': 2, 'online': 6, 'community': 2, 'misandry': 2, 'called': 4, 'Womad': 2, 'using': 4, 'proud': 2, 'tone': 2, 'voice': 2, 'narrating': 2, 'incident': 2, 'post': 10, 'language': 2, 'biding': 2, '“have': 2, 'taste': 2, 'Western': 2, 'living': 2, 'Australia': 4, '”The': 2, '“lolita': 2, 'crime': 2, 'Light': 2, 'snow': 10, 'falls': 6, 'Seoul': 40, 'Park': 14, 'Ju': 6, 'season’s': 2, 'expected': 6, 'fall': 4, 'afternoon': 2, 'Meteorological': 4, 'Administration': 4, 'seen': 2, 'stick': 2, 'Snow': 6, 'despite': 4, 'leaves': 4, 'fallen': 4, 'centimeter': 2, 'projected': 2, 'noon': 2, 'KMA': 2, 'northern': 2, 'Gyeonggi': 2, 'Province': 6, 'Gangwon': 2, 'received': 6, 'NEWS': 6, 'qualifiers': 2, '2018': 4, 'Cup': 4, 'countries': 2, 'booked': 2, 'Russia': 2, 'Peru': 2, 'beat': 2, 'Zealand': 2, 'guarantee': 2, 'final': 2, 'spot': 2, 'MAMA': 6, '‘Asian': 2, 'Grammys’': 2, 'largest': 6, '‘MAMA': 2, 'Week’': 2, 'Actor': 2, 'Joong': 6, 'ki': 6, 'host': 4, 'year’s': 2, 'Mnet': 2, 'Asian': 2, 'Hong': 8, 'Kong': 6, 'Bo': 4, 'gum': 4, '“MAMA': 2, 'Week': 2, 'scale': 2, 'event': 2, 'kick': 2, 'Hoa': 2, 'Binh': 2, 'Ho': 4, 'Chi': 2, 'Minh': 2, 'City': 2, 'Vietnam': 2, '25': 2, 'head': 2, 'Yokohama': 2, 'Arena': 2, '29': 2, 'finally': 2, 'events': 4, 'Hotel': 2, '30': 2, 'AsiaWorld': 2, 'Expo': 2, 'Dec': 2, 'Blossom': 2, 'expanding': 2, 'awards': 2, 'ceremo': 2, 'KT': 6, 'launches': 2, 'sales': 10, 'tobacco': 6, 'heating': 4, 'device': 4, 'Corp': 4, 'leading': 6, 'cigarette': 2, 'maker': 2, 'officially': 2, 'selling': 4, 'amid': 8, 'growing': 4, 'popularity': 4, 'heat': 2, 'burn': 2, 'HNB': 2, 'products': 2, 'product': 2, 'dubbed': 2, 'lil': 2, 'heats': 2, 'generating': 2, 'smoke': 2, 'power': 2, 'company': 6, 'units': 2, 'via': 2, 'pre': 2, 'sold': 4, 'days': 2, 'consumers': 2, 'purchased': 2, 'items': 2, 'period': 2, 'pick': 2, 'devices': 2, 'st': 2, 'makes': 2, 'solo': 2, 'bid': 4, 'duty': 4, 'Duty': 4, 'Free': 4, 'operator': 4, 'submitted': 2, 'renew': 2, 'run': 2, 'store': 2, 'authorities': 2, 'hopes': 2, 'return': 6, 'Chinese': 2, 'tourists': 2, 'applied': 2, 'continue': 2, 'operation': 2, 'Convention': 2, 'Exhibition': 2, 'Center': 2, 'COEX': 2, 'southern': 2, 'capital': 8, 'doing': 4, '2010': 2, 'customs': 2, 'process': 4, 'Lotte’s': 2, 'current': 2, 'contract': 2, 'expire': 6, 'KB': 4, 'Financial': 4, 'clinches': 2, 'term': 4, 'hands': 2, 'bank': 6, 'separated': 2, 'chairman': 4, 'flagship': 2, 'role': 4, 'signaling': 2, 'business': 2, 'momentum': 2, 'nation’s': 4, 'top': 6, 'banking': 2, 'officials': 4, 'group’s': 4, 'shareholders’': 2, 'extraordinary': 2, 'incumbent': 2, 'Chairman': 2, 'Jong': 4, 'kyoo': 2, 'serve': 2, 'Kookmin': 2, 'Bank': 2, 'filled': 2, 'Vice': 2, 'Presid': 2, 'SK': 12, 'pulls': 2, 'car': 8, 'pulled': 2, 'offline': 2, 'stake': 12, 'seller': 2, 'partner': 2, 'disclosure': 2, 'filing': 2, '01': 2, 'Encar': 4, 'com': 14, 'Carsales': 6, 'Holdings': 4, '205': 2, '186': 2, '4': 10, 'based': 6, 'acquired': 2, '49': 2, '2014': 2, 'deal': 4, 'hold': 2, '100': 4, 'finalized': 2, 'Zoo': 2, 'chief’s': 2, 'sexual': 2, 'harassment': 2, 'allegation': 2, 'draws': 2, 'pros': 2, 'cons': 2, 'sanction': 2, 'zoo': 4, 'director': 4, 'allegedly': 4, 'harassed': 2, 'female': 2, 'worker': 2, 'pay': 2, 'cut': 2, 'Agency': 2, 'reported': 2, 'Lee': 10, 'Ki': 2, 'sub': 2, 'Grand': 2, 'victim': 2, 'sleep': 2, 'residence': 4, 'December': 2, 'workers': 2, 'overtime': 2, 'due': 6, 'outbreak': 2, 'Avian': 2, 'Influenza': 2, 'Doubts': 2, 'inappropriate': 2, 'remarks': 4, 'physical': 2, 'contact': 4, 'past': 2, 'raised': 2, 'admitted': 2, 'alleged': 2, 'Parliament': 2, 'fails': 2, 'adopt': 6, 'hearing': 4, 'SMEs': 4, 'minister': 4, 'nominee': 4, 'failed': 4, 'outcome': 2, 'confirmation': 2, 'venture': 6, 'opposition': 2, 'parties': 4, 'objections': 2, 'thereby': 2, 'passing': 2, 'decision': 2, 'fate': 2, 'Moon': 2, 'Jae': 2, 'law': 2, 'industry': 10, 'deadline': 2, 'rival': 4, 'reach': 2, 'publication': 4, 'Startups': 2, 'Minister': 2, 'designate': 2, 'haak': 2, 'key': 2, 'surpass': 2, 'Intel': 6, 'Electronics': 2, 'Co': 2, 'outpace': 2, 'terms': 2, 'emerge': 2, 'world': 2, 'chipmaker': 2, 'compiled': 2, 'tracker': 2, 'IC': 2, 'Insights': 2, '65': 2, 'chip': 2, 'segment': 2, '15': 2, 'global': 4, 'hand': 2, 'anticipated': 2, 'rake': 2, '61': 2, '13': 2, 'worldwide': 2, '1993': 2, 'semi': 2, 'MediBloc': 2, 'eyes': 2, 'blockchain': 4, 'patient': 6, 'centered': 4, 'medical': 4, 'recordkeeping': 2, 'Former': 2, 'doctors': 2, 'team': 2, 'create': 2, 'management': 4, 'leveraging': 2, 'technology': 2, 'GRAPHIC': 2, 'OPINION': 2, 'Meritless': 2, 'reinvestigation': 2, 'responsible': 2, 'Sewol': 2, 'sinking': 2, 'punished': 2, 'impeached': 2, 'trial': 2, 'Wrong': 2, 'heyday': 2, 'Prosecution': 2, 'flexes': 2, 'muscles': 2, 'politically': 2, 'charged': 2, 'Columnists': 4, 'Saudi': 6, 'explosions': 2, 'risk': 2, 'collateral': 2, 'damage': 4, 'David': 2, 'Ignatius': 2, 'Nearly': 2, 'weeks': 2, 'double': 2, 'explosion': 2, 'rocked': 2, 'Riyadh': 2, 'Crown': 2, 'Prince': 2, 'Mohammed': 2, 'bin': 2, 'Salman': 2, 'appears': 2, 'help': 2, 'stabilize': 2, 'Arabia': 2, 'region': 4, 'bombshell': 2, 'arrest': 2, 'corruption': 2, 'charges': 2, '201': 2, 'prominent': 2, 'Saudis': 2, 'including': 4, 'princes': 2, 'government': 4, 'ministers': 2, 'MBS': 2, 'crown': 2, 'prince': 2, 'beginning': 2, 'resolution': 2, 'settle': 2, 'court': 2, 'senior': 2, 'official': 2, 'Robot': 2, 'revolution': 2, 'coming': 2, 'Bloomberg': 2, 'Amid': 2, 'fear': 2, 'robots': 4, 'taking': 4, 'human': 2, 'jobs': 2, 'skeptical': 2, 'voices': 2, 'Machine': 2, 'learning': 4, 'systems': 2, 'commonly': 2, 'marketed': 2, 'artificial': 2, 'closer': 2, 'fancy': 2, 'statistical': 2, 'algorithms': 4, 'beating': 2, 'humans': 4, 'games': 2, 'improving': 2, 'search': 2, 'transforming': 2, 'countless': 2, 'machine': 2, 'hasn’t': 2, 'reverse': 2, 'slump': 2, 'productivity': 4, 'growth': 2, 'it’s': 2, 'gains': 2, 'bein': 2, 'INVESTOR': 4, 'Start': 2, 'ups': 4, 'INTERVIEW': 4, 'Bon': 6, 'Angels': 6, 'flesh': 2, 'SE': 2, 'distinctive': 2, 'characteristics': 2, 'running': 2, 'private': 4, 'fund': 2, 'eight': 2, 'partners': 2, 'experience': 2, 'startups': 8, 'financial': 4, 'capitalists': 2, 'instead': 2, 'dazzling': 2, 'space': 4, 'rise': 2, 'regular': 2, 'house': 4, 'garage': 2, 'CEO': 2, 'Partner': 2, 'DECODED': 6, 'name': 10, 'national': 2, 'news': 2, 'It’s': 2, 'weekly': 2, 'brief': 2, 'economic': 2, 'takeaway': 2, 'created': 2, 'staff': 2, 'opinion': 2, 'leaders': 2, 'ensure': 6, 'content': 2, 'quality': 2, 'offered': 2, 'paid': 2, 'service': 4, 'details': 2, 'please': 2, 'Monica': 2, 'jylee': 2, 'heraldcorp': 8, 'call': 2, '82': 2, '727': 4, '0616': 2, 'touch': 2, 'Managing': 2, 'Editor': 4, 'Jemmie': 2, 'jemmie': 2, 'meantime': 2, 'enjoy': 4, 'highlights': 2, '17': 2, 'issue': 2, 'Internet': 2, 'Naver': 6, 'delivery': 6, 'internet': 2, 'increasing': 2, 'especially': 2, 'firms': 2, 'recent': 2, 'AI': 2, 'services': 2, '20': 4, 'firm’s': 2, 'startup': 2, 'investment': 4, 'September': 2, '35': 2, 'worth': 2, '03': 2, 'Woowa': 2, 'Brothers': 2, 'food': 4, 'app': 2, 'Baedal': 2, 'Minjok': 2, 'founder': 2, 'Hae': 2, 'jin': 2, 'serves': 2, 'manager': 2, 'curre': 2, 'Bio': 2, 'Medicine': 2, 'Bioepis': 4, 'bags': 2, 'EU': 2, 'approval': 2, 'Herceptin': 6, 'biosimilar': 4, 'marketing': 2, 'authorization': 2, 'Ontruzant': 6, 'version': 2, 'Roche’s': 2, 'blockbuster': 2, 'breast': 2, 'cancer': 6, 'treatment': 2, 'Europe': 2, 'referencing': 2, 'European': 2, 'Commission': 2, 'outpacing': 2, 'Bioepis’': 2, 'competitors': 2, 'Amgen': 2, 'Allergan': 2, 'crosstown': 2, 'Celltrion': 2, '“Breast': 2, 'common': 2, 'form': 2, 'affecting': 2, 'women': 2, 'hope': 2, 'play': 4, 'HERALD': 30, 'AKB48': 2, 'collaborate': 2, '2017': 4, 'Gordon': 8, 'samples': 2, '‘drug': 2, 'gimbap’': 2, 'Jisoo’s': 2, 'rosy': 2, 'lips': 2, 'dress': 2, 'furbish': 2, 'Instyle': 2, 'Diplomactic': 2, '‘Religious': 2, 'tolerance': 2, 'test': 2, 'democracy': 2, 'Indonesia’': 2, 'Joel': 2, '“There': 2, 'single': 2, 'dominant': 2, 'culture': 2, 'religion': 2, 'Indonesia': 2, 'mix': 2, 'elements': 2, 'Mexican': 2, 'copper': 2, 'mine': 2, 'entertainment': 2, 'scene': 2, 'Dayli': 2, 'Marketplace': 2, 'doors': 2, 'youth': 2, 'money': 2, '‘Seoul': 2, 'rightful': 2, 'gastronomical': 2, 'scene’': 2, '‘Social': 2, 'media': 2, 'propel': 2, 'wine': 2, 'market’': 2, 'PHOTO': 2, 'Partitions': 2, 'privacy': 4, 'victims': 4, 'Im': 4, 'Eun': 4, 'byel': 4, 'Stall': 2, 'partitions': 4, 'installed': 2, 'evacuation': 4, 'shelter': 4, 'Pohang': 4, '500': 4, 'residents': 2, 'displaced': 2, 'Wednesday’s': 2, 'experiencing': 2, 'prolonged': 2, 'church': 2, 'temporary': 2, 'silverstar': 2, '170921': 2, 'position': 2, 'absolute': 2, 'overflow': 2, 'hidden': 2, 'VIDEO': 2, 'Da': 4, 'sol': 4, 'Shot': 2, 'Edited': 2, 'sharing': 2, 'economy': 2, 'rage': 2, 'globe': 2, 'shared': 2, 'bikes': 2, 'particular': 2, 'seeking': 2, 'cities': 2, 'sustainable': 2, 'transportation': 2, 'eye': 2, 'becoming': 2, 'green': 2, 'upgrading': 2, 'mass': 2, 'transit': 2, 'rolled': 2, 'citywide': 2, 'Public': 2, 'Bike': 2, '“Ttareungyi”': 2, 'sound': 2, 'bell': 2, 'ringing': 2, 'launche': 2, 'Police': 2, 'release': 2, 'black': 2, 'box': 2, 'footage': 2, 'late': 4, 'actor': 2, 'DMZ': 2, 'Flurry': 2, 'rallies': 2, 'tight': 2, 'security': 2, 'day': 2, 'Hye': 2, 'kyo': 2, 'wed': 2, 'ceremony': 2, 'FEATURES': 2, 'Suspected': 2, 'pathogenic': 6, 'imposed': 4, 'travel': 2, 'ban': 4, 'prevent': 2, 'spread': 2, 'animal': 2, 'virus': 2, 'avian': 2, 'influenza': 2, 'discovered': 2, 'poultry': 2, 'farm': 2, '12': 2, 'ducks': 2, 'Gochang': 2, 'kilometers': 2, 'southwest': 2, 'tested': 2, 'positive': 2, 'strain': 2, 'H5N6': 2, 'Ministry': 2, 'Agriculture': 2, 'Rural': 2, 'ministry': 2, 'nationwide': 2, 'movement': 2, 'poult': 2, 'southeast': 2, 'mid': 2, 'range': 2, 'rattled': 2, 'southeastern': 2, 'strongest': 2, 'series': 2, 'secondary': 2, 'shocks': 2, 'followed': 2, 'quake': 2, 'tremor': 2, 'hours': 2, 'aftershock': 2, 'shook': 2, 'coastal': 2, 'Gyeongsang': 2, 'weather': 2, 'tremors': 2, 'originat': 2, 'people’': 2, 'jung': 2, 'Michelin': 2, 'starred': 2, 'chef': 2, 'television': 2, 'personality': 2, 'Oriental': 2, 'Brewery‘s': 2, 'beer': 4, '“beer': 2, 'people': 2, 'saying': 2, 'easy': 2, 'accessibility': 2, 'fit': 2, 'cuisine': 2, 'drew': 2, 'endorse': 2, 'brand': 2, 'speaks': 2, 'reporters': 4, 'Conrad': 4, 'Saturday': 2, 'OB': 2, '“I': 2, 'love': 2, 'doesn’t': 2, 'oversophisticated': 2, 'slightly': 2, 'unique': 2, 'costs': 2, 'fortune': 2, 'press': 2, 'conference': 2, 'average': 4, 'housing': 2, 'cost': 6, 'W100m': 2, 'Tokyo': 4, 'purchase': 2, 'home': 6, 'surpasses': 2, 'quickly': 2, 'catching': 2, 'York': 2, 'Assembly': 2, 'Research': 2, 'price': 4, '91': 2, 'Japan’s': 2, 'median': 2, 'stood': 2, '434': 2, '85': 2, 'compared': 2, 'Tokyo’s': 2, '311': 2, '36': 2, 'Purchasing': 2, 'WEEKENDER': 2, 'radio': 2, 'kill': 2, 'video': 4, 'star': 2, 'Audio': 2, 'stressful': 2, 'advantage': 2, 'Taking': 2, 'reading': 2, 'level': 2, 'Book': 2, 'clubs': 2, 'declining': 2, 'publishing': 2, 'Putting': 2, 'design': 2, 'Forum': 2, 'hosted': 2, 'theme': 2, '“Design': 2, 'Humanity”': 2, 'getCookie': 8, 'cookieName': 6, 'cookieValue': 6, 'null': 8, 'cookie': 6, 'array': 6, 'split': 16, 'escape': 6, 'length': 2, 'arraySub': 4, 'unescape': 2, 'strCookieName': 14, 'strUrl': 10, 'nW': 10, 'nH': 10, 'nT': 10, 'nL': 10, 'popup': 6, 'KhPopup': 4, 'php': 4, '400': 4, '425': 2, '900': 2, 'objImsiPopWin': 4, 'HDWPopUpWin': 4, 'width': 4, 'height': 4, 'scrolling': 4, 'popup2': 2, '680': 2, '1100': 2, 'ANNOUNCEMENT': 2, 'CS': 2, 'CENTER': 2, 'CONTACT': 2, 'LOCATION': 2, 'KOREA': 4, 'CORPORATION': 2, 'Corporation': 4, 'Sites': 2, 'BUSINESS': 4, 'SUPERICH': 2, 'REAL': 2, 'FOODS': 2, 'JUNIOR': 2, 'USA': 2, 'EDU': 2, 'ARCADEMY': 2, 'GWANAK': 2, 'ENGLISH': 6, 'VILLAGES': 6, 'BUSAN': 2, 'GEOJE': 2, 'DIGITAL': 2, 'ARTDAY': 2, 'BIOTA': 2, 'Copyright': 2, 'Rights': 2, 'Reserved': 2, 'PRIVACY': 2, 'STATEMENT': 2, 'COPYRIGHT': 4, 'POLICY': 2, 'OMBUDSMAN': 2, 'Address': 2, 'Huam': 2, 'ro': 2, 'gil': 2, 'Yongsan': 2, 'gu': 2, 'Online': 2, 'registration': 4, '아03711': 2, 'Date': 4, '04': 2, '28': 2, 'Publisher': 2, 'Kwon': 2, 'Chung': 2, 'Juvenile': 2, 'Protection': 2, 'Manager': 2, 'Shin': 2, 'Chang': 2, 'Hoon': 2, 'Tel': 2, '02': 2, '0114': 2, 'arguments': 2, 'charset': 2, 'utf': 2, '8': 2, 'static': 2, 'dable': 8, 'io': 2, 'dist': 2, 'plugin': 2, 'min': 2, 'setService': 2, 'koreaherald': 2, 'sendLog': 2, 'histObj': 8, 'getElementById': 2, 'historybar': 2, 'typeof': 2, 'undefined': 2, 'historyText': 6, 'kh': 2, 'else': 4, 'innerText': 2, 'TRK': 8, 'PI': 2, 'PDV': 2, 'PN': 2, 'MF': 2, 'LOGGER': 2, 'TRACKING': 2, 'SCRIPT': 4, '31': 2, '1002': 2, '2002': 2, '2013': 2, 'BIZSPRING': 2, 'INC': 2, 'MODIFY': 2, 'DOMAIN': 2, 'vlog': 2, 'trk': 10, 'bMSIE': 2, 'false': 4, 'bJS12': 2, 'screen': 2, 'str': 38, 'ch': 2, 'bEncURI': 6, 'eval': 2, 'try': 2, 'encodeURI': 4, 'catch': 2, 'join': 12, '2B': 2, '2F': 2, '26': 2, '3F': 2, '3A': 2, '23': 2, 'setCookie': 2, 'value': 4, 'setTime': 2, 'getTime': 2, 'path': 2, 'expires': 2, 'toGMTString': 2}\n"
     ]
    }
   ],
   "source": [
    "from urllib import request\n",
    "import string\n",
    "url = 'http://www.koreaherald.com'\n",
    "f = request.urlopen(url)\n",
    "source_bytes = f.read()\n",
    "source = source_bytes.decode('utf-8')\n",
    "#print(source)\n",
    "\n",
    "with open(url[7:] + \".html.txt\", \"w\", encoding = 'UTF8') as ff:\n",
    "    ff.write(source)\n",
    "\n",
    "# print(len(source))\n",
    "flag = False\n",
    "cnt = 0\n",
    "str1 = ' '\n",
    "for x in source :\n",
    "    if (x == '<') or (flag == True) : \n",
    "        flag = True\n",
    "        if x == '<' :\n",
    "            cnt = cnt + 1\n",
    "        if x == '>'  :\n",
    "            cnt = cnt - 1\n",
    "            #flag = False\n",
    "        if cnt == 0 :\n",
    "            flag = False\n",
    "        continue\n",
    "    elif flag == False :\n",
    "        str1 = str1 + x\n",
    "\n",
    "while True : \n",
    "    str1 = str1[:str1.find('-->')] + str1[str1.find('-->') + 3:]\n",
    "    if str1.find('-->') == -1 :\n",
    "        break;\n",
    "#print(string.punctuation)\n",
    "str2 =''\n",
    "for x in str1 :\n",
    "    if(x not in list(string.punctuation)) :\n",
    "        str2 = str2 + x\n",
    "    else :\n",
    "        str2 = str2 + \" \"\n",
    "        \n",
    "# 사전 정의\n",
    "d = {}\n",
    "for x in str2.split() :\n",
    "    d[x] = str2.split().count(x)\n",
    "    \n",
    "##print(d)\n",
    "#print(str2.split())\n",
    "#print(len(str1.split()))\n",
    "\n",
    "\n",
    "li = []   #불용어 리스트 추려내기\n",
    "\n",
    "with open(\"nouse.txt\", \"r\") as f:\n",
    "    for i in f :\n",
    "        if i !='' :\n",
    "            li.append(i.strip())\n",
    "\n",
    "for i in range(li.count(\"\")) :\n",
    "    li.remove(\"\")\n",
    "\n",
    "#print(li)\n",
    "\n",
    "# 사전 객체에 불용어 리스트를 삭제하기\n",
    "li1 = li.copy()\n",
    "\n",
    "for i in li :\n",
    "    li1.append(i.upper())\n",
    "    li1.append(i.capitalize())\n",
    "\n",
    "#print(li1)\n",
    "for i in li1:\n",
    "    if i in d:\n",
    "        del d[i]\n",
    "\n",
    "## 사전 객체를 피클을 통해서 파일 만들기\n",
    "f = open(url[7:]+\".word.frequency\", \"bw\")\n",
    "\n",
    "pickle.dump(d, f)\n",
    "f.close()\n",
    "\n",
    "f = open(url[7:] +\".word.frequency\", \"br\")\n",
    "\n",
    "dd = pickle.load(f)\n",
    "print(dd)"
   ]
  },
  {
   "cell_type": "code",
   "execution_count": 17,
   "metadata": {},
   "outputs": [
    {
     "name": "stdout",
     "output_type": "stream",
     "text": [
      "{'served': 4, 'cache': 4, 'Request': 2, 'apache': 2, 'server': 4, 'produs': 4, '00510030485a30084': 2, 'Cached': 2, 'Mon': 4, '20': 6, 'Nov': 6, '2017': 6, '11': 8, '06': 4, '58': 4, 'GMT': 4, 'expire': 2, '52': 4, 'token': 2, '5914c4ab': 2, 'b17e': 2, '49dc': 2, '8bf2': 2, '4105212e74e3': 2, 'Prepopulated': 2, 'App': 2, 'Server': 2, '0cc2e90183e3a167d': 2, 'Business': 12, 'Financial': 4, 'News': 20, 'International': 4, 'Breaking': 10, 'Reuters': 116, 'function': 64, 'var': 52, 'analytics': 24, 'window': 20, 'initialize': 2, 'invoked': 4, 'console': 12, 'error': 4, 'Segment': 2, 'snippet': 2, 'included': 2, 'twice': 2, 'else': 76, '0': 56, 'methods': 2, 'trackSubmit': 2, 'trackClick': 2, 'trackLink': 2, 'trackForm': 2, 'pageview': 2, 'identify': 2, 'reset': 2, 'track': 4, 'ready': 16, 'alias': 2, 'debug': 2, 'page': 2, 'factory': 2, 'return': 4, 'Array': 2, 'prototype': 2, 'slice': 2, 'call': 2, 'arguments': 2, 'unshift': 2, 'push': 32, '1': 132, 'article': 6, 'recirculation': 2, 'canonical': 4, 'url': 28, 'https': 26, 'www': 6, 'reuters': 84, 'com': 34, 'content': 40, 'channel': 44, 'Homepage': 18, 'type': 38, 'edition': 4, 'keywords': 2, 'World': 10, 'Video': 8, 'news': 16, 'Investing': 2, 'financial': 10, 'information': 4, 'Rueters': 2, 'Roiters': 2, 'Markets': 16, 'topic': 4, 'sub': 2, 'ad': 2, 'blocked': 2, 'adBlocked': 2, 'platform': 4, 'Desktop': 4, 'featured': 34, 'module': 32, 'feature': 16, 'video': 16, 'icon': 12, 'un': 4, 'height': 12, '24px': 2, 'width': 12, '30px': 6, 'background': 10, 'position': 12, '2px': 2, '25px': 6, 'hover': 6, '64px': 2, '19px': 2, '35px': 2, '97px': 2, 'div': 74, 'gpt': 76, 'bi': 16, 'margin': 4, 'top': 12, '302px': 2, '320px': 2, 'fff': 2, 'media': 6, 'max': 4, '1200px': 2, '620px': 2, '253px': 2, '290px': 2, 'iframe': 6, '300px': 2, '217px': 2, 'curation': 2, 'sponsored': 4, 'mod': 4, '186px': 2, 'absolute': 4, '10px': 2, 'sf': 34, 'async': 28, 'config': 28, 'uid': 2, '52639': 2, 'domain': 2, 'topStorageDomain': 2, 'path': 4, 'document': 26, 'querySelector': 2, 'link': 2, 'rel': 2, 'getAttribute': 2, 'href': 4, 'replace': 6, 'http': 24, 'flickerControl': 2, 'false': 8, 'startpt': 4, 'Date': 8, 'getTime': 6, 'Edition': 2, 'United': 10, 'Home': 38, 'Legal': 2, 'Deals': 4, 'Aerospace': 2, 'Defense': 2, 'Finance': 2, 'Autos': 2, 'Summits': 2, 'ADventures': 2, 'Data': 4, 'Dive': 2, 'European': 8, 'Asian': 2, 'Global': 4, 'Market': 2, 'Stocks': 2, 'Bonds': 2, 'Currencies': 2, 'Commodities': 2, 'Futures': 2, 'Funds': 4, 'Earnings': 2, 'Dividends': 2, 'Exchange': 2, 'Traded': 2, 'Special': 2, 'Reports': 2, 'Investigates': 2, 'Euro': 2, 'Zone': 2, 'Middle': 2, 'East': 2, 'China': 8, 'Japan': 2, 'Mexico': 6, 'Brazil': 4, 'Africa': 6, 'Russia': 2, 'India': 4, 'Politics': 8, 'Polling': 2, 'Explorer': 2, 'Live': 2, 'Supreme': 2, 'Court': 4, 'Tech': 2, 'Technology': 4, 'Science': 2, 'Top': 4, '100': 4, 'Innovators': 2, 'Media': 2, 'Energy': 4, 'Environment': 4, 'Innovation': 2, 'Commentary': 6, 'Podcasts': 4, 'Breakingviews': 10, 'Money': 4, 'Retirement': 2, 'Lipper': 2, 'Awards': 2, 'Analyst': 2, 'Research': 2, 'Stock': 2, 'Screener': 4, 'Fund': 2, 'Life': 8, 'Health': 2, 'Sports': 4, 'Arts': 2, 'Entertainment': 2, 'Oddly': 2, 'Pictures': 6, 'Wider': 2, 'Image': 2, 'Photographers': 2, 'Focus': 2, '360': 2, 'América': 2, 'Latina': 2, 'عربي': 2, 'Argentina': 2, 'Brasil': 2, 'Canada': 8, '中国': 2, 'Deutschland': 2, 'España': 2, 'France': 2, 'Italia': 2, '日本': 2, 'México': 2, 'РОССИЯ': 2, 'Kingdom': 4, 'gatherAd': 14, 'lb': 30, '728': 18, '90': 36, '970': 54, '250': 30, '180': 2, 'TR3': 80, 'extractDartZone': 80, 'yes': 6, 'leaderboard': 14, 'Mugabe': 10, 'clings': 4, 'power': 8, 'HARARE': 2, 'Zimbabwean': 2, 'President': 6, 'Robert': 2, 'reportedly': 2, 'agreed': 2, 'stand': 2, '37': 2, 'avoided': 2, 'mention': 2, 'resignation': 4, 'rambling': 2, 'national': 4, 'address': 2, 'Sunday': 4, 'night': 2, 'Zimbabwe': 8, 'opposition': 4, 'leader': 6, '039': 12, 'baffled': 2, 'decision': 2, 'stay': 2, 'TV': 4, 'defiant': 2, 'Trump': 10, 'dropping': 2, 'healthcare': 2, 'provision': 2, 'Senate': 4, 'tax': 14, 'bill': 8, 'aide': 2, '19': 2, 'Merkel': 6, 'fourth': 6, 'term': 6, 'doubt': 4, 'German': 14, 'coalition': 10, 'talks': 12, 'fail': 4, '5': 14, '47am': 2, 'EST': 32, 'marine': 2, 'accused': 2, 'drink': 2, 'drive': 2, 'Japanese': 4, 'dies': 6, '2': 10, '58am': 2, 'markets': 6, 'jarred': 4, 'collapse': 8, '39am': 2, 'WIRE': 2, '5m': 2, 'ago': 44, 'Nebraska': 4, 'decide': 4, 'fate': 4, 'controversial': 4, 'Keystone': 4, 'XL': 4, 'pipeline': 4, '1m': 4, 'Brexit': 12, 'City': 6, 'real': 2, 'estate': 2, 'agent': 2, 'view': 4, 'taking': 4, 'London': 12, 'pulse': 4, '10m': 4, 'letter': 2, 'reported': 2, 'inclusive': 2, 'political': 4, 'process': 2, 'military': 2, 'intervention': 2, '11m': 2, 'economic': 2, 'activity': 2, 'index': 26, 'expected': 2, 'September': 2, '19m': 4, 'bad': 2, 'Europe': 2, 'Dutch': 2, 'minister': 2, '20m': 2, 'meet': 2, 'president': 2, 'statement': 2, '21m': 2, 'Soros': 6, 'Hungarian': 6, 'government': 8, 'lying': 4, 'attacks': 6, '22m': 2, 'Contrary': 4, 'Tweet': 4, 'Senator': 6, 'Flake': 6, 'undecided': 4, '25m': 2, 'Greece': 2, 'millions': 2, 'compensation': 2, 'flood': 2, 'victims': 2, '27m': 2, 'Syrian': 2, 'Kurdish': 4, 'militia': 2, 'Turkish': 2, 'outpost': 2, 'Syria': 2, 'Idlib': 2, 'casualties': 2, 'Anadolu': 2, '28m': 2, '30m': 2, 'losses': 2, 'shares': 6, 'flat': 2, '32m': 2, 'Putin': 6, 'plan': 6, 'rejuvenate': 4, 'Russian': 6, 'politics': 4, 'makes': 4, 'slow': 4, 'progress': 4, '35m': 2, 'Oil': 4, 'eases': 2, 'traders': 2, 'investors': 4, 'grow': 2, 'edgy': 2, 'ahead': 2, 'OPEC': 2, '37m': 2, 'South': 10, 'Korea': 8, 'fears': 4, 'missile': 8, 'advances': 4, 'North': 6, 'threat': 12, '38m': 2, 'EU': 2, 'choose': 2, 'post': 2, 'homes': 2, 'based': 4, 'agencies': 2, '39m': 2, 'Turkey': 2, 'detains': 2, '51': 2, 'teachers': 2, 'suspected': 2, 'links': 2, 'coup': 2, 'Dogan': 2, 'rcom': 28, 'wire': 4, 'lessThanHourFormat': 2, 'dm': 2, 'lessThanDayFormat': 2, 'dh': 2, 'Featured': 2, 'pymParent': 2, 'pym': 2, 'Parent': 2, 'targetdiv': 2, 'fingfx': 2, 'thomsonreuters': 2, 'gfx': 2, 'rngs': 2, 'TRUMP': 2, 'EFFECT': 2, '0100510629J': 2, 'html': 6, 'Cyber': 2, 'Risk': 2, 'Panel': 2, 'recommends': 4, 'hacking': 4, 'safeguards': 4, 'elections': 4, 'Views': 4, 'Alibaba': 4, 'deal': 4, 'guides': 2, 'grocers': 2, 'checkout': 2, 'ROAD': 2, 'BREXIT': 2, 'UK': 10, 'commits': 2, 'industries': 2, 'future': 2, 'ward': 2, 'shocks': 2, 'amp': 2, 'beans': 2, 'coffee': 2, 'grounds': 2, 'help': 4, 'buses': 2, 'Mass': 2, 'killer': 2, 'cult': 2, 'Charles': 2, 'Manson': 2, '83': 2, 'social': 2, 'democrats': 2, 'irrelevant': 2, '380': 2, '302': 2, 'body': 4, 'financier': 2, 'George': 2, 'Monday': 8, 'denounced': 2, 'campaign': 24, 'distortions': 2, 'lies': 2, 'designed': 2, 'create': 2, 'external': 2, 'enemy': 2, '45am': 4, 'conduct': 2, 'additional': 2, 'tests': 2, 'polish': 2, 'range': 2, 'technology': 4, 'ramp': 2, 'spy': 2, 'agency': 2, 'adding': 2, 'monitoring': 2, 'developments': 2, 'closely': 2, '29am': 2, 'Poised': 2, 'run': 2, 'Vladimir': 2, 'started': 2, 'clearing': 2, 'elite': 2, 'bringing': 2, 'people': 8, 'fire': 2, 'eyes': 2, '34am': 2, 'question': 2, 'auto': 2, 'demands': 4, 'NAFTA': 4, 'counterproposals': 2, 'tougher': 2, 'automotive': 2, 'rules': 4, 'instead': 2, 'offer': 6, 'rebuttals': 2, 'pepper': 2, 'American': 2, 'negotiators': 2, 'technical': 2, 'questions': 2, 'familiar': 2, '04am': 2, 'Donald': 2, 'predicted': 2, 'Jeff': 2, 'oppose': 2, 'Republican': 2, 'senator': 2, 'office': 2, 'mind': 2, 'Wimbledon': 4, 'champion': 4, 'Jana': 4, 'Novotna': 4, 'battle': 4, 'cancer': 4, 'Czech': 2, 'tennis': 2, 'player': 2, '1998': 2, '16': 4, 'time': 4, 'grand': 2, 'slam': 2, 'winner': 2, 'doubles': 4, 'mixed': 2, 'died': 2, 'age': 2, '49': 2, 'Women': 2, 'Tennis': 2, 'Association': 2, '4': 4, '51am': 2, '780': 2, '156': 2, 'marketslogo': 10, 'bottom': 6, '50px': 2, 'STOCKS': 2, 'BONDS': 2, 'CURRENCIES': 2, 'COMMODITIES': 2, 'tabs': 12, 'marketsModuleTabs': 2, 'tab': 6, 'button': 2, 'tabTargets': 6, 'compileTabTargets': 4, 'targetsArray': 2, 'targetIdOne': 4, 'dataset': 4, 'target': 6, 'tabTargetOne': 4, 'getElementById': 4, 'tabTargetOneImages': 4, 'getElementsByTagName': 4, 'img': 8, 'lazyLoadImages': 4, 'addEventListener': 4, 'click': 4, 'tabTargetId': 4, 'tabTarget': 4, 'tabTargetImages': 4, 'tabClick': 2, 'lazyLoadEvent': 2, '187': 8, '578': 2, '85': 2, '26': 2, 'Dow': 2, '23': 2, '358': 2, '24': 12, '43': 2, 'FTSE': 2, '7': 4, '386': 2, '72': 2, '08': 2, 'Nikkei': 2, '225': 2, '22': 2, '261': 2, '76': 2, '60': 2, 'name': 6, 'bind': 2, 'indexRic': 4, 'attr': 10, 'data': 8, 'ric': 2, 'indexChart': 6, 'container': 4, 'chart': 2, 'chartSrc': 6, 'src': 8, 'chartRic': 4, 'split': 6, 'symbols': 2, 'newChartSrc': 4, 'indices': 6, 'indexTab': 4, 'length': 8, 'removeClass': 4, 'active': 8, 'addClass': 4, 'Name': 4, 'Yield': 2, 'Change': 2, '10YR': 6, '326': 2, '26am': 4, '028': 2, 'DE': 2, '363': 2, '00pm': 2, '002': 2, 'JP': 2, '034': 2, '3': 4, '005': 2, '6': 2, '06am': 2, 'USD': 10, 'EUR': 4, 'JPY': 4, '1789': 2, '0089': 2, '8510': 2, '0076': 2, '112': 2, '0900': 2, '132': 2, '1500': 2, 'Index': 2, 'Chg': 2, 'Gold': 2, '288': 2, '30': 4, '12': 6, '00am': 6, '10': 2, '80': 2, 'Exp': 6, 'Dec': 6, '02': 12, 'Copper': 2, '01': 6, 'Crude': 2, '56': 2, '68': 2, '42': 2, '186': 8, '300': 22, 'mpu': 16, '600': 4, '1050': 4, 'Sponsored': 2, 'Content': 2, 'dz': 54, 'final': 54, 'BizDev': 20, 'RR1': 20, 'HOME': 6, 'FASTLANE': 6, 'indexOf': 54, 'uk': 18, 'jp': 18, 'typeof': 56, 'undefined': 54, 'info': 54, 'displayAd': 54, 'sync': 24, 'fastlane': 12, 'storychannel': 18, 'adParams2': 54, 'googletag': 60, 'cmd': 30, 'display': 30, 'mpu2': 12, 'mpulow': 16, 'leaderboardcenter': 26, 'center': 14, 'home': 8, 'rr1': 8, 'leaderboardlow': 26, 'low': 14, '66': 16, 'Photos': 2, 'week': 2, 'btn': 2, 'raw': 2, 'json': 4, 'note': 2, 'Page': 2, 'views': 2, '15': 4, 'minutes': 4, 'num': 2, 'filter': 8, 'str': 4, 'arr': 4, 'widerImage': 8, 'stories': 10, 'country': 20, 'Bangladesh': 6, 'image': 28, 'photos': 22, 'wi': 22, 'gcs': 22, 'trstatic': 22, 'net': 22, 'OvarGu3Belsyxnll5FhK9ybxoXZliIKEu92jWgP1fZxQ4w': 2, 'L4zDw': 2, 'KgcTJKayTlpez': 2, 'pUFbqfS9AT': 2, 'xxrbsO7CYxy7nUT1Yt': 2, 'KUd63UyXUFOwBGeZWmQiP3lZAOtF0Ce': 2, 'location': 20, 'Cox': 4, 'Bazar': 4, 'title': 24, 'Bullets': 2, 'burns': 6, 'injured': 6, 'Rohingya': 6, 'refugees': 8, 'u2028': 2, 'slug': 22, 'bullets': 4, 'rohingya': 8, 'widerimage': 22, 'story': 24, 'utm': 88, 'web': 22, 'app': 22, 'launch': 22, 'medium': 22, 'banner': 22, 'source': 24, 'ros': 22, 'labels': 20, 'editors': 2, 'choice': 2, 'Bosnia': 2, 'Herzegovina': 2, 'OvarGu3Belsyxnll5FhK95Bpnbnc': 2, '5YD6T4mVgazcWM3b1EM': 2, 'EeAs4GjwivphTaHS0Ur44BeazujfO2QUgfxbWW1YjMXcNiNnW4Eda': 2, 'FsEIL3cVpVrv6fC12YZ6zRAIQ': 2, 'Bozanovici': 2, 'Mladic': 2, 'hero': 6, 'dying': 6, 'village': 6, 'mladic': 4, 'Serbia': 2, 'OvarGu3Belsyxnll5FhK93Oc1Go15o1r': 2, 'CuH': 2, 'SKLVC36m1Ct4qD5tskbUt6pFQR': 2, '6dzy2Rh8QucbfIFVTKVQwxVhGscR13GHwNWnDbG0KTbXWqiBL5j3ryNpXhAgyApP': 2, 'Belgrade': 4, 'mosque': 6, 'Muslims': 2, 'improvise': 6, 'belgrades': 4, 'muslims': 4, 'Mongolia': 4, 'OvarGu3Belsyxnll5FhK9xkySqPisGCWkSFFq4QIlv4iEBZ3aE4lUQACdEVYNBl8yCHP1g2AE85ZM0Ljf6XfzWJjE94x0X': 2, 'wja': 2, 'zhHrSC1kgJnFTIHT5r': 2, 'I5m0IURhDr': 2, 'Khanbogd': 2, 'Border': 2, 'jam': 6, 'coal': 6, 'lifeline': 6, 'border': 4, 'mongolias': 4, 'Iraq': 4, 'OvarGu3Belsyxnll5FhK9wXHBEm2dvjmQ6bV8BVKobZbCLEYDDNQ0vE8stJ': 2, 's9Limll7W9lhxc1': 2, 'otEBjdmYjGT3iyeM1LTIIejwsam79Fdo8oP1RaL': 2, 'KBDmWzmv2x': 2, 'Kerbala': 4, 'transformed': 6, 'sacred': 6, 'Shi': 2, 'ite': 2, 'ritual': 6, 'iraqs': 4, 'kerbala': 4, 'shiite': 4, 'OvarGu3Belsyxnll5FhK99HkfYZIrG7ASet7BCOJ3CZM6NTNNiAMxmwvh77E8ZtBQ': 2, '9OA9qLbfC8DsNehrieEQGGVjBPr2JrOhj': 2, 'VvC': 2, 'fAWpwvQxHgHMIogrx2M3SgmC': 2, 'refugee': 6, 'boy': 6, 'support': 6, 'family': 12, 'OvarGu3Belsyxnll5FhK9': 4, 'p1qpC': 2, 'sUgV': 2, 'lmN3zys6ni2qnv7eMmNTZHbLrzEyOR9vM9': 2, 'jOaZt1YsqbG1kN2gsljgLp': 2, 'JohycBM1D91taQ1vpjZYXvH8EP8pcHLvuK9Jk': 2, 'Kwandengezi': 2, 'generations': 6, 'African': 2, 'south': 4, 'african': 4, 'Venezuela': 2, '3vppPSPv6mbs90Fo4P9UyByFpAjuPdH0v': 2, 'UUnB': 2, 'e936aGptryzYVrDWOz0OjdZV4': 2, 'x9tbAFaTbvpFr1XgTWYFFJFVIB5QL3ro0wecb9x7k': 2, 'Caracas': 2, 'Venezuelan': 2, 'crisis': 8, 'spawns': 6, 'boom': 6, 'gambling': 6, 'venezuelan': 4, 'Pakistan': 4, 'OvarGu3Belsyxnll5FhK94xua2Z7uljuHk2NzuzM6i2q5Zletm1401BcJ0KbayS5PoNPrI6YquXGHGP9jOd6hRLvHqjtrA0kjKADMlSgprJJ74iEoSHWPczphUfWSrxG': 2, 'Murree': 2, 'debates': 6, 'fill': 6, 'education': 6, 'gaps': 6, 'pakistan': 4, 'OvarGu3Belsyxnll5FhK976gKV5fqHPfs': 2, 'amAkkxAjcfILt8n3wbPzB36obZlEgQo9UOd0eWOd4G6zB1p8NxVeJiO9dNYIG0MRigkyek': 2, '89R4XeL80UUZkuy9M4oyKmz': 2, 'life': 6, 'laid': 6, 'bare': 6, 'rubbish': 6, 'Thames': 2, 'london': 4, 'thames': 4, 'photographer': 4, 'Dakar': 2, 'Senegal': 2, 'xUd0Su18h5LtFwV9EVkTdikc': 2, 'J5FDvNObZIFMPpMds7qWjHRWUXjREkahX2UuKVGdVS2W': 2, 'jwSPGjXhXa0HGg2CvNvKD7MnuA3e5': 2, 'ARm1c': 2, 'quote': 2, 'challenge': 4, 'preconceived': 2, 'notions': 2, 'issue': 4, 'stereotypes': 2, 'rethink': 2, 'Finbarr': 2, 'u2019Reilly': 2, 'finbarr': 4, 'oreilly': 4, 'slideshow': 4, 'wider': 4, 'org': 2, 'text': 6, 'Battered': 2, 'GE': 2, 'lure': 2, 'buyers': 2, 'worst': 2, 'goes': 2, 'offline': 2, '9': 2, 'billion': 8, 'stake': 4, 'grocer': 2, 'bank': 2, 'examiners': 2, 'lighter': 2, 'touch': 2, 'OCC': 2, 'Noreika': 2, 'listens': 2, 'bankers': 2, 'worries': 2, 'draws': 2, 'stage': 2, 'Myanmar': 2, 'resolve': 2, 'Iraqi': 2, 'Federal': 2, 'referendum': 2, 'unconstitutional': 2, 'Australia': 4, 'NZ': 4, 'officials': 2, 'discuss': 2, 'screening': 2, 'Manus': 2, 'PM': 2, 'Bipartisan': 2, 'Harvard': 2, 'panel': 2, 'Exclusive': 2, 'Qualcomm': 2, 'set': 2, 'win': 2, 'conditional': 2, 'antitrust': 2, 'okay': 2, 'NXP': 2, 'Toshiba': 2, 'gains': 2, 'breathing': 2, 'share': 2, 'overseas': 2, 'patent': 2, 'review': 2, 'board': 2, 'conservative': 2, 'nuclear': 2, 'resist': 2, 'illegal': 2, 'strike': 2, 'Obamacare': 2, 'mandate': 2, 'bargaining': 2, 'chip': 2, 'Mnuchin': 2, 'UAE': 2, 'oil': 2, 'firm': 2, 'ADNOC': 2, 'percent': 2, 'fuel': 2, 'unit': 2, 'Altice': 2, 'plans': 2, 'sell': 2, 'tackle': 2, 'debts': 2, 'Mediclinic': 2, 'Spire': 2, 'Healthcare': 2, 'NEWSLETTERS': 2, 'delivered': 4, 'email': 2, 'box': 2, 'absolutely': 2, 'free': 2, 'start': 2, 'day': 4, 'Ex': 2, 'cops': 2, 'jump': 2, 'legal': 4, 'weed': 2, 'business': 8, 'former': 2, 'Canadian': 2, 'police': 2, 'chief': 2, 'colleagues': 2, 'fought': 2, 'marijuana': 2, 'switched': 2, 'embraced': 2, 'looming': 2, 'legalization': 2, 'cannabis': 2, 'leap': 2, 'Breakfast': 2, 'Tiffany': 2, 'Fifth': 2, 'Avenue': 2, 'store': 2, 'cafe': 2, '21': 2, 'braces': 2, 'trash': 2, 'catastrophe': 2, 'Singles': 2, 'Day': 2, 'Medical': 2, 'watch': 2, 'AI': 2, 'monitor': 2, 'health': 2, 'firebrand': 2, 'layout': 12, 'heading': 12, 'contains': 12, 'Lessons': 6, 'log': 6, 'Sponsor': 6, 'Logo': 6, 'appendTo': 6, 'adSponsorFeatureLL': 6, 'llmodule': 2, 'Twitter': 8, 'Chat': 6, 'tc': 2, 'bvmodule': 2, 'callAds': 2, 'Follow': 14, 'Facebook': 2, 'RSS': 2, 'Instagram': 2, 'YouTube': 2, 'LinkedIn': 2, 'Subscribe': 2, 'Feeds': 2, 'Newsletters': 2, 'Apps': 2, 'Plus': 2, 'Agency': 2, 'Brand': 2, 'Attribution': 2, 'Guidelines': 4, 'Careers': 2, 'division': 2, 'Thomson': 6, 'world’s': 2, 'largest': 2, 'international': 4, 'multimedia': 2, 'provider': 2, 'reaching': 2, 'provides': 2, 'trusted': 2, 'professionals': 4, 'via': 4, 'desktops': 2, 'world': 2, 'organizations': 2, 'directly': 2, 'consumers': 2, 'Learn': 2, 'products': 2, 'Eikon': 2, 'Information': 2, 'exclusive': 2, 'intuitive': 2, 'desktop': 2, 'mobile': 2, 'interface': 2, 'Elektron': 2, 'empower': 2, 'workflow': 2, 'enhance': 2, 'enterprise': 2, 'management': 2, 'Check': 2, 'Screen': 2, 'heightened': 2, 'risk': 2, 'individuals': 2, 'entities': 2, 'globally': 2, 'uncover': 2, 'hidden': 2, 'risks': 2, 'relationships': 2, 'human': 2, 'networks': 2, 'Westlaw': 2, 'Build': 2, 'strongest': 2, 'argument': 2, 'relying': 2, 'authoritative': 2, 'attorney': 2, 'editor': 2, 'expertise': 2, 'industry': 4, 'defining': 2, 'ONESOURCE': 2, 'comprehensive': 2, 'solution': 2, 'manage': 2, 'complex': 2, 'expanding': 2, 'compliance': 2, 'CHECKPOINT': 2, 'online': 2, 'accounting': 2, 'finance': 2, 'quotes': 2, 'delayed': 2, 'minimum': 2, 'complete': 2, 'list': 2, 'exchanges': 2, 'delays': 2, 'write': 2, 'copy': 2, 'getFullYear': 2, 'Rights': 2, 'Reserved': 2, 'Site': 2, 'Feedback': 2, 'Corrections': 2, 'Advertising': 2, 'Cookies': 2, 'Terms': 2, 'Privacy': 2, 'Policy': 2, 'sclTracking': 6, 'scrollTracker': 2, 'inAppleMobileDevice': 2, 'scroll': 4, 'playerdomain': 2, 'queso': 2, 'cdn': 2, 'prod': 2, 'tv': 2, 'sections': 2, 'autoDetect': 2, 'authors': 2, 'Editorial': 2, 'loadChartbeat': 6, 'endpt': 2, 'createElement': 2, 'script': 2, 'setAttribute': 6, 'language': 2, 'javascript': 4, 'static': 2, 'chartbeat': 4, 'js': 4, 'appendChild': 2, 'oldonload': 4, 'onload': 6}\n"
     ]
    }
   ],
   "source": [
    "\n",
    "    \n",
    "from urllib import request\n",
    "import string\n",
    "url = 'https://www.reuters.com'\n",
    "f = request.urlopen(url)\n",
    "source_bytes = f.read()\n",
    "source = source_bytes.decode('utf-8')\n",
    "#print(source)\n",
    "\n",
    "with open(url[8:] + \".html.txt\", \"w\", encoding = 'UTF8') as ff:\n",
    "    ff.write(source)\n",
    "\n",
    "# print(len(source))\n",
    "flag = False\n",
    "cnt = 0\n",
    "str1 = ' '\n",
    "for x in source :\n",
    "    if (x == '<') or (flag == True) : \n",
    "        flag = True\n",
    "        if x == '<' :\n",
    "            cnt = cnt + 1\n",
    "        if x == '>'  :\n",
    "            cnt = cnt - 1\n",
    "            #flag = False\n",
    "        if cnt == 0 :\n",
    "            flag = False\n",
    "        continue\n",
    "    elif flag == False :\n",
    "        str1 = str1 + x\n",
    "\n",
    "while True : \n",
    "    str1 = str1[:str1.find('-->')] + str1[str1.find('-->') + 3:]\n",
    "    if str1.find('-->') == -1 :\n",
    "        break;\n",
    "#print(string.punctuation)\n",
    "str2 =''\n",
    "for x in str1 :\n",
    "    if(x not in list(string.punctuation)) :\n",
    "        str2 = str2 + x\n",
    "    else :\n",
    "        str2 = str2 + \" \"\n",
    "        \n",
    "# 사전 정의\n",
    "d = {}\n",
    "for x in str2.split() :\n",
    "    d[x] = str2.split().count(x)\n",
    "    \n",
    "##print(d)\n",
    "#print(str2.split())\n",
    "#print(len(str1.split()))\n",
    "\n",
    "\n",
    "li = []   #불용어 리스트 추려내기\n",
    "\n",
    "with open(\"nouse.txt\", \"r\") as f:\n",
    "    for i in f :\n",
    "        if i !='' :\n",
    "            li.append(i.strip())\n",
    "\n",
    "for i in range(li.count(\"\")) :\n",
    "    li.remove(\"\")\n",
    "\n",
    "#print(li)\n",
    "\n",
    "# 사전 객체에 불용어 리스트를 삭제하기\n",
    "li1 = li.copy()\n",
    "\n",
    "for i in li :\n",
    "    li1.append(i.upper())\n",
    "    li1.append(i.capitalize())\n",
    "\n",
    "#print(li1)\n",
    "for i in li1:\n",
    "    if i in d:\n",
    "        del d[i]\n",
    "\n",
    "## 사전 객체를 피클을 통해서 파일 만들기\n",
    "f = open(url[8:]+\".word.frequency\", \"bw\")\n",
    "\n",
    "pickle.dump(d, f)\n",
    "f.close()\n",
    "\n",
    "f = open(url[8:] +\".word.frequency\", \"br\")\n",
    "\n",
    "dd = pickle.load(f)\n",
    "print(dd)"
   ]
  },
  {
   "cell_type": "code",
   "execution_count": 23,
   "metadata": {},
   "outputs": [
    {
     "name": "stdout",
     "output_type": "stream",
     "text": [
      "power\n",
      "{'www.reuters.com': 8, 'www.koreaherald.com': 2}\n",
      "우선도 : 1 www.reuters.com\n",
      "우선도 : 2 www.koreaherald.com\n"
     ]
    }
   ],
   "source": [
    "urlTuple = ('www.nytimes.com','www.reuters.com','www.koreaherald.com','www.yahoo.com','en.wikipedia.org')\n",
    "stri = input()\n",
    "d = {}\n",
    "for i in urlTuple :\n",
    "    f = open(i +\".word.frequency\", \"br\")\n",
    "    dic = pickle.load(f)  # 사전 데이터 받기\n",
    "    if stri in dic :\n",
    "        d[i] = dic[stri] # 사전 데이터를 키 값으로 대입하기\n",
    "\n",
    "print(d)\n",
    "max = 0\n",
    "d2 = dict(zip(d.values() , d.keys()))  # 사전 정렬을 위해 값과 키값이 바뀐 사전을 새로이 만든다.\n",
    "#print(d2)\n",
    "li1 = list(d2.keys())\n",
    "li1.sort(reverse = True)    # 정렬을 한다.\n",
    "j = 1\n",
    "for i in li1 :\n",
    "    print(\"우선도 : \" , end =\"\")\n",
    "    print(j, end = \" \")\n",
    "    print(d2[i])\n",
    "    j = j + 1\n",
    "    \n",
    "\n",
    "## 사용자에게 단어를 받는다. "
   ]
  },
  {
   "cell_type": "markdown",
   "metadata": {},
   "source": [
    "## 코드 설명\n",
    "먼저 2부분으로 나눈다. 첫번째 부분은 불용어 리스트를 얻어서 그것으로 용어들을 추려내고 그것을 토대로 개수를 새어 사전형식으로 만들고 그것을 피클 객체으로 파일 저장하는 코드이고 두번째 부분은  피클 객체를 저장한 파일을 읽어들여서 사전의 객체를 불러들여서 사용자가 입력한 단어와 비교해서 유사도를 체크하는 코드이다. 여기서 주의할 점이 피클 객체로 읽고 쓰려면 바이너리 모드로 사용해야된다. 또한 불용어를 받을 때 as As <- 이런식으로 대문자와 소문자도 섞여 들어간 것도 같은 단어로 취급해야되므로 대문자와 소문자를 같이 받도록 취급한다. 또한 사전 키값을 받고 횟수값을 바로 출력할 수 있도록 미리 정렬한 사전을 만들어내서 이걸 이용해야된다.\n"
   ]
  },
  {
   "cell_type": "markdown",
   "metadata": {
    "collapsed": true
   },
   "source": [
    "# 미숙한점\n",
    "내가 생각하기에는 이 코드가 충분한 검색엔진이 되기에는 많이 부족해보인다고 생각이든다. 일단 유사도를 출력하는 함수는 구현을 하였지만, 먼저 관련된 단어를 찾지를 못한다. 예를 들자면, food 라고 검색하면 그와 관련된 apple, chicken 이렇듯 음식에 관한 관련된 단어도 서칭이 되어야 된다. 또한 어떤 홈페이지를 서칭할 때 그 홈페이지와 연관된 페이지도 같이 서칭을 해야한다고 생각이 된다. 예를 들자면 yahoo에도 하이퍼링크가 걸려있는 페이지등이 있는데 그것들도 서칭이 되어야 된다고 생각된다. 또 코드에서 의미 없는 코드등이 약간 검출된 경우도 있었다 예를들면 01254asdasa52 이런 의미없는 코드들도 배제를 해야 제대로된 검색엔진이 된다고 생각이 든다.\n"
   ]
  },
  {
   "cell_type": "markdown",
   "metadata": {},
   "source": [
    "### 소감\n",
    "점점 파이썬 과제를 하면서 난이도가 많이 증가되는 것을 많이 느꼈다. 과제를 하면서 많은 시간을 보냈지만 실력은 증가된 것 같아 뭔가 보람찼다."
   ]
  },
  {
   "cell_type": "code",
   "execution_count": null,
   "metadata": {
    "collapsed": true
   },
   "outputs": [],
   "source": []
  }
 ],
 "metadata": {
  "kernelspec": {
   "display_name": "Python 3",
   "language": "python",
   "name": "python3"
  },
  "language_info": {
   "codemirror_mode": {
    "name": "ipython",
    "version": 3
   },
   "file_extension": ".py",
   "mimetype": "text/x-python",
   "name": "python",
   "nbconvert_exporter": "python",
   "pygments_lexer": "ipython3",
   "version": "3.6.1"
  }
 },
 "nbformat": 4,
 "nbformat_minor": 2
}
