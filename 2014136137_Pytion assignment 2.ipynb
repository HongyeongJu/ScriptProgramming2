{
 "cells": [
  {
   "cell_type": "markdown",
   "metadata": {},
   "source": [
    "# 스크립트 프로그래밍 과제2 \n",
    "## 이름 : 홍영주\n",
    "## 학번 : 2014136137\n",
    "## 분반 : 1분반"
   ]
  },
  {
   "cell_type": "markdown",
   "metadata": {},
   "source": [
    "# 문제 1\n",
    "다음 6 개의 Expression에 대해 Evaluation 결과 값을 출력하고, 해당 결과가 나온 이유에 대해 설명하시오\n",
    "- 1 and 2 and 3 and 4\n",
    "- 1 or 2 or 3 or 4\n",
    "- 1 and 2 or 3 and 4\n",
    "- (1 and 2) or (3 and 4)\n",
    "- 1 or 2 and 3 or 4\n",
    "- (1 or 2) and (3 or 4)"
   ]
  },
  {
   "cell_type": "code",
   "execution_count": 2,
   "metadata": {},
   "outputs": [
    {
     "name": "stdout",
     "output_type": "stream",
     "text": [
      "4\n",
      "1\n",
      "2\n",
      "2\n",
      "1\n",
      "3\n"
     ]
    }
   ],
   "source": [
    "print(1 and 2 and 3 and 4)\n",
    "print(1 or 2 or 3 or 4)\n",
    "print(1 and 2 or 3 and 4)\n",
    "print((1 and 2) or (3 and 4))\n",
    "print(1 or 2 and 3 or 4)\n",
    "print((1 or 2) and (3 or 4))"
   ]
  },
  {
   "cell_type": "markdown",
   "metadata": {},
   "source": [
    "### 코드 설명\n",
    "and와 or는 C언어와 자바에서 && 와 || 인데 각 기능은 똑같다. 먼저 and는 왼쪽 피연산자와 오른쪽 피연산자를 비교하는데 왼쪽이 참이라도 오른쪽이 거짓일 수도 있으니까 오른쪽을 검사한다. 그래서 첫번째 줄은 1(참), 2(참), 3(참), 4(참) 즉 4개 출력되는 것이다.\n",
    "반면 or는 피연산자중 어느 것이든 참이 나오면 그 문장이 참이므로 참이 나오는 즉시 출력을 해주면된다. 즉 1(참) 되면 바로 종료가되서 출력이 되는 것이다. \n",
    "나머지도 이와 마찬가지로 and가 나오면 오른쪽이 출력되는 것이고 or가 나오면 왼쪽이 출력된다고 생각하면 이해하기가 편하다."
   ]
  },
  {
   "cell_type": "markdown",
   "metadata": {},
   "source": [
    "# 문제 2\n",
    "경로에 해당하는 문자열 1개를 입력 받아 그 안에 디렉토리 경로명과 파일명을 분리하여 리스트로 반환하는 함수 div_path(s)를 작성하시오.\n",
    "인자로 전달하는 문자열은 경로만 들어간다고 가정한다.\n",
    "각 디렉토리와 파일을 구분하는 문자는 '/'로 가정한다.\n",
    "반환하는 리스트의 첫번째 원소는 디렉토리이고 두번째 원소는 파일명이다.\n",
    "다음과 같은 실행 및 출력 결과가 도출되어야 한다.\n",
    "div_path('/usr/local/bin/python')\n",
    "['/usr/local/bin', 'python']\n",
    "div_path('/home/chulsoo/test.txt')\n",
    "['/home/chulsoo', 'test.txt']\n",
    "[참고] 리스트(l) 내에 새로운 정수값 (예를 들어 10)을 넣는 방법은 l.append(10) 이다."
   ]
  },
  {
   "cell_type": "code",
   "execution_count": 48,
   "metadata": {
    "collapsed": true
   },
   "outputs": [],
   "source": [
    "def div_path(str1) :\n",
    "    cnt = str1.count('/')\n",
    "    i = 0\n",
    "    c = 1\n",
    "    l = [str1.find('/')]\n",
    "    for x in range(len(str1)) :\n",
    "        if str1[x] == '/' :\n",
    "            c = c + 1\n",
    "        if c > cnt :\n",
    "            str2 = str1[:x] +\" \" +str1[x + 1:]\n",
    "            return str2.split()\n",
    "            break\n",
    "        i = i+ 1"
   ]
  },
  {
   "cell_type": "code",
   "execution_count": 49,
   "metadata": {},
   "outputs": [
    {
     "data": {
      "text/plain": [
       "['/usr/local/bin', 'python']"
      ]
     },
     "execution_count": 49,
     "metadata": {},
     "output_type": "execute_result"
    }
   ],
   "source": [
    "div_path('/usr/local/bin/python')"
   ]
  },
  {
   "cell_type": "markdown",
   "metadata": {},
   "source": [
    "# 문제 3\n",
    "두 개의 리스트를 인자로 받아서 그 두 개의 리스트에 대한 '합집합'을 반환하는 함수 list_union(lista, listb)를 작성하시오.\n",
    "인자로 전달하는 리스트 2 개에는 정수값만 들어간다고 가정하자.\n",
    "함수 내에서 새로운 리스트를 만들어 그 리스트 내에 인자로 받은 두 리스트의 모든 원소를 넣어 반환한다.\n",
    "반환하는 리스트에는 절대로 중복된 원소가 들어 있으면 안된다 (집합의 조건).\n",
    "반환하는 리스트는 정렬이 되어 있어야 한다.\n",
    "다음과 같은 실행 및 출력 결과가 도출되어야 한다.\n",
    "list_union([1, 2, 3], [1, 2, 4])\n",
    "[1, 2, 3, 4]\n",
    "list_union([-10, -5, 0, -1], [100, 9, 0, 9])\n",
    "[-10, -5, -1, 0, 9, 100]\n",
    "list_union([0, 1, 2], [0, 1, 2])\n",
    "[0, 1, 2]\n",
    "[참고] 리스트(l) 내에 새로운 정수값 (예를 들어 10)을 넣는 방법은 l.append(10) 이다.\n",
    "[참고] 임의의 정수값 (x)이 리스트 (l) 내에 존재하는지 판단하는 방법은 x in l 이다."
   ]
  },
  {
   "cell_type": "code",
   "execution_count": 90,
   "metadata": {},
   "outputs": [
    {
     "name": "stdout",
     "output_type": "stream",
     "text": [
      "[2, 3, 4, 60, 5, 1]\n",
      "6\n",
      "[1, 2, 3, 4, 5, 60]\n"
     ]
    }
   ],
   "source": [
    "def list_union(l1, l2) :\n",
    "    for x in l1 :\n",
    "        if x not in l2 :\n",
    "            l2.append(x)\n",
    "    min = 0\n",
    "#    print(l2)\n",
    "#    print(len(l2))\n",
    "    l3 = l2\n",
    "    for x in range(len(l2) - 1) :\n",
    "        min = x\n",
    "        for y in range(x + 1,len(l2)) : # range 함수는 range(처음, 종료, 스텝)\n",
    "            if(l3[min] > l3[y]) :\n",
    "                min = y\n",
    "        \n",
    "        tmp = l3[x]\n",
    "        l3[x] = l3[min]\n",
    "        l3[min] = tmp\n",
    "        \n",
    "    print(l3)\n",
    "list_union([1,2,3, 60], [2,3,4, 60, 5])"
   ]
  },
  {
   "cell_type": "markdown",
   "metadata": {},
   "source": [
    "### 과제 설명\n",
    "1:먼저 이 함수를 정의를 def 키워드를 사용해서 정의를 한다.\n",
    "2 ~ 4: for문을 사용하여 첫번째 리스트에 있는 값을 받고 두번째 리스트에 없는 것들을 두번째 리스트에 넣는다.\n",
    "8~ 17 : 먼저 임의의 3번째 리스트를 새롭게 만든다. for문을 사용하여 l2의 리스트를 선택정렬 알고리즘을 사용하여 선택정렬을 실시한다.\n",
    "19 : 결과를 출력한다."
   ]
  },
  {
   "cell_type": "markdown",
   "metadata": {},
   "source": [
    "# 문제 4  ACM-ICPC \n",
    "\n",
    "0보다 크거나 같고, 99보다 작거나 같은 정수가 주어질 때 다음과 같은 연산을 할 수 있다. 먼저 주어진 수가 10보다 작다면 앞에 0을 붙여 두 자리 수로 만들고, 각 자리의 숫자를 더한다. 그 다음, 주어진 수의 가장 오른쪽 자리 숫자와 앞에서 구한 합의 가장 오른쪽 자리 숫자를 이어 붙이면 새로운 수를 만들 수 있다. 다음 예를 보자.\n",
    "\n",
    "26부터 시작한다. 2+6 = 8이다. 새로운 숫자는 68이다. 6+8 = 14이다. 새로운 숫자는 84이다. 8+4 = 12이다. 새로운 숫자는 42이다. 4+2 = 6이다. 새로운 숫자는 26이다.\n",
    "\n",
    "위의 예는 4번만에 원래 숫자로 돌아올 수 있다. 따라서 26의 사이클의 길이는 4이다.\n",
    "\n",
    "N이 주어졌을 때, N의 사이클의 길이를 구하는 프로그램을 작성하시오."
   ]
  },
  {
   "cell_type": "code",
   "execution_count": 3,
   "metadata": {},
   "outputs": [
    {
     "name": "stdout",
     "output_type": "stream",
     "text": [
      "50\n",
      "3\n"
     ]
    }
   ],
   "source": [
    "i = input()\n",
    "i = int(i)\n",
    "num = i\n",
    "first = 0\n",
    "second = 0\n",
    "count = 0\n",
    "if i < 10 :\n",
    "    first = 0\n",
    "    second = i\n",
    "else :\n",
    "    first  = i // 10\n",
    "    second = i % 10\n",
    "tmp = first + second\n",
    "i = (tmp % 10) + (i % 10) * 10\n",
    "count = count + 1\n",
    "\n",
    "while num != i :\n",
    "    if i < 10 :\n",
    "        first = 0\n",
    "        second = i\n",
    "    else :\n",
    "        first  = i // 10\n",
    "        second = i % 10\n",
    "    tmp = first + second\n",
    "    i = (tmp % 10) + (i % 10) * 10\n",
    "    count = count + 1\n",
    "print(count)"
   ]
  },
  {
   "cell_type": "markdown",
   "metadata": {},
   "source": [
    "# 결과\n",
    "![caption](https://github.com/HongyeongJu/ScriptProgramming2/blob/master/4.png?raw=trueScriptProgramming2/4.png)"
   ]
  },
  {
   "cell_type": "markdown",
   "metadata": {},
   "source": [
    "### 과제 설명\n",
    "1~6 : 숫자를 i에 입력받고 대입킨다. 그리고 num 이라는 변수에 입력 받은 숫자를 대입한다.\n",
    "7 ~ 12 :입력 받은 숫자를 첫번째 숫자 두번째 숫자로 나누는데 만약 10보다 작으면 첫번째 숫자는 0 두번째 숫자는 i으로 초기화시켜준다.\n",
    "13~ 15 : 첫번째 자리와 두번째 자리를 더한 값을 tmp에 대입시키고 tmp의 맨 오른쪽 숫자와 i의 맨 오른쪽 숫자에 *10 을 곱하고 서로 더해서 (i의 오른쪽숫자)(tmp의 맨 오른쪽 숫자)를 i에 대입시켜준다 그리고 count를 세준다.\n",
    "\n",
    "17~ 26 : 처음 받은 num 숫자와 i와 같은지 안같은지를 비교하고 같지 않다면 7~15를 반복한다.\n",
    "27 :  결과를 출력해준다.\n"
   ]
  },
  {
   "cell_type": "markdown",
   "metadata": {},
   "source": [
    "# 문제 5\n",
    "[Incremental Project] 웹 URL로 지정된 웹페이지를 문자열로 가져와 1) 모든 HTML 태그를 제외한 순수 텍스트 문자열만을 걸러내고, 2) 그 순수 텍스트 문자열 안에 존재하는 단어가 총 몇개인지 출력하는 프로그램을 작성하시오.\n",
    "\n",
    "HTML 태그는 다음 조건을 가지는 것이다.\n",
    "\n",
    "< 로 시작하여 >로 끝난다.\n",
    "예를 들어, 아래와 같은 HTML 내용 내에 한 줄이 있다고 가정하자.\n",
    "<label for=\"keep_signed\">로그인 유지</label>\n",
    "위 소스에서 HTML 태그를 제외한 순수 텍스트 문자열은 아래와 같다.\n",
    "로그인 유지\n",
    "한편, 아래와 같은 HTML 한 줄이 있다고 가정하자.\n",
    "<link rel=\"stylesheet\" href=\"/common/css/xe.min.css?20150910092654\" />\n",
    "위 소스는 HTML 태그로만 구성된 것이며 걸러낼 수 있는 순수 텍스 문자열은 존재하지 않는다.\n",
    "단어를 나누는 기준은 오로지 공백문자 (whitespace)이다.\n",
    "\n",
    "즉, 위 순수 텍스트 문자열인 \"로그인 유지\"에서 분리한 단어는 \"로그인\"과 \"유지\"이다.\n",
    "중복을 고려하지 않고 무조건 모든 단어의 개수를 세어서 출력한다.\n",
    "본 숙제를 위하여 HTML 파싱과 관련된 모듈 (예. BeautifulSoup) 사용 금지\n",
    "다음은 URL로 지정된 웹페이지를 특정 문자열로 가져오는 코드이다.\n",
    "즉, 숙제 코드는 아래 코드로 부터 시작해야 한다."
   ]
  },
  {
   "cell_type": "code",
   "execution_count": 4,
   "metadata": {},
   "outputs": [
    {
     "name": "stdout",
     "output_type": "stream",
     "text": [
      "460\n"
     ]
    }
   ],
   "source": [
    "from urllib import request\n",
    "\n",
    "url = 'http://cse.koreatech.ac.kr'\n",
    "f = request.urlopen(url)\n",
    "source_bytes = f.read()\n",
    "source = source_bytes.decode('utf-8')\n",
    "# print(len(source))\n",
    "flag = False\n",
    "cnt = 0\n",
    "str1 = ' '\n",
    "for x in source :\n",
    "    if (x == '<') or (flag == True) : \n",
    "        flag = True\n",
    "        if x == '<' :\n",
    "            cnt = cnt + 1\n",
    "        if x == '>'  :\n",
    "            cnt = cnt - 1\n",
    "            flag = False\n",
    "        if cnt == 0 :\n",
    "            flag = False\n",
    "        continue\n",
    "    else :\n",
    "        str1 = str1 + x\n",
    "\n",
    "while True : \n",
    "    str1 = str1[:str1.find('-->')] + str1[str1.find('-->') + 3:]\n",
    "    if str1.find('-->') == -1 :\n",
    "        break;\n",
    "#print(str1.split())\n",
    "print(len(str1.split()))"
   ]
  },
  {
   "cell_type": "markdown",
   "metadata": {
    "collapsed": true
   },
   "source": [
    "### 과제 설명\n",
    "3~6 : url 변수를 통해 받고자하는 사이트의 주소를 입력하고 그곳을 향해 데이터 요청을 한다. 그것을 바이트 형식으로 읽어들인 후 사람이 읽을 수 있도록 utf-8형식으로 변환해준다.\n",
    "8~10 : 처음에 flag와 cnt를 설정하여 괄호가 닫혀있고 안닫혀있음을 확인 하고 생략또는 출력할 것인지 결정하게 만들도록 준비를 해준다.\n",
    "11~23 : for문을 통해 데이터를 받고 문자에서 < 나 flag가 true 일 때(생략을 해야만 할 때) if문을 사용해서 < 나 > 일 때를 각각 처리해준다 . 만약 <를 받는다면 cnt를 증가시켜서 괄호의 개수를 더해주고 >를 입력받는다면 괄호의 개수를 한개씩 줄이고 flag를 False로 만들어서 그 이후부터는 출력하도록 만든다. 만약 cnt가 0이면 괄호에 벗어난 것이므로 false로 설정한다. 생략은 continue로 구현한다. 또한 빈 str1 문자열을 사용해서 출력하고자 하는 문자들을 더해서 새로운 문자열로 만드는 형식으로 구현한다.\n",
    "\n",
    "25~28 : 위의 형식대로 구현을 하게 된다면, 한가지 문제점이 발생되는데 \"<(!)-- <...> <...> 데이터 <...> --> \" 이렇게 주석처리가 되있는 부분에서 문제점이 발생된다. 마지막 --> 가 출력이 되는데 이것은 주석 처리 문법이므로 --> 부분만 문자열에서 삭제할 수 있도록 슬라이싱과 find 함수를 통해서 없엘 수 있도록한다. \n",
    "30 : 결과를 출력한다."
   ]
  },
  {
   "cell_type": "markdown",
   "metadata": {},
   "source": [
    "### 소감\n",
    "추석 전에는 파이썬 문법을 어느 정도 기억이 났었는데, 추석이 끝나고 막상 파이썬을 보니까 하나도 기억이 안나서 예전 공부했던 것들을 다시 보면서 풀었습니다. 역시 프로그래밍은 매일 하는 것이 중요하다고 생각이 들었습니다."
   ]
  },
  {
   "cell_type": "code",
   "execution_count": null,
   "metadata": {
    "collapsed": true
   },
   "outputs": [],
   "source": []
  }
 ],
 "metadata": {
  "kernelspec": {
   "display_name": "Python 3",
   "language": "python",
   "name": "python3"
  },
  "language_info": {
   "codemirror_mode": {
    "name": "ipython",
    "version": 3
   },
   "file_extension": ".py",
   "mimetype": "text/x-python",
   "name": "python",
   "nbconvert_exporter": "python",
   "pygments_lexer": "ipython3",
   "version": "3.6.1"
  }
 },
 "nbformat": 4,
 "nbformat_minor": 2
}
